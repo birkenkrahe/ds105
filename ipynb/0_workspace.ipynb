{
  "cells": [
    {
      "cell_type": "markdown",
      "metadata": {},
      "source": "ds105-agenda-fall23\n===================\n\n"
    },
    {
      "cell_type": "markdown",
      "metadata": {},
      "source": [
        "## Code along in Python: unicorn companies\n\n"
      ]
    },
    {
      "cell_type": "markdown",
      "metadata": {},
      "source": [
        "This is a demo notebook using R and the R shell (R Core Team, 2022) as\npart of an DataCamp workspace demo originally developed by DataCamp\nfor Python (Schouwenaars & Cotton, 2022). Along the way, we'll also\ntest the \"AI\" and the shared editing functions. We use the \"unicorns\"\ndataset (CB Insights, 2023) to demonstrate the following data\nanalytics steps:\n\n1.  Importing a CSV file as a `data.frame`\n2.  Viewing `unique` column data\n3.  Cleaning a data frame column\n4.  Grouping data by column values\n5.  Creating a barplot of category counts\n\n"
      ]
    },
    {
      "cell_type": "markdown",
      "metadata": {},
      "source": [
        "### Unicorn Companies\n\n"
      ]
    },
    {
      "cell_type": "markdown",
      "metadata": {},
      "source": [
        "A [unicorn company](https://en.wikipedia.org/wiki/Unicorn_(finance)) is a privately held startup company with a current\nvaluation of over $1 billion USD. In this workspace, we'll be looking\nat a dataset that consists of unicorn companies and startups across\nthe globe as of November 2021, including country of origin, sector,\nselect investors, and valuation of each unicorn. Former unicorn\ncompanies that have since exited due to IPO (Initial Public Offering)\nor acquisitions are not included in this list.\n\n"
      ]
    },
    {
      "cell_type": "markdown",
      "metadata": {},
      "source": [
        "### Importing a CSV file as data frame\n\n"
      ]
    },
    {
      "cell_type": "markdown",
      "metadata": {},
      "source": [
        "We import the CSV file as a data frame and print the column headers\n(alongside other information) with the `str` function. If you only want\nthe headers as a vector, use `colnames` instead:\n\n"
      ]
    },
    {
      "cell_type": "code",
      "execution_count": 1,
      "metadata": {},
      "outputs": [],
      "source": [
        "df = read.csv('../data/unicorn_companies.csv')\nstr(df)\ncolnames(df)"
      ]
    },
    {
      "cell_type": "markdown",
      "metadata": {},
      "source": [
        "You can also print the data frame directly. When you run this cell,\neither with the mouse or by entering CTRL-ENTER, the first 10 records\nof the DataFrame `df` and the headline with the features are shown. At\nthe bottom of the output you see an option to create a `Chart` - better\nwait with that until you understand the data set better.\n\n"
      ]
    },
    {
      "cell_type": "code",
      "execution_count": 1,
      "metadata": {},
      "outputs": [],
      "source": [
        "df"
      ]
    },
    {
      "cell_type": "markdown",
      "metadata": {},
      "source": [
        "Though the data look quite clean and appealing, a table view is not\nthe best way to get an overview - there are too many records.\n\n"
      ]
    },
    {
      "cell_type": "markdown",
      "metadata": {},
      "source": [
        "### Viewing `unique` column data\n\n"
      ]
    },
    {
      "cell_type": "markdown",
      "metadata": {},
      "source": [
        "For investment purposes, the `Category` column or feature is most\ninteresting: this is the type of company. How many of these types\nare there?\n\nTo print out all unique categories, we can use the `unique`\nfunction, which will return all unique entries in the `Category`\ncolumn if we index the data frame accordingly.\n\n"
      ]
    },
    {
      "cell_type": "code",
      "execution_count": 1,
      "metadata": {},
      "outputs": [],
      "source": [
        "unique(df$Category) # df['Category'] or df[,5] also work"
      ]
    },
    {
      "cell_type": "markdown",
      "metadata": {},
      "source": [
        "You can see that there are duplicates because of typos\n(`Finttech`) and capitalization (`Artificial Intelligence`). Let's\nremove the ambiguities.\n\nTo get help, you can use `?` or the `help` function:\n\n    ?unique\n    help(unique)\n\nThere is a lot of help information here and you may want to look at it\non the web instead e.g. using [this function index for base R](https://stat.ethz.ch/R-manual/R-devel/library/base/html/00Index.html).\n\n"
      ]
    },
    {
      "cell_type": "markdown",
      "metadata": {},
      "source": [
        "### Testing the AI coding assistant\n\n"
      ]
    },
    {
      "cell_type": "markdown",
      "metadata": {},
      "source": [
        "This is a good place to show off your `AI` assistant: you may not know\nhow to look for help for `unique`. Add an `AI` code block. The assistant\nwill ask you for a prompt. For simple questions like these, almost any\nprompt will do, e.g. ``I need help for the function `unique`.`` The marks\naround `unique` will help the computer understand that you mean a\ncommand (these marks are also used for coding font markdown in text\nblocks).\n\nThe AI returns the whole documentation but We only want a short\nexplanation that an absolute beginner can understand. Let's ask for\nthat directly:\n> As an absolute beginner in R, I need a very short explanation\n> of what \\`unique\\` does and how I can use it on a column of a data\n> frame.The answer is good and short:\n> # The \\`unique\\` function in R returns the unique values in a vector or\n> # column of a data frame.  To use \\`unique\\` on a column of a data\n> # frame, you can specify the column name using the \\`$\\` operator.  For\n> # example, to get the unique values in the \"Company\" column of the\n> # \\`df\\` data frame:\n> unique(df$Company)To test the AI yet again, remove the last parenthesis after the\nfunction call to `unique`: `unique(df$Category`. This yields an error. At\nthe bottom of the output, you can click on `Fix & explain`. The\nexplanation is good.\n\nLet's try to trip the AI up. Replacing `$` by `%` does not work. The error\nis correctly identified and fixed. But if we try to run\n`unique(df[Category])`, the AI suggests the `$` operator once again and\ndoes not identify the quickest (or the alternative) solution,\n`unique(df['Category']`.\n\nThese experiments show that we're still quite far away from getting\nfully relieved of our coding burdens but for simple fixes, it's pretty\ngood.\n\n"
      ]
    },
    {
      "cell_type": "markdown",
      "metadata": {},
      "source": [
        "### Clean data frame column `Category`\n\n"
      ]
    },
    {
      "cell_type": "markdown",
      "metadata": {},
      "source": [
        "There are a couple of typos in the `Category` values: 'Artificial\nintelligence' needs to become 'Artificial Intelligence', and\n'Finttech' needs to become 'Fintech' everywhere in the dataframe.\n\nYou can do this with `gsub`, which matches the first argument\nand replaces it by the second everywhere in the column:\n\n"
      ]
    },
    {
      "cell_type": "code",
      "execution_count": 1,
      "metadata": {},
      "outputs": [],
      "source": [
        "## Correct typos in the 'Category' column\ndf$Category <- gsub(\"Artificial intelligence\", \"Artificial Intelligence\", df$Category)\ndf$Category <- gsub(\"Finttech\", \"Fintech\", df$Category)\n\n## Display the first few rows to verify the changes\nunique(df$Category)"
      ]
    },
    {
      "cell_type": "markdown",
      "metadata": {},
      "source": [
        "### Share editing rights\n\n"
      ]
    },
    {
      "cell_type": "markdown",
      "metadata": {},
      "source": [
        "One of the neater properties of DataCamp Workspace is the ability to\nshare your notebook and edit synchronously like in GoogleDocs.\n\nClick on the sharing sign at the top and share **editing** access\nwith your neighbor by using his/her email. Also, reduce \"General\naccess\" to \"Disable access\" - now nobody except those you invite via\nemail can see your file.\n\nYou have to use the person's email used for DataCamp - make sure\nit's their Lyon College email. Once they've been invited, you can\nlet them access to edit, view, comment or remove their access.\n\nPrint the cleaned dataframe `df` in each other's notebooks by\nadding a new code block with the command `df` and run it.\n\nOnce this is done, `Remove` access from your workspace for the\nother person.\n\n"
      ]
    },
    {
      "cell_type": "markdown",
      "metadata": {},
      "source": [
        "### Grouping data by column values\n\n"
      ]
    },
    {
      "cell_type": "markdown",
      "metadata": {},
      "source": [
        "Now that the categories are cleaned up, we group by `Category`. In R, we\ncan do this with the `dplyr` package, or with `data.table`, or with base\nR.\n\nWith base R, we can use the `stats::aggregate` function, which splits\nthe data into subsets.\n\n"
      ]
    },
    {
      "cell_type": "code",
      "execution_count": 1,
      "metadata": {},
      "outputs": [
        {
          "name": "stdout",
          "output_type": "stream",
          "text": [
            "#+begin_example\n                              Category Count\n1              Artificial Intelligence    72\n2                Auto & transportation    30\n3                    Consumer & retail    23\n4                        Cybersecurity    38\n5          Data management & analytics    35\n6      E-commerce & direct-to-consumer    97\n7                               Edtech    27\n8                              Fintech   185\n9                             Hardware    32\n10                              Health    62\n11        Internet software & services   164\n12         Mobile & telecommunications    36\n13                               Other    51\n14 Supply chain, logistics, & delivery    51\n15                              Travel    14\n#+end_example"
          ]
        }
      ],
      "source": [
        "## Group by 'Category' and get the count in each category\ngrouped_df <- aggregate(Company ~ Category, data=df1, FUN=length)\ncolnames(grouped_df)[2] <- \"Count\"\n\n## Display the grouped data\ngrouped_df"
      ]
    },
    {
      "cell_type": "markdown",
      "metadata": {},
      "source": [
        "The function `order` returns a permutation that rearranges\nits first argument into ascending (default) or descending order:\n\n"
      ]
    },
    {
      "cell_type": "code",
      "execution_count": 1,
      "metadata": {},
      "outputs": [],
      "source": [
        "## Sort grouped_df by 'Count' in ascending order:\ngrouped_df <- grouped_df[order(grouped_df$Count),]\ngrouped_df"
      ]
    },
    {
      "cell_type": "markdown",
      "metadata": {},
      "source": [
        "### Creating a barplot of category counts\n\n"
      ]
    },
    {
      "cell_type": "markdown",
      "metadata": {},
      "source": [
        "Plotting is a cinch in R: the `barplot` function will create a simple\nbar plot of `grouped_df` right away:\n\n"
      ]
    },
    {
      "cell_type": "code",
      "execution_count": 1,
      "metadata": {},
      "outputs": [
        {
          "data": {
            "image/png": "[encoded data removed]",
            "text/plain": "<matplotlib.figure.Figure>"
          },
          "metadata": {},
          "output_type": "display_data"
        }
      ],
      "source": [
        "barplot(grouped_df$Count ~ sort(grouped_df$Category),\n        ylab = \"Frequency\", xlab = \"\",\n        main = \"Unicorn company distribution across industries\",\n        las = 2)"
      ]
    },
    {
      "cell_type": "markdown",
      "metadata": {},
      "source": [
        "Here is a more customized plot:\n\n"
      ]
    },
    {
      "cell_type": "code",
      "execution_count": 1,
      "metadata": {},
      "outputs": [
        {
          "data": {
            "image/png": "[encoded data removed]",
            "text/plain": "<matplotlib.figure.Figure>"
          },
          "metadata": {},
          "output_type": "display_data"
        }
      ],
      "source": [
        "## Order the rows in descending order based on 'Count'\ngrouped_df <- grouped_df[order(grouped_df$Count), ]\n\n## Use a nice color palette\nlibrary(RColorBrewer)\ncolors <- brewer.pal(length(grouped_df$Category), \"Pastel1\")\n\n## Set up the plot parameters\npar(mar=c(10, 5, 4, 2) + 0.1,\n    las=2,\n    mgp=c(3, 1, 0),\n    tcl=-0.3)\n\n## Create the barplot\nbarplot(\n  grouped_df$Count,\n  names.arg=grouped_df$Category,\n  col=colors,\n  main=\"Counts by Company Category\",\n  ylab=\"Count\",\n  border=\"white\",\n  cex.names=0.8)\n\n## Add grid lines\nabline(h=seq(0, max(grouped_df$Count), by=5),\n       col=\"gray\", lty=\"dotted\")"
      ]
    },
    {
      "cell_type": "markdown",
      "metadata": {},
      "source": [
        "## References\n\n"
      ]
    },
    {
      "cell_type": "markdown",
      "metadata": {},
      "source": [
        "CB Insights. The Complete List of Unicorn Companies. CB\nInsights. Published 2023. Accessed August\n19, 2023. [https://www.cbinsights.com/research-unicorn-companies](https://www.cbinsights.com/research-unicorn-companies)\n\nR Core Team. R: A language and environment for statistical\ncomputing. R Foundation for Statistical Computing; 2022. Accessed\nAugust 21, 2023. [https://www.R-project.org/](https://www.R-project.org/)\n\nSchouwenaars F, Cotton R. Unicorn\ncompanies. DataCamp. Published 2022. Accessed August\n19, 2023. [http://bit.ly/ws-unicorn](http://bit.ly/ws-unicorn)\n\n"
      ]
    },
    {
      "cell_type": "markdown",
      "metadata": {},
      "source": [
        "### References formatted in AMA style\n\n"
      ]
    },
    {
      "cell_type": "markdown",
      "metadata": {},
      "source": [
        "-   The names of all authors are inverted (the last name precedes the\n    initials of the first and middle names).\n-   All authors are separated by a comma, except for the last two\n    authors, which are separated by an ampersand (&).\n-   The title of the work is followed by the name of the website or\n    publisher.\n-   The publication year follows the publisher and is followed by the\n    access date.\n-   The URL is the final component of the citation.\n\n"
      ]
    }
  ],
  "metadata": {
    "org": null,
    "kernelspec": {
      "display_name": "R",
      "language": "R",
      "name": "ir"
    },
    "language_info": {
      "codemirror_mode": "r",
      "file_extension": ".r",
      "mimetype": "text/x-r-source",
      "name": "R",
      "pygments_lexer": "r",
      "version": "3.3.2"
    }
  },
  "nbformat": 4,
  "nbformat_minor": 0
}