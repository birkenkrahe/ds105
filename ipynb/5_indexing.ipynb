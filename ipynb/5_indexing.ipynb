{
  "cells": [
    {
      "cell_type": "markdown",
      "metadata": {},
      "source": [
        "1.  Load `mtcars`. Store the first 10 elements of the `mpg` column vector\n    in `mpg`, verify the vector's `length` and the data type `structure`.\n\n"
      ]
    },
    {
      "cell_type": "code",
      "execution_count": 1,
      "metadata": {},
      "outputs": [
        {
          "name": "stdout",
          "output_type": "stream",
          "text": [
            ":  [1] 21.0 21.0 22.8 21.4 18.7 18.1 14.3 24.4 22.8 19.2\n   :  num [1:10] 21 21 22.8 21.4 18.7 18.1 14.3 24.4 22.8 19.2"
          ]
        }
      ],
      "source": [
        "data(mtcars)\nmpg <- mtcars$mpg[1:10]\nmpg\nstr(mpg)"
      ]
    },
    {
      "cell_type": "markdown",
      "metadata": {},
      "source": [
        "1.  Turn the the 2nd through 4th element of `mpg` into `character` values.\n\n"
      ]
    },
    {
      "cell_type": "code",
      "execution_count": 1,
      "metadata": {},
      "outputs": [
        {
          "name": "stdout",
          "output_type": "stream",
          "text": [
            ": [1] \"21\"   \"22.8\" \"21.4\""
          ]
        }
      ],
      "source": [
        "as.character(mpg[2:4])"
      ]
    },
    {
      "cell_type": "markdown",
      "metadata": {},
      "source": [
        "1.  Extract all values of `mpg` that are smaller than 20. First generate\n    a logical flag vector and use it to index `mpg` to get the values.\n\n"
      ]
    },
    {
      "cell_type": "code",
      "execution_count": 1,
      "metadata": {},
      "outputs": [
        {
          "name": "stdout",
          "output_type": "stream",
          "text": [
            ":  [1] FALSE FALSE FALSE FALSE  TRUE  TRUE  TRUE FALSE FALSE  TRUE\n   : [1] 18.7 18.1 14.3 19.2"
          ]
        }
      ],
      "source": [
        "mpg < 20\nmpg[mpg < 20]"
      ]
    },
    {
      "cell_type": "markdown",
      "metadata": {},
      "source": [
        "1.  Use the function `which` to get the indices of those values of `mpg`\n    that are greater than 20. Use this result to extract the values\n    themselves.\n\n"
      ]
    },
    {
      "cell_type": "code",
      "execution_count": 1,
      "metadata": {},
      "outputs": [
        {
          "name": "stdout",
          "output_type": "stream",
          "text": [
            ": [1] 21.0 21.0 22.8 21.4 24.4 22.8"
          ]
        }
      ],
      "source": [
        "idx <- which(mpg>20)\nmpg[idx]"
      ]
    },
    {
      "cell_type": "markdown",
      "metadata": {},
      "source": [
        "1.  Print `mpg`. Print all intermediate results:\n    1.  Remove the last element from `mpg` and store it in `mpg1`.\n    2.  Next, remove the last 2 elements of `mpg1`, store it in `mpg2`.\n    3.  Next, remove the first two elements of `mpg2`, store it in `mpg3`.\n\n"
      ]
    },
    {
      "cell_type": "code",
      "execution_count": 1,
      "metadata": {},
      "outputs": [
        {
          "name": "stdout",
          "output_type": "stream",
          "text": [
            ":  [1] 21.0 21.0 22.8 21.4 18.7 18.1 14.3 24.4 22.8 19.2\n   : [1] 21.0 22.8 21.4 18.7 18.1 14.3 24.4 22.8 19.2\n   : [1] 21.4 18.7 18.1 14.3 24.4 22.8 19.2\n   : [1] 18.1 14.3 24.4 22.8 19.2"
          ]
        }
      ],
      "source": [
        "mpg\nmpg1 <- mpg[-1]\nmpg1\nmpg2 <- mpg1[-2:-1]\nmpg2\nmpg3 <- mpg2[-c(1,2)]\nmpg3"
      ]
    }
  ],
  "metadata": {
    "org": null,
    "kernelspec": {
      "display_name": "R",
      "language": "R",
      "name": "ir"
    },
    "language_info": {
      "codemirror_mode": "r",
      "file_extension": ".r",
      "mimetype": "text/x-r-source",
      "name": "R",
      "pygments_lexer": "r",
      "version": "3.3.2"
    }
  },
  "nbformat": 4,
  "nbformat_minor": 0
}