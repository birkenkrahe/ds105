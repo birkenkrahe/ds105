{
  "cells": [
    {
      "cell_type": "markdown",
      "metadata": {},
      "source": "Practice: Creating and subsetting data frames\n=============================================\n\n**Author:** [YourName]\n\n"
    },
    {
      "cell_type": "markdown",
      "metadata": {},
      "source": [
        "## Create data frame\n\n"
      ]
    },
    {
      "cell_type": "markdown",
      "metadata": {},
      "source": [
        "1.  Create the data frame shown in the image\n2.  Name the dataframe `df`\n3.  Print the dataframe\n4.  Print the dataframe's structure information\n\n"
      ]
    },
    {
      "cell_type": "code",
      "execution_count": 1,
      "metadata": {},
      "outputs": [],
      "source": [
        "## create dataframe df"
      ]
    },
    {
      "cell_type": "markdown",
      "metadata": {},
      "source": [
        "## Select subsets using index operators\n\n"
      ]
    },
    {
      "cell_type": "markdown",
      "metadata": {},
      "source": [
        "Select subsets using the index operators `$` and `[]`:\n\n1.  Select rows 1 to 2 using `[]`\n2.  Select column 2 using `[]` and `$`\n3.  Select row 3 of column 2  using `[]` and `$`\n4.  Select rows 1 to 3 in columns 3 and 4 using `[]` and `$`\n5.  Select rows 2 to 3, and columns 1 and 4 using `[]` and `$`\n\n"
      ]
    },
    {
      "cell_type": "code",
      "execution_count": 1,
      "metadata": {},
      "outputs": [],
      "source": [
        "## select subsets using index operators"
      ]
    },
    {
      "cell_type": "markdown",
      "metadata": {},
      "source": [
        "## Select indices and values using `which`, `names`, `%in%`\n\n"
      ]
    },
    {
      "cell_type": "markdown",
      "metadata": {},
      "source": [
        "Select data frame indices using functions `which`, `colnames` and `%in%`:\n\n1.  Print the column index for the column `price` using `colnames`\n2.  Store the row index for `textbook` in `idx`\n3.  Print the entry `textbook` using `idx`\n4.  Check if `pencil_case` is a store item using `%in%`\n\nFor the last question, the format of the `%in%` matching function to\nfind a string is: `string %in% vector`\n\n"
      ]
    },
    {
      "cell_type": "code",
      "execution_count": 1,
      "metadata": {},
      "outputs": [],
      "source": [
        ""
      ]
    },
    {
      "cell_type": "markdown",
      "metadata": {},
      "source": [
        "## Select subsets using the `subset` function\n\n"
      ]
    },
    {
      "cell_type": "markdown",
      "metadata": {},
      "source": [
        "Using `subset`,\n\n1.  Select product IDs above 20\n2.  Select all books listed\n3.  Select all items cheaper than $11 and in stock\n\n"
      ]
    },
    {
      "cell_type": "code",
      "execution_count": 1,
      "metadata": {},
      "outputs": [],
      "source": [
        "## select subsets using the subset function"
      ]
    }
  ],
  "metadata": {
    "org": null,
    "kernelspec": {
      "display_name": "R",
      "language": "R",
      "name": "ir"
    },
    "language_info": {
      "codemirror_mode": "r",
      "file_extension": ".r",
      "mimetype": "text/x-r-source",
      "name": "R",
      "pygments_lexer": "r",
      "version": "3.3.2"
    }
  },
  "nbformat": 4,
  "nbformat_minor": 0
}