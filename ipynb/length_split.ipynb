{
  "cells": [
    {
      "cell_type": "markdown",
      "metadata": {},
      "source": [
        "### Open problems\n\n"
      ]
    },
    {
      "cell_type": "markdown",
      "metadata": {},
      "source": [
        "1.  `lengths` vs. `length` ([doc](https://stat.ethz.ch/R-manual/R-devel/library/base/html/lengths.html))\n    \n    Example:\n\n"
      ]
    },
    {
      "cell_type": "code",
      "execution_count": 1,
      "metadata": {},
      "outputs": [
        {
          "name": "stdout",
          "output_type": "stream",
          "text": [
            ": [1] 3\n     : [1] 1 3 2\n     : [1] 11\n     :  mpg  cyl disp   hp drat   wt qsec   vs   am gear carb\n     :   32   32   32   32   32   32   32   32   32   32   32"
          ]
        }
      ],
      "source": [
        "# computes the length of lists or atomic vectors as an integer or numeric vector\nfoo <- list(1, c(2,3,4), list(letters[1:3],3.14))\nlength(foo)\nlengths(foo)\nlength(mtcars)\nlengths(mtcars)"
      ]
    },
    {
      "cell_type": "markdown",
      "metadata": {},
      "source": [
        "Compute the product of the lengths of all elements of `foo`:\n\n"
      ]
    },
    {
      "cell_type": "code",
      "execution_count": 1,
      "metadata": {},
      "outputs": [
        {
          "name": "stdout",
          "output_type": "stream",
          "text": [
            ": [1] 6\n     : [1] 6\n     : [1] 6"
          ]
        }
      ],
      "source": [
        "## manually\nlengths(foo)[1] * lengths(foo)[2] * lengths(foo)[3]\n## with prod\nprod(lengths(foo))\n## with a for loop\nresult = 1\nfor (element in lengths(foo)) result <- result * element\nprint(result)"
      ]
    },
    {
      "cell_type": "markdown",
      "metadata": {},
      "source": [
        "1.  `X22` into `22` in a `read.table` dataframe\n    \n    We read some text and numerical data into a table. Unfortunately,\n    there was a typo and now one of the values reads 'X22' instead\n    of 22. Fix it!\n\n"
      ]
    },
    {
      "cell_type": "code",
      "execution_count": 1,
      "metadata": {},
      "outputs": [],
      "source": [
        "## Create flawed table\nread.table(header = TRUE,\n           text=\"\n                 'name' 'age'\n                 'joe' 'X22'\n                 'jim' '23'\n\") -> name_age\nname_age"
      ]
    },
    {
      "cell_type": "markdown",
      "metadata": {},
      "source": [
        "      name age\n    1  joe X22\n    2  jim  23\n\n1.  Extract the element using `[]` and store it in `string`\n2.  Split the letter and the number using `strsplit`:\n    -   separate non-digit and the digit part with `gsub`\n    -   split modified string by the separating empty space with `strstplit`\n    -   `unlist` the result and st\n3.  Overwrite table with the number using `<-`\n\n"
      ]
    },
    {
      "cell_type": "code",
      "execution_count": 1,
      "metadata": {},
      "outputs": [
        {
          "name": "stdout",
          "output_type": "stream",
          "text": [
            ":   name age\n     : 1  joe  22\n     : 2  jim  23"
          ]
        }
      ],
      "source": [
        "string <- name_age[1,2]  #1  # output \"X22\"\n\n                                        #~ replace the non-digit character with a space\nstring_modified <- gsub(\"\\\\D\", \" \", string) # output \" 22\"\n\n## split the modified string by the empty string\nsplit_string <- unlist(strsplit(string_modified, \" \")) # output list \"\" \"22\"\n\n## reinsert the result as numeric in the table name_age\nname_age[1,2] <- as.numeric(split_string[2]) # output 22\n\n## print result\nname_age"
      ]
    },
    {
      "cell_type": "markdown",
      "metadata": {},
      "source": [
        "As one command:\n\n"
      ]
    },
    {
      "cell_type": "code",
      "execution_count": 1,
      "metadata": {},
      "outputs": [
        {
          "name": "stdout",
          "output_type": "stream",
          "text": [
            ":   name age\n     : 1  joe X22\n     : 2  jim  23\n     :   name age\n     : 1  joe  22\n     : 2  jim  23"
          ]
        }
      ],
      "source": [
        "extract <- function(x,index) x[index]\n\nname_age\n\ngsub(\"\\\\D\",\" \",name_age[1,2]) |>\n  strsplit(\" \") |>\n  unlist() |>\n  as.numeric() |>\n  extract(2) -> name_age[1,2]\n\nname_age"
      ]
    }
  ],
  "metadata": {
    "org": null,
    "kernelspec": {
      "display_name": "R",
      "language": "R",
      "name": "ir"
    },
    "language_info": {
      "codemirror_mode": "r",
      "file_extension": ".r",
      "mimetype": "text/x-r-source",
      "name": "R",
      "pygments_lexer": "r",
      "version": "3.3.2"
    }
  },
  "nbformat": 4,
  "nbformat_minor": 0
}