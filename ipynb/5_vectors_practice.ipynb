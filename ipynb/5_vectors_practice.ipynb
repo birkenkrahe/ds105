{
  "cells": [
    {
      "cell_type": "markdown",
      "metadata": {},
      "source": [
        "## File: 5<sub>vectors</sub><sub>practice.org</sub>\n\n"
      ]
    },
    {
      "cell_type": "markdown",
      "metadata": {},
      "source": [
        "DEADLINE: <span class=\"timestamp-wrapper\"><span class=\"timestamp\">&lt;2022-09-26 Mon 08:00&gt;</span></span>\n\n"
      ]
    },
    {
      "cell_type": "markdown",
      "metadata": {},
      "source": [
        "### README\n\n"
      ]
    },
    {
      "cell_type": "markdown",
      "metadata": {},
      "source": [
        "-   Practice file for the lecture on \"Vectors in R\" ([GitHub](https://github.com/birkenkrahe/ds1/blob/piHome/org/5_vectors.org))\n-   All content from \"Vectors in R\" is also available [on YouTube](https://www.youtube.com/playlist?list=PL6SfZh1-kWXl3_YDc-8SS5EuG4h1aILHz)\n-   Create, execute and debug R code blocks as needed\n-   Emacs + ESS + Org-mode and R must be installed\n-   Upload the completed file as a class assignment ([Canvas](https://lyon.instructure.com/courses/568/assignments/2952))\n\n"
      ]
    },
    {
      "cell_type": "markdown",
      "metadata": {},
      "source": [
        "### Pledge\n\n"
      ]
    },
    {
      "cell_type": "markdown",
      "metadata": {},
      "source": [
        "-   Update the `#+AUTHOR:` information in the header\n-   Add `(pledged)` after your name\n-   Put your cursor on the headline of this section, and type `S <LEFT>`\n    until you see `DONE` instead of `TODO` next to the title.\n-   Perform this last step each time you complete a section.\n\n"
      ]
    },
    {
      "cell_type": "markdown",
      "metadata": {},
      "source": [
        "### Create and store a sequence\n\n"
      ]
    },
    {
      "cell_type": "markdown",
      "metadata": {},
      "source": [
        "1.  Create a sequence of values from `5` to `-11` that progresses in steps\n    of `0.3`.\n2.  Store the sequence as an object `seq_vec` and print it.\n\n"
      ]
    },
    {
      "cell_type": "code",
      "execution_count": 1,
      "metadata": {},
      "outputs": [
        {
          "name": "stdout",
          "output_type": "stream",
          "text": [
            "[1]   5.0   4.7   4.4   4.1   3.8   3.5   3.2   2.9   2.6   2.3   2.0   1.7\n[13]   1.4   1.1   0.8   0.5   0.2  -0.1  -0.4  -0.7  -1.0  -1.3  -1.6  -1.9\n[25]  -2.2  -2.5  -2.8  -3.1  -3.4  -3.7  -4.0  -4.3  -4.6  -4.9  -5.2  -5.5\n[37]  -5.8  -6.1  -6.4  -6.7  -7.0  -7.3  -7.6  -7.9  -8.2  -8.5  -8.8  -9.1\n[49]  -9.4  -9.7 -10.0 -10.3 -10.6 -10.9"
          ]
        }
      ],
      "source": [
        "seq_vec <- seq(from=5, to=-11, by=-0.3) # step-width has a direction\nseq_vec"
      ]
    },
    {
      "cell_type": "markdown",
      "metadata": {},
      "source": [
        "### Reverse sequence order\n\n"
      ]
    },
    {
      "cell_type": "markdown",
      "metadata": {},
      "source": [
        "Overwrite `seq_vec` from the last exercise, using the same sequence with\nthe order reversed.\n\n"
      ]
    },
    {
      "cell_type": "code",
      "execution_count": 1,
      "metadata": {},
      "outputs": [
        {
          "name": "stdout",
          "output_type": "stream",
          "text": [
            "#+begin_example\n [1] -11.0 -10.7 -10.4 -10.1  -9.8  -9.5  -9.2  -8.9  -8.6  -8.3  -8.0  -7.7\n[13]  -7.4  -7.1  -6.8  -6.5  -6.2  -5.9  -5.6  -5.3  -5.0  -4.7  -4.4  -4.1\n[25]  -3.8  -3.5  -3.2  -2.9  -2.6  -2.3  -2.0  -1.7  -1.4  -1.1  -0.8  -0.5\n[37]  -0.2   0.1   0.4   0.7   1.0   1.3   1.6   1.9   2.2   2.5   2.8   3.1\n[49]   3.4   3.7   4.0   4.3   4.6   4.9\n [1] -10.9 -10.6 -10.3 -10.0  -9.7  -9.4  -9.1  -8.8  -8.5  -8.2  -7.9  -7.6\n[13]  -7.3  -7.0  -6.7  -6.4  -6.1  -5.8  -5.5  -5.2  -4.9  -4.6  -4.3  -4.0\n[25]  -3.7  -3.4  -3.1  -2.8  -2.5  -2.2  -1.9  -1.6  -1.3  -1.0  -0.7  -0.4\n[37]  -0.1   0.2   0.5   0.8   1.1   1.4   1.7   2.0   2.3   2.6   2.9   3.2\n[49]   3.5   3.8   4.1   4.4   4.7   5.0\n#+end_example"
          ]
        }
      ],
      "source": [
        "seq(from=-11, to=5, by=0.3) # simply reversing the arguments won't work\nseq_vec <- sort(seq_vec, decreasing=FALSE)\nseq_vec"
      ]
    },
    {
      "cell_type": "markdown",
      "metadata": {},
      "source": [
        "### Create vector by repetition\n\n"
      ]
    },
    {
      "cell_type": "markdown",
      "metadata": {},
      "source": [
        "1.  Repeat the vector `c(-1,3,-5,7,-9)` twice, with each element repeated\n    `10` times\n\n2.  Store the result as `rep_vec`.\n\n3.  Display the result sorted from largest to smallest.\n\n"
      ]
    },
    {
      "cell_type": "code",
      "execution_count": 1,
      "metadata": {},
      "outputs": [
        {
          "name": "stdout",
          "output_type": "stream",
          "text": [
            "[1] -1 -1 -1 -1 -1 -1 -1 -1 -1 -1  3  3  3  3  3  3  3  3  3  3 -5 -5 -5 -5 -5\n [26] -5 -5 -5 -5 -5  7  7  7  7  7  7  7  7  7  7 -9 -9 -9 -9 -9 -9 -9 -9 -9 -9\n [51] -1 -1 -1 -1 -1 -1 -1 -1 -1 -1  3  3  3  3  3  3  3  3  3  3 -5 -5 -5 -5 -5\n [76] -5 -5 -5 -5 -5  7  7  7  7  7  7  7  7  7  7 -9 -9 -9 -9 -9 -9 -9 -9 -9 -9\n  [1]  7  7  7  7  7  7  7  7  7  7  7  7  7  7  7  7  7  7  7  7  3  3  3  3  3\n [26]  3  3  3  3  3  3  3  3  3  3  3  3  3  3  3 -1 -1 -1 -1 -1 -1 -1 -1 -1 -1\n [51] -1 -1 -1 -1 -1 -1 -1 -1 -1 -1 -5 -5 -5 -5 -5 -5 -5 -5 -5 -5 -5 -5 -5 -5 -5\n [76] -5 -5 -5 -5 -5 -9 -9 -9 -9 -9 -9 -9 -9 -9 -9 -9 -9 -9 -9 -9 -9 -9 -9 -9 -9"
          ]
        }
      ],
      "source": [
        "rep_vec <- rep(x=c(-1,3,-5,7,-9),times=2,each=10)\nrep_vec\nsort(rep_vec, decreasing=TRUE)"
      ]
    },
    {
      "cell_type": "markdown",
      "metadata": {},
      "source": [
        "### Putting it all together, and measuring\n\n"
      ]
    },
    {
      "cell_type": "markdown",
      "metadata": {},
      "source": [
        "Create and store a vector that contains, in any configuration, the\nfollowing:\n\n-   A sequence of integers from `6` to `12` (inclusive)\n-   A threefold repetition of the value `5.3`\n-   The number `-3`\n-   A sequence of nine values starting at `102` and ending at the\n    number that is the total length of the vector `rep_vec` created\n    earlier.\n-   Confirm that the length of the vector created is `20`\n\n"
      ]
    },
    {
      "cell_type": "code",
      "execution_count": 1,
      "metadata": {},
      "outputs": [
        {
          "name": "stdout",
          "output_type": "stream",
          "text": [
            "Error in seq.default(from = 102, to = length(rep_vec), length.out = 9) :\n  object 'rep_vec' not found\nError: object 'x' not found\nError: object 'x' not found"
          ]
        }
      ],
      "source": [
        "x <- c(\n  seq(from=6, to=12),\n  rep(5.3, times=3),\n  -3,\n  seq(from=102,to=length(rep_vec),length.out=9))\nx\nlength(x)"
      ]
    },
    {
      "cell_type": "markdown",
      "metadata": {},
      "source": [
        "### Solutions [(video)](https://youtu.be/lKxNNR1l3u8)\n\n"
      ]
    },
    {
      "cell_type": "code",
      "execution_count": 1,
      "metadata": {},
      "outputs": [],
      "source": [
        "foo <- seq(from=5, to=-11, by=-0.3) #1\nfoo <- sort(x=foo, decreasing=FALSE) #2\nfoo <- rep(x=c(-1,3,-5,7,-9), times=2,each=10) #3\nsort(x=foo, decreasing=TRUE)\nbar <-\n  c(6:12,rep(5.3,times=3),-3,seq(from=102,to=length(foo),length.out=9)) #4\nlength(bar)"
      ]
    }
  ],
  "metadata": {
    "org": null,
    "kernelspec": {
      "display_name": "R",
      "language": "R",
      "name": "ir"
    },
    "language_info": {
      "codemirror_mode": "r",
      "file_extension": ".r",
      "mimetype": "text/x-r-source",
      "name": "R",
      "pygments_lexer": "r",
      "version": "3.3.2"
    }
  },
  "nbformat": 4,
  "nbformat_minor": 0
}