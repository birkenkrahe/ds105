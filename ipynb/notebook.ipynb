{
  "cells": [
    {
      "cell_type": "markdown",
      "metadata": {},
      "source": [
        "## README\n\n"
      ]
    },
    {
      "cell_type": "markdown",
      "metadata": {},
      "source": [
        "-   See also whiteboard screenshots ([GDrive](https://drive.google.com/drive/folders/16Z3Lt_RBMnRMwORqZDfGMUezy-_B9huB?usp=sharing)).\n-   Includes further reading, watching and comments\n\n"
      ]
    },
    {
      "cell_type": "markdown",
      "metadata": {},
      "source": [
        "## Wednesday, 08/23/2023\n\n"
      ]
    },
    {
      "cell_type": "markdown",
      "metadata": {},
      "source": [
        "Summary:\n\n-   introductory stuff on data science\n-   project management methodology\n-   information on the data science major and minor\n\nReview questions:\n\n1.  What is the purpose of Scrum?\n2.  What is an example for a potential term project?\n3.  What are the dominant languages in data science?\n\n"
      ]
    },
    {
      "cell_type": "markdown",
      "metadata": {},
      "source": [
        "## Friday, 08/25/2023\n\n"
      ]
    },
    {
      "cell_type": "markdown",
      "metadata": {},
      "source": [
        "-   Literate programming: tangle and weave and markup commands\n-   Textbook selection to learn beginning and advanced R\n-   Ways to develop and run R programs locally and online\n-   What's special about R (\"Adventures in R\" article)\n-   Loading, viewing and plotting a data frame in R\n\n"
      ]
    },
    {
      "cell_type": "markdown",
      "metadata": {},
      "source": [
        "## Week 1 review\n\n"
      ]
    },
    {
      "cell_type": "markdown",
      "metadata": {},
      "source": [
        "1.  What is data science?\n\n>    - Use data to better describe the present, predict or prescribe the\n>      future.\n>    - Interdisciplinary field that uses algorithms, data and math to\n>      extract insights from structured and unstructured data.\n>    - The \"sexiest job of the 21st century\"2. Is the [Tesla test drive with Elon Musk](https://www.tesmanian.com/blogs/tesmanian-blog/elon-musk-shows-fsd-beta-v12-live-test-drive-on-x) (Aug 26, 2023) an example\n   for a \"data science application\"? \n\n1.  Describe the data science workflow.\n\n>    1) Data collection and storage  [data import]\n>    2) Data preparation [data wrangling]\n>    3) Data exploration and visualization [data modeling]\n>    4) Experimentation and prediction [+ data storytelling]\n> \n>    [From the DataCamp blog:](https://www.datacamp.com/blog/what-is-data-science-the-definitive-guide?irclickid=0a2UQaStbxyNWhXRYE2FCwsmUkFyUrU-NVpDxo0&irgwc=1&utm_medium=affiliate&utm_source=impact&utm_campaign=000000_1-1310690_2-mix_3-all_4-na_5-na_6-na_7-mp_8-affl-ip_9-na_10-bau_11-Admitad%20-%201310690&utm_content=TEXT_LINK&utm_term=442763)\n>    #+attr<sub>latex</sub>: :width 400px\n>    ![img](../img/datascience.png) 4. What does 'deep learning' refer to?\n>    A subfield of machine learning, which relies on large\n>    (i.e. multi-layered) neural networks.\n>    #+attr<sub>latex</sub>: :width 400px\n>    ![img](../img/gpt.png)5. Which job roles exist in data science and what do they mean?\n>    1. Data wrangling: data engineer (SQL, cloud, Linux)\n>    2. Data analytics: data analyst (SQL, R, dashboards)\n>    3. Data modeling: data scientist (R, SQL, stats, machine learning)\n>    4. Deep learning: ML scientist (NLP, LLMs, Python)6. Which ways do you know to program and run R?\n>    - As a shell from the command line with `R` (or `Rterm`)\n>    - As a REPL in replit.com (editor, console, terminal, PDF)\n>    - As an IDE with the command `Rgui` on your PC\n>    - As an IDE with RStudio on your PC or in the cloud\n>    - As an IDE in Emacs + ESS + Org-mode (advanced only)7. What's special about R?\n>    - Statistical programming language with great graphics\n>    - Open source and easy to expand\n>    - Easy to learn especially for non-technical people\n>    - Large community8. Which R functions do you remember? (6)\n\n    data\n    ls()\n    help\n    head\n    plot\n    q[uit]()\n\n1.  What is the \"formula\" notation?\n\n>    Refers to the use of `~` for x and y arguments in certain R functions\n>    like `plot` where you can call `plot(x,y)` or `plot(y~x)`.10. When can you connect the points in a scatterplot?\n>     When the points are ordered in some way - for example when the\n>     data represent a time series (see `Nile`).\n\n"
      ]
    },
    {
      "cell_type": "markdown",
      "metadata": {},
      "source": [
        "## Week 2 preview\n\n"
      ]
    },
    {
      "cell_type": "markdown",
      "metadata": {},
      "source": [
        "-   Datacamp Workspace: simple and extended example.\n-   Exercise: import, view and plot the `Nile` data.\n-   Lecture: What is data science?\n\n"
      ]
    }
  ],
  "metadata": {
    "org": null,
    "kernelspec": {
      "display_name": "Python 3",
      "language": "python",
      "name": "python3"
    },
    "language_info": {
      "codemirror_mode": {
        "name": "ipython",
        "version": 3
      },
      "file_extension": ".py",
      "mimetype": "text/x-python",
      "name": "python",
      "nbconvert_exporter": "python",
      "pygments_lexer": "ipython3",
      "version": "3.5.2"
    }
  },
  "nbformat": 4,
  "nbformat_minor": 0
}