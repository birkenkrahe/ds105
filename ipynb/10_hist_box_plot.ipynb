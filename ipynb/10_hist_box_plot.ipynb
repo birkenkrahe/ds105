{
  "cells": [
    {
      "cell_type": "markdown",
      "metadata": {},
      "source": "Basic plotting in R - histograms, boxplots, scatterplots\n========================================================\n\n**Author:** Marcus Birkenkrahe\n\n"
    },
    {
      "cell_type": "markdown",
      "metadata": {},
      "source": [
        "\n# Table of Contents\n\n\n\n\n\n"
      ]
    },
    {
      "cell_type": "markdown",
      "metadata": {},
      "source": [
        "## Histograms\n\n"
      ]
    },
    {
      "cell_type": "markdown",
      "metadata": {},
      "source": [
        "-   [ ] When do you think of using **barplots**?\n\n>   Barplots are sensible for counting **observations of categories**- [ ] When do you think of using a **histogram**?\n>   When you have observed a single **numeric-continuous variable**- *Example:* You've already seen the histogram for a simple data\n  structure, the **time series** `ts` (here next to the **line plot**):\n\n"
      ]
    },
    {
      "cell_type": "code",
      "execution_count": 1,
      "metadata": {},
      "outputs": [
        {
          "data": {
            "image/png": "[encoded data removed]",
            "text/plain": "<matplotlib.figure.Figure>"
          },
          "metadata": {},
          "output_type": "display_data"
        }
      ],
      "source": [
        "par(mfrow=c(2,1)) # create 2 x 1 plot array\nplot(Nile)\nhist(Nile)"
      ]
    },
    {
      "cell_type": "markdown",
      "metadata": {},
      "source": [
        "-   [ ] What does the *height* of a bar represent exactly?\n\n>   The height of each bar (on the y-axis) represents the number of\n>   years in which the volume of water flowing through the Nile was\n>   within its interval of 100 mio cubic metres width (on the x-axis).\n\n-   [ ] How can you find out what the *binwidth* of this histogram is?\n\n"
      ]
    },
    {
      "cell_type": "code",
      "execution_count": 1,
      "metadata": {},
      "outputs": [
        {
          "name": "stdout",
          "output_type": "stream",
          "text": [
            ": List of 6\n  :  $ breaks  : int [1:11] 400 500 600 700 800 900 1000 1100 1200 1300 ...\n  :  $ counts  : int [1:10] 1 0 5 20 25 19 12 11 6 1\n  :  $ density : num [1:10] 0.0001 0 0.0005 0.002 0.0025 0.0019 0.0012 0.0011 0.0006 0.0001\n  :  $ mids    : num [1:10] 450 550 650 750 850 950 1050 1150 1250 1350\n  :  $ xname   : chr \"Nile\"\n  :  $ equidist: logi TRUE\n  :  - attr(*, \"class\")= chr \"histogram\""
          ]
        }
      ],
      "source": [
        "str(hist(Nile))"
      ]
    },
    {
      "cell_type": "markdown",
      "metadata": {},
      "source": [
        "-   [ ] Look at the `help` for `hist`, then change the binwidth to `30`.\n\n"
      ]
    },
    {
      "cell_type": "code",
      "execution_count": 1,
      "metadata": {},
      "outputs": [
        {
          "data": {
            "image/png": "[encoded data removed]",
            "text/plain": "<matplotlib.figure.Figure>"
          },
          "metadata": {},
          "output_type": "display_data"
        }
      ],
      "source": [
        "hist(Nile, breaks=30)"
      ]
    },
    {
      "cell_type": "markdown",
      "metadata": {},
      "source": [
        "-   [ ] How can you **print** the value for the binwidth (`breaks`)?\n\n"
      ]
    },
    {
      "cell_type": "code",
      "execution_count": 1,
      "metadata": {},
      "outputs": [
        {
          "name": "stdout",
          "output_type": "stream",
          "text": [
            ": [1] 100"
          ]
        }
      ],
      "source": [
        "h <- hist(Nile)\nh$breaks[2]-h$breaks[1]"
      ]
    },
    {
      "cell_type": "markdown",
      "metadata": {},
      "source": [
        "-   [ ] What happens when you choose `breaks=0`?\n\n"
      ]
    },
    {
      "cell_type": "code",
      "execution_count": 1,
      "metadata": {},
      "outputs": [
        {
          "name": "stdout",
          "output_type": "stream",
          "text": [
            ": Error in hist.default(Nile, breaks = 0) : invalid number of 'breaks'"
          ]
        }
      ],
      "source": [
        "hist(Nile, breaks=0)"
      ]
    },
    {
      "cell_type": "markdown",
      "metadata": {},
      "source": [
        "-   [ ] What happens when you set `breaks=1000001` (`1e+6 + 1`)?\n\n"
      ]
    },
    {
      "cell_type": "code",
      "execution_count": 1,
      "metadata": {},
      "outputs": [
        {
          "name": "stdout",
          "output_type": "stream",
          "text": [
            ": Warning message:\n  : In hist.default(Nile, breaks = 1000001) :\n  :   'breaks = 1e+06' is too large and set to 1e6"
          ]
        }
      ],
      "source": [
        "hist(Nile, breaks=1000001)"
      ]
    },
    {
      "cell_type": "markdown",
      "metadata": {},
      "source": [
        "-   [ ] Create a script file `Nile.R`, put the previous command into it,\n    and run it as a batch process in the shell (using `M-x eshell`):\n    \n        $ R CMD BATCH Nile.R\n    \n    Open the output file `Nile.rout` to see the result:\n    \n        > hist(Nile, breaks=1000001)\n        Warning message:\n        In hist.default(Nile, breaks = 1000001) :\n        'breaks = 1e+06' is too large and set to 1e6\n        >\n        > proc.time()\n          user  system elapsed\n          1.09    0.09    1.20\n\n-   `proc.time` and `system.time` measure the performance of R. Example:\n    measure rolling 1 die a million times:\n\n"
      ]
    },
    {
      "cell_type": "code",
      "execution_count": 1,
      "metadata": {},
      "outputs": [],
      "source": [
        "system.time(\n  for (i in 1:1e6)\n    sample(1:6,1))"
      ]
    },
    {
      "cell_type": "markdown",
      "metadata": {},
      "source": [
        "## Histogram analysis\n\n"
      ]
    },
    {
      "cell_type": "markdown",
      "metadata": {},
      "source": [
        "-   You can manually set the histogram `breaks` by supplying a vector\n\n-   Example: horsepower `hp` in the `mtcars` dataset with `breaks` from `0` to\n    `400`, `25` units apart from each other:\n\n"
      ]
    },
    {
      "cell_type": "code",
      "execution_count": 1,
      "metadata": {},
      "outputs": [
        {
          "data": {
            "image/png": "[encoded data removed]",
            "text/plain": "<matplotlib.figure.Figure>"
          },
          "metadata": {},
          "output_type": "display_data"
        }
      ],
      "source": [
        "hp <- mtcars$hp\nhist(x=hp,\n     breaks=seq(from=0, to=400, by=25),\n     main=\"Horsepower (hp) in mtcars\")  # histogram\nabline(v=c(mean(hp),median(hp)),\n       lty=c(2,3),lwd=2) # mean, median\nlegend(\"topright\",\n       legend=c(\"mean HP\",\"median HP\"),\n       lty=c(2,3),lwd=2) # legend"
      ]
    },
    {
      "cell_type": "markdown",
      "metadata": {},
      "source": [
        "-   Reducing the bin width allows seeing more detail but also risks\n    highlighting irrelevant features (like the single outlying car).\n\n"
      ]
    },
    {
      "cell_type": "code",
      "execution_count": 1,
      "metadata": {},
      "outputs": [
        {
          "name": "stdout",
          "output_type": "stream",
          "text": [
            ": [1] 335"
          ]
        }
      ],
      "source": [
        "max(hp) # outlier in mtcars$hp"
      ]
    },
    {
      "cell_type": "markdown",
      "metadata": {},
      "source": [
        "-   Too small a binwidth leads to too much detail\n    -   Too large a binwidth leads to loss of detail\n\n"
      ]
    },
    {
      "cell_type": "markdown",
      "metadata": {},
      "source": [
        "## Histograms in ggplot2\n\n"
      ]
    },
    {
      "cell_type": "markdown",
      "metadata": {},
      "source": [
        "-   Histogram of `mtcars$hp` in ggplot2:\n\n"
      ]
    },
    {
      "cell_type": "code",
      "execution_count": 1,
      "metadata": {},
      "outputs": [
        {
          "data": {
            "image/png": "[encoded data removed]",
            "text/plain": "<matplotlib.figure.Figure>"
          },
          "metadata": {},
          "output_type": "display_data"
        }
      ],
      "source": [
        "library(ggplot2)\nggplot(data=mtcars,\n       aes(x=hp)) +\n  geom_histogram(binwidth=25, color=\"white\", fill=\"red\")"
      ]
    },
    {
      "cell_type": "markdown",
      "metadata": {},
      "source": [
        "-   A histogram of `Nile` is not so easy because it's a time series:\n\n"
      ]
    },
    {
      "cell_type": "code",
      "execution_count": 1,
      "metadata": {},
      "outputs": [
        {
          "data": {
            "image/png": "[encoded data removed]",
            "text/plain": "<matplotlib.figure.Figure>"
          },
          "metadata": {},
          "output_type": "display_data"
        }
      ],
      "source": [
        "library(ggplot2)\nggplot(data=data.frame(Nile),\n       aes(x=Nile)) +\n  geom_histogram(color=\"black\", fill=\"green\")"
      ]
    },
    {
      "cell_type": "markdown",
      "metadata": {},
      "source": [
        "## Practice creating and customizing a histogram\n\n"
      ]
    },
    {
      "cell_type": "markdown",
      "metadata": {},
      "source": [
        "![img](../img/penguins.jpg)\n\n-   Download and open in GNU Emacs: [tinyurl.com/nhkykkxr](https://tinyurl.com/nhkykkxr)\n\n-   Work with a friend or with your neighbor in class\n\n-   Complete the problems in the file (we'll discuss at the end)\n\n-   Upload the result (for each participants) [to Canvas (Practice 10)](https://lyon.instructure.com/courses/568/assignments/3755)\n\n"
      ]
    },
    {
      "cell_type": "markdown",
      "metadata": {},
      "source": [
        "## Boxplots - global summary stats\n\n"
      ]
    },
    {
      "cell_type": "markdown",
      "metadata": {},
      "source": [
        "-   Open the practice file in Emacs to code along: [tinyurl.com/2e6dy9yb](https://tinyurl.com/2e6dy9yb)\n\n-   Box-and-whisker plots, or boxplots represent the five-number\n    `summary`:\n    1.  Minimum\n    2.  1st quartile (25% of the values are below it)\n    3.  Median (50% of the values are below/above it)\n    4.  Mean (Arithmetic average)\n    5.  3rd quartile (75% of the values are below it)\n    6.  Maximum\n\n-   For example for `x <- c(1,2,3,4,5,6,7,8,9,10)`:\n\n"
      ]
    },
    {
      "cell_type": "code",
      "execution_count": 1,
      "metadata": {},
      "outputs": [
        {
          "name": "stdout",
          "output_type": "stream",
          "text": [
            ":    Min. 1st Qu.  Median    Mean 3rd Qu.    Max.\n  :    1.00    3.25    5.50    5.50    7.75   10.00"
          ]
        }
      ],
      "source": [
        "x <- c(1:10\nsummary(x)"
      ]
    },
    {
      "cell_type": "markdown",
      "metadata": {},
      "source": [
        "-   For the built-in `quakes` data frame of 1,000 seismic events near the\n    island of Fiji (depth, magnitude, number of observing stations):\n\n"
      ]
    },
    {
      "cell_type": "code",
      "execution_count": 1,
      "metadata": {},
      "outputs": [
        {
          "name": "stdout",
          "output_type": "stream",
          "text": [
            ":      depth            mag          stations\n  :  Min.   : 40.0   Min.   :4.00   Min.   : 10.00\n  :  1st Qu.: 99.0   1st Qu.:4.30   1st Qu.: 18.00\n  :  Median :247.0   Median :4.60   Median : 27.00\n  :  Mean   :311.4   Mean   :4.62   Mean   : 33.42\n  :  3rd Qu.:543.0   3rd Qu.:4.90   3rd Qu.: 42.00\n  :  Max.   :680.0   Max.   :6.40   Max.   :132.00"
          ]
        }
      ],
      "source": [
        "summary(quakes[,c(\"depth\",\"mag\",\"stations\")])"
      ]
    },
    {
      "cell_type": "markdown",
      "metadata": {},
      "source": [
        "-   Each record/row represents one recorded earthquake: where it was\n    located, at which depth the epicenter was, its magnitude, and the\n    number or observing stations:\n\n"
      ]
    },
    {
      "cell_type": "code",
      "execution_count": 1,
      "metadata": {},
      "outputs": [
        {
          "name": "stdout",
          "output_type": "stream",
          "text": [
            ":      lat   long depth mag stations\n  : 1 -20.42 181.62   562 4.8       41\n  : 2 -20.62 181.03   650 4.2       15\n  : 3 -26.00 184.10    42 5.4       43\n  : 4 -17.97 181.66   626 4.1       19\n  : 5 -20.42 181.96   649 4.0       11\n  : 6 -19.68 184.31   195 4.0       12"
          ]
        }
      ],
      "source": [
        "head(quakes)"
      ]
    },
    {
      "cell_type": "markdown",
      "metadata": {},
      "source": [
        "-   The boxplot of the earthquake magnitudes shows the output of `summary`\n    except the `mean`, but it also shows *outliers*, extreme values that\n    distort the mean:\n    \n    ![img](../img/9_boxplot_explained.png)\n\n-   Creating a boxplot is simple: for the earthquake magnitudes\n    (`quakes$mag`):\n\n"
      ]
    },
    {
      "cell_type": "code",
      "execution_count": 1,
      "metadata": {},
      "outputs": [
        {
          "data": {
            "image/png": "[encoded data removed]",
            "text/plain": "<matplotlib.figure.Figure>"
          },
          "metadata": {},
          "output_type": "display_data"
        }
      ],
      "source": [
        "boxplot(quakes$mag)"
      ]
    },
    {
      "cell_type": "markdown",
      "metadata": {},
      "source": [
        "-   Let's look at histogram and boxplot on top of one another, with\n    a minimal customization:\n\n"
      ]
    },
    {
      "cell_type": "code",
      "execution_count": 1,
      "metadata": {},
      "outputs": [
        {
          "data": {
            "image/png": "[encoded data removed]",
            "text/plain": "<matplotlib.figure.Figure>"
          },
          "metadata": {},
          "output_type": "display_data"
        }
      ],
      "source": [
        "par(mfrow=c(2,1))\nhist(quakes$mag, xlab=\"\",\n     main=\"Histogram of earthquake magnitude in quakes\")\nboxplot(quakes$mag,\n        horizontal=TRUE,\n        main=\"Boxplot of earthquake magnitude in quakes\",\n        xlab=\"Earthquake magnitude (Richter scale)\")"
      ]
    },
    {
      "cell_type": "markdown",
      "metadata": {},
      "source": [
        "-   Like the histogram, a boxplot shows important **global** (overall)\n    features of the value distribution:\n    -   centrality (where is the midpoint of the distribution?)x\n    -   spread (how far are the whiskers apart, how wide is the box?)\n    -   skewness (where is the box relative to the whiskers?)\n\n-   The boxplot does not show important **local** features, like\n    -   modes (multiple significant peaks or maxima)\n    -   valleys (local minima)\n\n-   Outliers are displayed explicitly (computed as 1.5 times the\n    Inter-Quartile Range or IQR)\n\n-   The `range` parameter in `boxplot` determines how far the whiskers\n    should extend from the box. `range=0` includes all values.\n\n"
      ]
    },
    {
      "cell_type": "code",
      "execution_count": 1,
      "metadata": {},
      "outputs": [
        {
          "data": {
            "image/png": "[encoded data removed]",
            "text/plain": "<matplotlib.figure.Figure>"
          },
          "metadata": {},
          "output_type": "display_data"
        }
      ],
      "source": [
        "boxplot(quakes$mag, horizontal=TRUE,\n        range=0,\n        main=\"Boxplot of earthquake magnitude\\nin the data frame quakes\",\n        xlab=\"Earthquake magnitude (Richter scale)\")"
      ]
    },
    {
      "cell_type": "markdown",
      "metadata": {},
      "source": [
        "## Side-by-side boxplots\n\n"
      ]
    },
    {
      "cell_type": "markdown",
      "metadata": {},
      "source": [
        "-   Boxplots are useful to compare data features by plotting them\n    side-by-side, e.g. for identifying how many monitoring stations\n    detected each event\n\n-   We use `cut` to create three levels of stations for three boxes:\n\n"
      ]
    },
    {
      "cell_type": "code",
      "execution_count": 1,
      "metadata": {},
      "outputs": [
        {
          "name": "stdout",
          "output_type": "stream",
          "text": [
            ": [1] (0,50] (0,50] (0,50] (0,50] (0,50]\n  : Levels: (0,50] (50,100] (100,150]"
          ]
        }
      ],
      "source": [
        "stations <- cut(quakes$stations, breaks=c(0,50,100,150))\nstations[1:5] # first five elements"
      ]
    },
    {
      "cell_type": "markdown",
      "metadata": {},
      "source": [
        "-   The factor `stations` breaks the observations in three groups\n    1.  events detected by 50 stations or fewer `(0,50]`\n    2.  events detected by 51 to 100 stations `(50,100]`\n    3.  events detected by between 100 and 150 stations `(100,150]`\n\n-   The boxplot compares the distributions of the magnitudes of the\n    events according to these three groups:\n\n"
      ]
    },
    {
      "cell_type": "code",
      "execution_count": 1,
      "metadata": {},
      "outputs": [
        {
          "data": {
            "image/png": "[encoded data removed]",
            "text/plain": "<matplotlib.figure.Figure>"
          },
          "metadata": {},
          "output_type": "display_data"
        }
      ],
      "source": [
        "boxplot(quakes$mag ~ stations,\n        main=\"Groups of earthquake monitoring stations in quakes\",\n        xlab=\"# stations detected\",\n        ylab=\"Earthquake magnitude (pts on the Richter scale)\",\n        col=\"gray\")"
      ]
    },
    {
      "cell_type": "markdown",
      "metadata": {},
      "source": [
        "-   You can see that the higher the recorded magnitude, the more\n    stations detected the given seismic event\n\n-   In the argument, we've used the *formula* `y ~ x` (\"y vs. x\") with\n    `x=stations` and `y=quakes$mag`. If the `y ~` is missing, the argument is\n    taken as `x` (cp. `help(boxplot)`).\n\n"
      ]
    },
    {
      "cell_type": "markdown",
      "metadata": {},
      "source": [
        "## Scatterplots\n\n"
      ]
    },
    {
      "cell_type": "markdown",
      "metadata": {},
      "source": [
        "-   Scatterplots are used to identify relationships between the observed\n    values of two different numeric-continuous variables x,y\n\n-   The scatterplot is displayed as an x-y-coordinate plot but not every\n    x-y-plot shows relationships of interest - e.g. a plot of the\n    latitude vs. longitude in `quakes`:\n\n"
      ]
    },
    {
      "cell_type": "code",
      "execution_count": 1,
      "metadata": {},
      "outputs": [
        {
          "data": {
            "image/png": "[encoded data removed]",
            "text/plain": "<matplotlib.figure.Figure>"
          },
          "metadata": {},
          "output_type": "display_data"
        }
      ],
      "source": [
        "plot(x=quakes$lat,\n     y=quakes$lon)"
      ]
    },
    {
      "cell_type": "markdown",
      "metadata": {},
      "source": [
        "-   A real scatterplot is the visualization of the mileage (`mpg`)\n    vs. weight (`wt`) of cars in the built-in `mtcars` data set:\n\n"
      ]
    },
    {
      "cell_type": "code",
      "execution_count": 1,
      "metadata": {},
      "outputs": [
        {
          "data": {
            "image/png": "",
            "text/plain": "<matplotlib.figure.Figure>"
          },
          "metadata": {},
          "output_type": "display_data"
        }
      ],
      "source": [
        "plot(mtcars$mpg ~ mtcars$wt)\ntitle(\"Car mileage (mpg) vs. weight (wt) in mtcars\")"
      ]
    },
    {
      "cell_type": "markdown",
      "metadata": {},
      "source": [
        "## Scatterplots of more than two variables\n\n"
      ]
    },
    {
      "cell_type": "markdown",
      "metadata": {},
      "source": [
        "-   The famous `iris` dataset, collected in the mid-1930s, contains petal\n    and sepal measurements for three species of perennial iris flowers,\n    *Iris setosa*, *Iris virginica*, and *Iris versicolor* (Fisher, 1936).\n    \n    ![img](../img/iris.png)\n\n-   View the first few records:\n\n"
      ]
    },
    {
      "cell_type": "code",
      "execution_count": 1,
      "metadata": {},
      "outputs": [
        {
          "name": "stdout",
          "output_type": "stream",
          "text": [
            ":   Sepal.Length Sepal.Width Petal.Length Petal.Width Species\n  : 1          5.1         3.5          1.4         0.2  setosa\n  : 2          4.9         3.0          1.4         0.2  setosa\n  : 3          4.7         3.2          1.3         0.2  setosa\n  : 4          4.6         3.1          1.5         0.2  setosa\n  : 5          5.0         3.6          1.4         0.2  setosa\n  : 6          5.4         3.9          1.7         0.4  setosa"
          ]
        }
      ],
      "source": [
        "head(iris[1:5])"
      ]
    },
    {
      "cell_type": "markdown",
      "metadata": {},
      "source": [
        "-   To plot every variable against every other, you can plot an array of\n    x-y-plots:\n    -   Each column has the shown variable as x- and the others as y-axis\n    -   Each row has the shown variable as y- and the others as x-axis\n    -   E.g. the square (2,1) shows x = `Sepal.Length`, y = all others\n\n"
      ]
    },
    {
      "cell_type": "code",
      "execution_count": 1,
      "metadata": {},
      "outputs": [
        {
          "data": {
            "image/png": "[encoded data removed]",
            "text/plain": "<matplotlib.figure.Figure>"
          },
          "metadata": {},
          "output_type": "display_data"
        }
      ],
      "source": [
        "plot(iris)"
      ]
    },
    {
      "cell_type": "markdown",
      "metadata": {},
      "source": [
        "-   The array is much easier to read when adding the iris species as a\n    sixth variable to the plot.\n\n"
      ]
    },
    {
      "cell_type": "code",
      "execution_count": 1,
      "metadata": {},
      "outputs": [
        {
          "data": {
            "image/png": "[encoded data removed]",
            "text/plain": "<matplotlib.figure.Figure>"
          },
          "metadata": {},
          "output_type": "display_data"
        }
      ],
      "source": [
        "plot(iris, col=iris$Species)"
      ]
    },
    {
      "cell_type": "markdown",
      "metadata": {},
      "source": [
        "-   Homing in on one of the diagrams, e.g. `Sepal.Width` vs. `Sepal.Length`:\n\n"
      ]
    },
    {
      "cell_type": "code",
      "execution_count": 1,
      "metadata": {},
      "outputs": [
        {
          "data": {
            "image/png": "[encoded data removed]",
            "text/plain": "<matplotlib.figure.Figure>"
          },
          "metadata": {},
          "output_type": "display_data"
        }
      ],
      "source": [
        "plot(\n  iris$Sepal.Width ~ iris$Sepal.Length,\n  col=iris$Species,\n  pch=19)"
      ]
    },
    {
      "cell_type": "markdown",
      "metadata": {},
      "source": [
        "-   As an example for a fully customized plot with legend:\n\n"
      ]
    },
    {
      "cell_type": "code",
      "execution_count": 1,
      "metadata": {},
      "outputs": [
        {
          "data": {
            "image/png": "[encoded data removed]",
            "text/plain": "<matplotlib.figure.Figure>"
          },
          "metadata": {},
          "output_type": "display_data"
        }
      ],
      "source": [
        "plot(\n  y=iris$Petal.Length, xlab=\"Petal length (cm)\",\n  x=iris$Petal.Width, ylab=\"Petal width (cm)\",\n  col=iris$Species, \n  pch=19)\nlegend(\"topleft\",\n       legend=c(\"setosa\", \"virginica\",\"versicolor\"),\n       col=c(\"black\",\"red\",\"green\"), pch=19)\ntitle(\"Petal width vs. length for three species of iris\")"
      ]
    },
    {
      "cell_type": "markdown",
      "metadata": {},
      "source": [
        "## 10 piccolo problems\n\n"
      ]
    },
    {
      "cell_type": "markdown",
      "metadata": {},
      "source": [
        "1.  Create a histogram of the horsepower data of the 32 cars in the\n    `mtcars` data set. Run the code.\n\n"
      ]
    },
    {
      "cell_type": "code",
      "execution_count": 1,
      "metadata": {},
      "outputs": [],
      "source": [
        ""
      ]
    },
    {
      "cell_type": "markdown",
      "metadata": {},
      "source": [
        "1.  Label the x-axis. Run the code.\n\n"
      ]
    },
    {
      "cell_type": "code",
      "execution_count": 1,
      "metadata": {},
      "outputs": [],
      "source": [
        ""
      ]
    },
    {
      "cell_type": "markdown",
      "metadata": {},
      "source": [
        "1.  Label the y-axis. Run the code.\n\n"
      ]
    },
    {
      "cell_type": "code",
      "execution_count": 1,
      "metadata": {},
      "outputs": [],
      "source": [
        ""
      ]
    },
    {
      "cell_type": "markdown",
      "metadata": {},
      "source": [
        "1.  Title the plot. Run the code.\n\n"
      ]
    },
    {
      "cell_type": "code",
      "execution_count": 1,
      "metadata": {},
      "outputs": [],
      "source": [
        ""
      ]
    },
    {
      "cell_type": "markdown",
      "metadata": {},
      "source": [
        "1.  Print the binwidth.\n\n"
      ]
    },
    {
      "cell_type": "code",
      "execution_count": 1,
      "metadata": {},
      "outputs": [],
      "source": [
        ""
      ]
    },
    {
      "cell_type": "markdown",
      "metadata": {},
      "source": [
        "1.  Plot the logarithm of hp to base 10.\n\n"
      ]
    },
    {
      "cell_type": "code",
      "execution_count": 1,
      "metadata": {},
      "outputs": [],
      "source": [
        ""
      ]
    },
    {
      "cell_type": "markdown",
      "metadata": {},
      "source": [
        "1.  Plot only the car count for cars with a horsepower of greater or\n    equal `sub = 220 hp`.\n\n"
      ]
    },
    {
      "cell_type": "code",
      "execution_count": 1,
      "metadata": {},
      "outputs": [],
      "source": [
        ""
      ]
    },
    {
      "cell_type": "markdown",
      "metadata": {},
      "source": [
        "1.  Change the x-axis label so that it automatically shows `sub`.\n\n"
      ]
    },
    {
      "cell_type": "code",
      "execution_count": 1,
      "metadata": {},
      "outputs": [],
      "source": [
        ""
      ]
    },
    {
      "cell_type": "markdown",
      "metadata": {},
      "source": [
        "1.  Put the log10 plot and the original plot in one plot array (on top\n    of one another) - without any customization.\n\n"
      ]
    },
    {
      "cell_type": "code",
      "execution_count": 1,
      "metadata": {},
      "outputs": [],
      "source": [
        ""
      ]
    },
    {
      "cell_type": "markdown",
      "metadata": {},
      "source": [
        "1.  Put the log10 plot and the original plot in one plot array (side by\n    side) - without any customization.\n\n"
      ]
    },
    {
      "cell_type": "code",
      "execution_count": 1,
      "metadata": {},
      "outputs": [],
      "source": [
        ""
      ]
    }
  ],
  "metadata": {
    "org": null,
    "kernelspec": {
      "display_name": "R",
      "language": "R",
      "name": "ir"
    },
    "language_info": {
      "codemirror_mode": "r",
      "file_extension": ".r",
      "mimetype": "text/x-r-source",
      "name": "R",
      "pygments_lexer": "r",
      "version": "3.3.2"
    }
  },
  "nbformat": 4,
  "nbformat_minor": 0
}