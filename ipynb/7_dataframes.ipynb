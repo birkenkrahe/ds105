{
  "cells": [
    {
      "cell_type": "markdown",
      "metadata": {},
      "source": "Data frames and Factors\n=======================\n\n**Author:** Marcus Birkenkrahe\n\n"
    },
    {
      "cell_type": "markdown",
      "metadata": {},
      "source": [
        "## What will you learn?\n\n"
      ]
    },
    {
      "cell_type": "markdown",
      "metadata": {},
      "source": [
        "![img](../img/frame.jpg)\n\n-   What is a data frame?\n-   How do you create data frames?\n-   How can you subset data frames?\n-   Orange juice or Vitamin C?\n-   What about lists?\n\n"
      ]
    },
    {
      "cell_type": "markdown",
      "metadata": {},
      "source": [
        "## What is a data frame?\n\n"
      ]
    },
    {
      "cell_type": "markdown",
      "metadata": {},
      "source": [
        "-   A data frame is a **table** of one row for each data point\n-   A data frame consists of **vectors** of the same length\n-   The vectors can have **different** data types\n\n"
      ]
    },
    {
      "cell_type": "markdown",
      "metadata": {},
      "source": [
        "## Example: creating data frames\n\n"
      ]
    },
    {
      "cell_type": "markdown",
      "metadata": {},
      "source": [
        "-   Open the `notebook.ipynb` file in the data frame practice workspace\n\n-   Create three vectors to put into the data frame\n    1.  the 1st uses the constant vector `LETTERS`\n    2.  the 2nd uses the `sample` function to draw a sample from the first\n    3.  the third one is just a colon-generated vector of integers\n\n"
      ]
    },
    {
      "cell_type": "code",
      "execution_count": 1,
      "metadata": {},
      "outputs": [],
      "source": [
        "L3 <- LETTERS[1:3]   # create vector of capital letters\nL3"
      ]
    },
    {
      "cell_type": "code",
      "execution_count": 1,
      "metadata": {},
      "outputs": [],
      "source": [
        "fac <- sample(x=L3,        # generate a sample from L3\n              size=10,     # draw 10 letters\n              replace=TRUE)  # with replacement\nfac"
      ]
    },
    {
      "cell_type": "code",
      "execution_count": 1,
      "metadata": {},
      "outputs": [],
      "source": [
        "df_ex <- data.frame(1,1:10,fac) # create named 10x3 data frame (no names)\nstr(df_ex)  # check structure (implicitly unnamed)\ndf_ex"
      ]
    },
    {
      "cell_type": "code",
      "execution_count": 1,
      "metadata": {},
      "outputs": [],
      "source": [
        "df_ex <- data.frame(\"x\"=1,\"y\"=1:10,fac) # data frame with named columns\nstr(df_ex)  # check structure (explicitly named)\ndf_ex"
      ]
    },
    {
      "cell_type": "markdown",
      "metadata": {},
      "source": [
        "-   More information: check out `example(data.frame)`\n\n"
      ]
    },
    {
      "cell_type": "markdown",
      "metadata": {},
      "source": [
        "## Functions to test data structures\n\n"
      ]
    },
    {
      "cell_type": "markdown",
      "metadata": {},
      "source": [
        "-   Check for vector, matrix, list, data frame:\n\n"
      ]
    },
    {
      "cell_type": "code",
      "execution_count": 1,
      "metadata": {},
      "outputs": [],
      "source": [
        "is.vector(df_ex)\nis.matrix(df_ex)\nis.data.frame(df_ex)\nis.list(df_ex)"
      ]
    },
    {
      "cell_type": "markdown",
      "metadata": {},
      "source": [
        "-   Surprise: data frames are special [rectangular] lists\n\n-   Can a data frame contain a data frame?\n\n"
      ]
    },
    {
      "cell_type": "markdown",
      "metadata": {},
      "source": [
        "### Practice\n\n"
      ]
    },
    {
      "cell_type": "markdown",
      "metadata": {},
      "source": [
        "-   Create and print the data frame shown in figure [2](#org8d19660)\n    \n    ![img](../img/7_df.png \"data frame example (source: guru99.com)\")\n\n"
      ]
    },
    {
      "cell_type": "markdown",
      "metadata": {},
      "source": [
        "### Solution\n\n"
      ]
    },
    {
      "cell_type": "markdown",
      "metadata": {},
      "source": [
        "-   Define vectors with `c()`\n-   Create data frame with `data.frame()`\n-   You can rename columns with `colnames()`\n-   You can auto-convert `character` to `factor`\n\n"
      ]
    },
    {
      "cell_type": "code",
      "execution_count": 1,
      "metadata": {},
      "outputs": [],
      "source": [
        "## define vectors\nID <- c(10,20,30,40) # numeric integer vector\nitems <- c(\"book\",\"pen\",\"textbook\",\"pencil_case\") # character vector\nstore <- c(TRUE,FALSE,TRUE,FALSE) # logical vector\nprice <- c(2.5,8.0,10.0,7.0)  # numeric double vector\n\n## create data frame and properties\ndf <- data.frame(ID,items,store,price)\ndf\nrownames(df)   # row names (auto-created)\ncolnames(df)   # column names\nstr(df)        # data frame structure\n\n## auto-convert characters to factors\ndf_fac <- data.frame(ID,items,store,price,\n                     stringsAsFactors = TRUE )\nstr(df_fac)"
      ]
    },
    {
      "cell_type": "markdown",
      "metadata": {},
      "source": [
        "## Lab session: Creating/subsetting data frames\n\n"
      ]
    },
    {
      "cell_type": "markdown",
      "metadata": {},
      "source": [
        "![img](../img/penguins.jpg)\n\n1.  Go go the DataCamp workspace \"[dataframe practice](https://app.datacamp.com/workspace/w/58e9e598-2624-44c8-aae5-fe327732eb3f)\".\n2.  Save it to your own workspace and complete the exercises.\n3.  Finish it at home and submit it as a bonus assignment in Canvas.\n\n"
      ]
    },
    {
      "cell_type": "markdown",
      "metadata": {},
      "source": [
        "## Properties of real data frames\n\n"
      ]
    },
    {
      "cell_type": "markdown",
      "metadata": {},
      "source": [
        "![img](../img/guineapigs.jpg)\n\n"
      ]
    },
    {
      "cell_type": "markdown",
      "metadata": {},
      "source": [
        "## Some useful functions\n\n"
      ]
    },
    {
      "cell_type": "markdown",
      "metadata": {},
      "source": [
        "-   `dim` gives you the data frame dimensions\n-   `nrow` gives you the number of rows\n-   `ncol` gives you the number of columns\n-   `head(x=,N)` gives you the first `N` rows\n-   `order` gives you the indices of an ordered vector\n-   `subset` gives you a subset of any data structure\n\n"
      ]
    },
    {
      "cell_type": "code",
      "execution_count": 1,
      "metadata": {},
      "outputs": [],
      "source": [
        "dim(df)          # dimension of df\nnrow(df)         # no. of rows\nncol(df)         # no. of columns\n\ndim(tg)          # dimension of tg\nnrow(tg)         # no. of rows\nncol(tg)         # no. of columns\nhead(tg$len,10)  # first 10 lines of vector\n\norder(head(tg$len)) # order and print indices\n\n## print ordered vector\ntg$len[order(head(tg$len))]\ntg$len[order(head(tg$len), decreasing = TRUE)]\n\n## ?subset: type out the 'airquality' examples"
      ]
    },
    {
      "cell_type": "markdown",
      "metadata": {},
      "source": [
        "## Data frame challenges\n\n"
      ]
    },
    {
      "cell_type": "markdown",
      "metadata": {},
      "source": [
        "### Challenge 1\n\n"
      ]
    },
    {
      "cell_type": "markdown",
      "metadata": {},
      "source": [
        "-   Try to create a not rectangular data frame\n-   Define vectors of different length\n-   Combine them using `data.frame`\n-   Explain the result!\n\n"
      ]
    },
    {
      "cell_type": "markdown",
      "metadata": {},
      "source": [
        "#### Solution\n\n"
      ]
    },
    {
      "cell_type": "code",
      "execution_count": 1,
      "metadata": {},
      "outputs": [],
      "source": [
        "## the longer vector is an even multiple of the shorter one\ndata.frame(x1=c(\"moo\",\"meh\"),x2=1:4)\n\n## the longer vector is an odd multiple of the shorter one\ndata.frame(x1=c(\"moo\",\"meh\"),x2=1:3)"
      ]
    },
    {
      "cell_type": "markdown",
      "metadata": {},
      "source": [
        "![img](../img/7_challenge.png \"element-wise vector operation\")\n\n"
      ]
    },
    {
      "cell_type": "markdown",
      "metadata": {},
      "source": [
        "### Challenge 2\n\n"
      ]
    },
    {
      "cell_type": "markdown",
      "metadata": {},
      "source": [
        "-   Use the dataset `ToothGrowth` (aka `tg`)\n-   Find the number of cases in which tooth length is less than 16\n\n"
      ]
    },
    {
      "cell_type": "code",
      "execution_count": 1,
      "metadata": {},
      "outputs": [],
      "source": [
        "## create index vector for observations with tooth length < 16\nsmall <- tg$len < 16\n\n## look at the result - surprised?\nhead(small)    # print first few vector elements\nsum(small)     # number of teeth of length < 16\nlength(small)  # some teeth are greater than 16\n\n## print the tooth length values\ntg$len[small]  # tg[small] won't work here - why not?"
      ]
    },
    {
      "cell_type": "markdown",
      "metadata": {},
      "source": [
        "## Factor advantage\n\n"
      ]
    },
    {
      "cell_type": "markdown",
      "metadata": {},
      "source": [
        "-   Compare the following two plots\n-   You have to have `ggplot2` installed\n-   Uses the quick plot function `qplot`\n\n"
      ]
    },
    {
      "cell_type": "code",
      "execution_count": 1,
      "metadata": {},
      "outputs": [],
      "source": [
        "library(ggplot2)\n\n## plot mpg vs wt, cyl\nqplot(data=mtcars,x=wt,y=mpg,colour=cyl)\nggsave(file...\n\n       ## plot mpg vs wt, factor(cyl)\n       qplot(data=mtcars,x=wt,y=mpg,colour=factor(cyl))"
      ]
    },
    {
      "cell_type": "markdown",
      "metadata": {},
      "source": [
        "## Orange Juice or Vitamin C?\n\n"
      ]
    },
    {
      "cell_type": "markdown",
      "metadata": {},
      "source": [
        "### Extract factor levels\n\n"
      ]
    },
    {
      "cell_type": "markdown",
      "metadata": {},
      "source": [
        "-   What's the class of `tg$supp`?\n-   What're the levels of `tg$supp`?\n-   We want to compare `mean` tooth length for each `level`\n\n"
      ]
    },
    {
      "cell_type": "code",
      "execution_count": 1,
      "metadata": {},
      "outputs": [],
      "source": [
        "class(tg$supp)   # class check\nlevels(tg$supp)  # levels check\n\n## select the rows for each level\ntgoj <- tg[tg$supp == 'OJ',]  # Orange Juice\ntgvc <- tg[tg$supp == 'VC',]  # Vitamin C\n\n## compute the mean over all selected rows\nmean(tgoj$len)\nmean(tgvc$len)"
      ]
    },
    {
      "cell_type": "markdown",
      "metadata": {},
      "source": [
        "### What's going on here?\n\n"
      ]
    },
    {
      "cell_type": "markdown",
      "metadata": {},
      "source": [
        "`tg[tg$supp == 'OJ',]` is loaded with meaning:\n\n-   `[i,j]`: select row `i`, column `j`\n-   `i` can be a vector (several rows)\n-   `j` can be a vector (several columns)\n-   If either is missing: take all rows or columns\n-   `==` produces logical values\n-   `TRUE` means \"take it\", `FALSE` means \"skip it\"\n\n>   `tg[tg$supp == 'OJ', ]` says:\n> \n>   \"Find which elements of the `tg$supp` vector equal `'OJ'` and\n>   extract the corresponding rows of `tg`.\"\n> \n>   = \"Take from tg the rows in which the supplement was `OJ`.\"\n> \n>   Notice that `tgoj`, `tgvc` are also still data frames.\n\n"
      ]
    },
    {
      "cell_type": "markdown",
      "metadata": {},
      "source": [
        "## What about lists?\n\n"
      ]
    },
    {
      "cell_type": "markdown",
      "metadata": {},
      "source": [
        "-   Data frames (and `data.table`) are really lists\n-   Subsetting: same ol', same ol' (with `[[]]`)\n-   Create lists with `list`\n-   Useful for web data\n\n"
      ]
    },
    {
      "cell_type": "code",
      "execution_count": 1,
      "metadata": {},
      "outputs": [],
      "source": [
        "class(mtcars)   # object class of data frame\ntypeof(mtcars)  # type or storage mode of data frame\n\n## subsetting a data frame as a list\nidentical(mtcars$mpg[1], mtcars[[1]][1])\n\n## create mtcars list (and add any other information)\nmtcars_list <- list(mtcars)\ntypeof(mtcars_list)"
      ]
    },
    {
      "cell_type": "markdown",
      "metadata": {},
      "source": [
        "## Concept summary\n\n"
      ]
    },
    {
      "cell_type": "markdown",
      "metadata": {},
      "source": [
        "-   A data frame is a table of one row for each data point\n-   A data frame consists of vectors of the same length\n-   You can change row and column names\n-   You can convert `character` into `factor` vectors\n-   You can subset data frames using `[]` or `$` operators\n-   You can run R scripts from the command line (e.g. `Rscript`)\n-   You can plot to file (e.g. using `ggsave`)\n\n"
      ]
    },
    {
      "cell_type": "markdown",
      "metadata": {},
      "source": [
        "## Code summary\n\n"
      ]
    },
    {
      "cell_type": "markdown",
      "metadata": {},
      "source": [
        "| <code>library</code>|load package|\n| <code>data</code>|load dataset|\n| <code>str(df)</code>|structure of data frame <code>df</code>|\n| <code>dslabs::murders</code>|data set <code>murders</code> in <code>dslabs</code>|\n| <code>Rscript</code>|run R on script <code>.R</code>|\n| <code>R CMD BATCH</code>|execute R as batch command|\n| <code>ls</code>, <code>cat</code>|(linux) shell commands|\n| <code>littler</code>|R script program package|\n| <code>data.frame</code>|create data frame|\n| <code>example</code>|show examples of function|\n| <code>LETTERS</code>|pre-stored alphabet (caps)|\n| <code>sample</code>|generate sample from vector|\n| <code>is.vector</code>|test for vector|\n| <code>is.matrix</code>|test for matrix|\n| <code>is.data.frame</code>|test for data frame|\n| <code>is.list</code>|test for list|\n| <code>rownames</code>|get/set row names|\n| <code>colnames</code>|get/set column names|\n| <code>$</code>|access named vector|\n| <code>[]</code>|select index values|\n| <code>mean</code>|compute mean (1 argument)|\n| <code>length</code>|compute vector length|\n| <code>identical</code>|check equality (2 arguments)|\n| <code>max</code>|find maximum value|\n| <code>dim</code>|dimensions of object|\n| <code>nrow</code>, <code>ncol</code>|number of rols, columns|\n| <code>head</code>|top lines (default: 6)|\n| <code>order</code>|order vector, print indices|\n| <code>subset</code>|select subset|\n| <code>list</code>|make list|\n| <code>factor</code>|turn vector into factor vector|\n| <code>ggplot2::ggsave</code>|save named plot|\n| <code>ggplot2::qplot</code>|quick pretty plot|\n\n"
      ]
    },
    {
      "cell_type": "markdown",
      "metadata": {},
      "source": [
        "## References\n\n"
      ]
    },
    {
      "cell_type": "markdown",
      "metadata": {},
      "source": [
        "Matloff N (2019). fasteR: Fast Lane to Learning R! [Online: github](https://github.com/matloff/fasteR#--on-to-data-frames)\n\n"
      ]
    }
  ],
  "metadata": {
    "org": null,
    "kernelspec": {
      "display_name": "R",
      "language": "R",
      "name": "ir"
    },
    "language_info": {
      "codemirror_mode": "r",
      "file_extension": ".r",
      "mimetype": "text/x-r-source",
      "name": "R",
      "pygments_lexer": "r",
      "version": "3.3.2"
    }
  },
  "nbformat": 4,
  "nbformat_minor": 0
}