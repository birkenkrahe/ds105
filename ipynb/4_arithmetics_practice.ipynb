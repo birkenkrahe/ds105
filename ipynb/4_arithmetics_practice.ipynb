{
  "cells": [
    {
      "cell_type": "markdown",
      "metadata": {},
      "source": [
        "### Constants\n\n"
      ]
    },
    {
      "cell_type": "markdown",
      "metadata": {},
      "source": [
        "1.  Print `pi` (&pi; &asymp; 3.14)\n2.  Print `LETTERS` and `letters`\n3.  Verify that these are `character` vectors\n4.  Print `month.name` and `month.abb`\n5.  Verify that `month.abb` is a vector is `TRUE`\n6.  Print Euler's number e to precision 10\n\n"
      ]
    },
    {
      "cell_type": "code",
      "execution_count": 1,
      "metadata": {},
      "outputs": [],
      "source": [
        ""
      ]
    },
    {
      "cell_type": "markdown",
      "metadata": {},
      "source": [
        "### Solution\n\n"
      ]
    },
    {
      "cell_type": "code",
      "execution_count": 1,
      "metadata": {},
      "outputs": [
        {
          "name": "stdout",
          "output_type": "stream",
          "text": [
            "#+begin_example\n[1] 3.141593\n[1] 3.141593\n [1] \"A\" \"B\" \"C\" \"D\" \"E\" \"F\" \"G\" \"H\" \"I\" \"J\" \"K\" \"L\" \"M\" \"N\" \"O\" \"P\" \"Q\" \"R\" \"S\"\n[20] \"T\" \"U\" \"V\" \"W\" \"X\" \"Y\" \"Z\"\n [1] \"a\" \"b\" \"c\" \"d\" \"e\" \"f\" \"g\" \"h\" \"i\" \"j\" \"k\" \"l\" \"m\" \"n\" \"o\" \"p\" \"q\" \"r\" \"s\"\n[20] \"t\" \"u\" \"v\" \"w\" \"x\" \"y\" \"z\"\n[1] \"character\"\n [1] \"January\"   \"February\"  \"March\"     \"April\"     \"May\"       \"June\"\n [7] \"July\"      \"August\"    \"September\" \"October\"   \"November\"  \"December\"\n [1] \"Jan\" \"Feb\" \"Mar\" \"Apr\" \"May\" \"Jun\" \"Jul\" \"Aug\" \"Sep\" \"Oct\" \"Nov\" \"Dec\"\n[1] TRUE\n[1] 2.718281828\n#+end_example"
          ]
        }
      ],
      "source": [
        "print(pi); pi\nLETTERS\nletters\nclass(LETTERS)\nmonth.name\nmonth.abb\nis.vector(month.name)\noptions(digits=10)\nexp(1)"
      ]
    },
    {
      "cell_type": "markdown",
      "metadata": {},
      "source": [
        "### E-notation\n\n"
      ]
    },
    {
      "cell_type": "markdown",
      "metadata": {},
      "source": [
        "Look at the `help` for the `options` function if necessary.\n\n1.  Show the current value of how many digits are displayed\n2.  Reset this value to 15 (you know two ways to do this)\n3.  Store 100,000,000 in an object `foo` and print it\n4.  Print `foo` using `format` and set the attribute `scientific` to `FALSE`:\n    `format(foo, scientific=FALSE)`\n5.  Enter 0.00000000000000010\n6.  Enter `exp(1000)` and `(-1)/0`\n7.  Enter `sqrt(-1)`\n\n"
      ]
    },
    {
      "cell_type": "code",
      "execution_count": 1,
      "metadata": {},
      "outputs": [],
      "source": [
        "..."
      ]
    },
    {
      "cell_type": "markdown",
      "metadata": {},
      "source": [
        "### Solution\n\n"
      ]
    },
    {
      "cell_type": "code",
      "execution_count": 1,
      "metadata": {},
      "outputs": [
        {
          "name": "stdout",
          "output_type": "stream",
          "text": [
            "[1] 7\n[1] 15\n[1] 1e+07\n[1] \"10000000\"\n[1] 1e-16\n[1] NaN"
          ]
        }
      ],
      "source": [
        "options()$digits # show current value\noptions(digits=15); options()$digits  # change value and show change\nfoo <- 10000000; foo\nformat(foo, scientific=FALSE)\n0.00000000000000010\nsqrt(-1)"
      ]
    },
    {
      "cell_type": "markdown",
      "metadata": {},
      "source": [
        "### Special numbers\n\n"
      ]
    },
    {
      "cell_type": "markdown",
      "metadata": {},
      "source": [
        "Execute the following expressions in an R code block - before running\nit with `C-c C-c`, think about the likely output!\n\n1.  `Inf + 1`\n2.  `Inf - 1`\n3.  `Inf - Inf`\n4.  `Inf / Inf`\n5.  `1/0`\n6.  `-1/0`\n7.  `NA`\n8.  `NA + NA`\n9.  `NaN`\n10. `NaN + NaN`\n\n"
      ]
    },
    {
      "cell_type": "markdown",
      "metadata": {},
      "source": [
        "### Solution\n\n"
      ]
    },
    {
      "cell_type": "markdown",
      "metadata": {},
      "source": [
        "![img](./img/4_special.png)\n\n"
      ]
    },
    {
      "cell_type": "markdown",
      "metadata": {},
      "source": [
        "### Special functions\n\n"
      ]
    },
    {
      "cell_type": "markdown",
      "metadata": {},
      "source": [
        "1.  Enter `10^309` and `10^308`. What's going on?\n2.  Subtract `sqrt(2)**2` from `2`. What's going on?\n3.  Show that `sqrt(2)**2` and `2` are not identical using `identical`\n4.  Show that `sqrt(2)**2` and `2` are almost identical using `all.equal`\n5.  Is `NA` finite in R?\n6.  Show that `NaN` is not a number\n7.  Are missing values numbers in R?\n\n<div class=\"notes\" id=\"orgcd8ca6d\">\n<ol class=\"org-ol\">\n<li><code>10^309</code> is <code>Inf</code>. The last number is infinite, because the largest\nnumber that can be represented by a 64-bit computer is\n1.7976931348623157e+308.</li>\n<li>Subtract <code>sqrt(2)^2</code> from <code>2</code>. The answer is: <code>4.440892e-16</code>.</li>\n</ol>\n\n</div>\n\n"
      ]
    },
    {
      "cell_type": "code",
      "execution_count": 1,
      "metadata": {},
      "outputs": [],
      "source": [
        "..."
      ]
    },
    {
      "cell_type": "markdown",
      "metadata": {},
      "source": [
        "### Solution\n\n"
      ]
    },
    {
      "cell_type": "code",
      "execution_count": 1,
      "metadata": {},
      "outputs": [
        {
          "name": "stdout",
          "output_type": "stream",
          "text": [
            "[1] Inf\n[1] 1e+308\n[1] -4.440892e-16\n[1] FALSE\n[1] TRUE\n[1] FALSE\n[1] FALSE"
          ]
        }
      ],
      "source": [
        "10^309 # Inf - cannot be represented by a 64-bit computer\n10^308\n2-sqrt(2)**2\nidentical(sqrt(2)**2,2)\nall.equal(sqrt(2)**2,2)\nis.finite(NA)\nis.nan(NA) # missing values are not non-numbers"
      ]
    },
    {
      "cell_type": "markdown",
      "metadata": {},
      "source": [
        "### Logical values\n\n"
      ]
    },
    {
      "cell_type": "markdown",
      "metadata": {},
      "source": [
        "1.  Print `TRUE`\n2.  Can you use `true` instead of `TRUE`?\n3.  Can you use `T` instead of `TRUE`?\n4.  Assign `FALSE` to an R object named `T`\n5.  Print `T`\n6.  What type of R object is `TRUE`?\n\n<div class=\"notes\" id=\"org3ee72b3\">\n<p>\nRichard Cotton (2011) calls R's logic \"Troolean\" logic, because\nbesides the so-called Boolean values <code>TRUE</code> and <code>FALSE</code>, R also has a\nthird logical value, the \"missing\" value, <code>NA</code>\n</p>\n\n\n<div id=\"org237e8a0\" class=\"figure\">\n<p>[img src=\"./img/4_predef.png\" alt=\"4_predef.png\" /](img src=\"./img/4_predef.png\" alt=\"4_predef.png\" /)\n</p>\n</div>\n\n</div>\n\n"
      ]
    },
    {
      "cell_type": "markdown",
      "metadata": {},
      "source": [
        "### Solution\n\n"
      ]
    },
    {
      "cell_type": "code",
      "execution_count": 1,
      "metadata": {},
      "outputs": [
        {
          "name": "stdout",
          "output_type": "stream",
          "text": [
            "[1] TRUE\n[1] TRUE\n[1] FALSE\n[1] \"logical\""
          ]
        }
      ],
      "source": [
        "TRUE\nT  # printing true generates an error\nT <- FALSE\nT\nclass(TRUE)"
      ]
    },
    {
      "cell_type": "markdown",
      "metadata": {},
      "source": [
        "### Logical operators\n\n"
      ]
    },
    {
      "cell_type": "markdown",
      "metadata": {},
      "source": [
        "1.  Check equality of `sqrt(2)^2` and `2` using a logical operator.\n2.  Check that \"1 is equal 2 or 1 is not equal 1\" is `FALSE`.\n\n<div class=\"notes\" id=\"org076b597\">\n<p>\nComparing non-integers is iffy, because non-integers (floating-point\nnumbers) are only an approximation of the \"pure\", real numbers - how\naccurate they are depends on the architecture of your computer. In\npractice, this means that rounding errors can creep in your\ncalculations, leading to wildly wrong answers. [a href=\"https://cran.r-project.org/doc/FAQ/R-FAQ.html#Why-doesn_0027t-R-think-these-numbers-are-equal_003f\">The R FAQ has an own\nentry about it</a](a href=\"https://cran.r-project.org/doc/FAQ/R-FAQ.html#Why-doesn_0027t-R-think-these-numbers-are-equal_003f\">The R FAQ has an own\nentry about it</a). The figure shows a simple example: <code>sqrt(2)^2</code> and <code>2</code>\nshould be the same, but they aren't as far as R is concerned - a\nlogical comparison with <code>==</code> gives <code>FALSE</code>. To test near equality (bar\nrounding errors), you can use the function <code>all.equal</code>. To test for\nexact equality, use <code>identical</code>:\n</p>\n\n\n<div id=\"org83a0d11\" class=\"figure\">\n<p>[img src=\"./img/4_floating.png\" alt=\"4_floating.png\" /](img src=\"./img/4_floating.png\" alt=\"4_floating.png\" /)\n</p>\n</div>\n\n<p>\n<b>CHALLENGE:</b> (1) Check the help pages <code>?all.equal</code> and\n<code>?identical</code>. (2) Which of these numbers are infinite? <code>0</code>, <code>Inf</code>,\n<code>-Inf</code>, <code>NaN</code>, <code>NA</code>, <code>10^308</code>, <code>10^309</code>. (3) How small is the\nrounding error in the example in the figure actually?\n</p>\n\n</div>\n\n"
      ]
    },
    {
      "cell_type": "markdown",
      "metadata": {},
      "source": [
        "### Solution\n\n"
      ]
    },
    {
      "cell_type": "code",
      "execution_count": 1,
      "metadata": {},
      "outputs": [
        {
          "name": "stdout",
          "output_type": "stream",
          "text": [
            "[1] FALSE\n[1] FALSE"
          ]
        }
      ],
      "source": [
        "sqrt(2)^2 == 2\n(1 == 2) | (1 != 1)"
      ]
    }
  ],
  "metadata": {
    "org": null,
    "kernelspec": {
      "display_name": "R",
      "language": "R",
      "name": "ir"
    },
    "language_info": {
      "codemirror_mode": "r",
      "file_extension": ".r",
      "mimetype": "text/x-r-source",
      "name": "R",
      "pygments_lexer": "r",
      "version": "3.3.2"
    }
  },
  "nbformat": 4,
  "nbformat_minor": 0
}