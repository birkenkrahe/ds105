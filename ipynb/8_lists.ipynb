{
  "cells": [
    {
      "cell_type": "markdown",
      "metadata": {},
      "source": [
        "## Creating (named) lists\n\n"
      ]
    },
    {
      "cell_type": "markdown",
      "metadata": {},
      "source": [
        "-   Creating a list is much like creating a vector with the `c` function\n\n-   You supply the elements to the `list` function, separated by commata\n\n-   Let's define a list `foo` and print it:\n\n"
      ]
    },
    {
      "cell_type": "code",
      "execution_count": 1,
      "metadata": {},
      "outputs": [],
      "source": [
        "foo <- list(\n  matrix(data = 1:4,\n         nrow = 2,\n         ncol = 2),\n  c(TRUE,FALSE,TRUE,TRUE),\n  \"hello\")\nfoo"
      ]
    },
    {
      "cell_type": "markdown",
      "metadata": {},
      "source": [
        "-   List elements are indexed with the `[[` operator. Within each element,\n    the elements are indexed according to their data structure\n\n-   What is the `length` of the list `foo`?\n\n"
      ]
    },
    {
      "cell_type": "code",
      "execution_count": 1,
      "metadata": {},
      "outputs": [],
      "source": [
        "length(x = foo)"
      ]
    },
    {
      "cell_type": "markdown",
      "metadata": {},
      "source": [
        "-   What is the `class` of the list `foo` and of its elements?\n\n"
      ]
    },
    {
      "cell_type": "code",
      "execution_count": 1,
      "metadata": {},
      "outputs": [],
      "source": [
        "class(foo)\nclass(foo[[1]])\nclass(foo[[2]])\nclass(foo[[3]])"
      ]
    },
    {
      "cell_type": "markdown",
      "metadata": {},
      "source": [
        "## Practice creating a `list`\n\n"
      ]
    },
    {
      "cell_type": "markdown",
      "metadata": {},
      "source": [
        "Create a list that contains, in this order\n\n1.  a `seq`-uence of 20 evenly spread numbers between `-4` and `4`\n2.  a 3 x 3 `matrix` of the `logical` vector `c(F,T,T,T,F,T,T,F,F)` filled\n    column-wise\n3.  a `character` vector with the two strings `\"don\"` and `\"quixote\"`\n\n"
      ]
    },
    {
      "cell_type": "code",
      "execution_count": 1,
      "metadata": {},
      "outputs": [],
      "source": [
        "seq <- seq(from=-4, to=4, length.out=20)  #1\nmat <- matrix(c(F,T,T,T,F,T,T,F,F),nrow=3,byrow=FALSE) #2\nchr <- c(\"don\",\"quixote\")  #3\np <- list(seq, mat, chr)\np"
      ]
    },
    {
      "cell_type": "markdown",
      "metadata": {},
      "source": [
        "## Subsetting lists\n\n"
      ]
    },
    {
      "cell_type": "markdown",
      "metadata": {},
      "source": [
        "-   Retrieve list members using indices in **double** square brackets\n\n-   Retrieve (or remove) list member elements using **single** square\n    brackets\n\n-   Some examples:\n    1.  Retrieve the 1st list member of `foo` defined earlier.\n    2.  Retrieve the 3rd element of the 1st member of `foo`.\n    3.  Retrieve the 2nd through 4th element of the 2nd member.\n    4.  Retrieve the 3rd member.\n    5.  What is the 2nd element of the 3rd member?\n\n"
      ]
    },
    {
      "cell_type": "code",
      "execution_count": 1,
      "metadata": {},
      "outputs": [],
      "source": [
        "foo[[1]]        #1\nfoo[[1]][3]     #2\nfoo[[2]][2:4]   #3\nfoo[[3]]        #4\nfoo[[3]][2]     #5"
      ]
    },
    {
      "cell_type": "markdown",
      "metadata": {},
      "source": [
        "-   Same for the matrix member of the list: use double indices\n    1.  retrieve the 2nd column of the 1st member of `foo`\n    2.  retrieve the 2nd row, 1st column of the 1st member of `foo`\n    3.  retrieve elements 1 through 4 of the 1st member of `foo`\n\n"
      ]
    },
    {
      "cell_type": "code",
      "execution_count": 1,
      "metadata": {},
      "outputs": [],
      "source": [
        "foo[[1]]\nfoo[[1]][,2]   #1\nfoo[[1]][2,1]  #2\nfoo[[1]][1:4]  #3  this is.vector and not matrix!\nfoo[[1]][2]    # this works, too - remember byrow=FALSE"
      ]
    },
    {
      "cell_type": "markdown",
      "metadata": {},
      "source": [
        "-   Using double square brackets on a list is always interpreted with\n    respect to a single member, for example:\n\n"
      ]
    },
    {
      "cell_type": "code",
      "execution_count": 1,
      "metadata": {},
      "outputs": [],
      "source": [
        "foo[[c(2,3)]]\nfoo[[2]][3]"
      ]
    },
    {
      "cell_type": "markdown",
      "metadata": {},
      "source": [
        "-   Using the `-` operator inside the single index brackets to remove:\n\n"
      ]
    },
    {
      "cell_type": "code",
      "execution_count": 1,
      "metadata": {},
      "outputs": [],
      "source": [
        "foo[[2]]\nfoo[[2]][-1]"
      ]
    },
    {
      "cell_type": "markdown",
      "metadata": {},
      "source": [
        "-   Preview: how would you extract the string member of `foo`?\n\n"
      ]
    },
    {
      "cell_type": "code",
      "execution_count": 1,
      "metadata": {},
      "outputs": [],
      "source": [
        "char <- lapply(X=foo,FUN=is.character) # test each member\nidx <- which(char==TRUE) # get the index\nfoo[[idx]]  # index list"
      ]
    },
    {
      "cell_type": "markdown",
      "metadata": {},
      "source": [
        "-   The `apply` family of functions will be taught in advanced data\n    science, including `lapply` (apply `FUN`-ctions across a whole `list`)\n\n"
      ]
    },
    {
      "cell_type": "markdown",
      "metadata": {},
      "source": [
        "## Practice extracting from a `list`\n\n"
      ]
    },
    {
      "cell_type": "markdown",
      "metadata": {},
      "source": [
        "Solve the following extraction problems:\n\n1.  Extract the 2nd member of `p`\n2.  Extract the 2nd column of the 2nd member of `p`\n3.  Extract the first and the last element of the 1st member of `p`\n\n"
      ]
    },
    {
      "cell_type": "code",
      "execution_count": 1,
      "metadata": {},
      "outputs": [],
      "source": [
        "p[[2]]      #1\np[[2]][,2]  #2\np[[1]][c(1,length(p[[1]]))] #3"
      ]
    },
    {
      "cell_type": "markdown",
      "metadata": {},
      "source": [
        "## Removing, overwriting and slicing a `list`\n\n"
      ]
    },
    {
      "cell_type": "markdown",
      "metadata": {},
      "source": [
        "-   To overwrite a list member, use the assignment operator `<-`\n\n"
      ]
    },
    {
      "cell_type": "code",
      "execution_count": 1,
      "metadata": {},
      "outputs": [],
      "source": [
        "foo[[3]]\nbar <- foo # safety copy\nbar[[3]] <- paste(foo[[3]], \"world!\")\nbar[[3]]"
      ]
    },
    {
      "cell_type": "markdown",
      "metadata": {},
      "source": [
        "-   Here, `paste` concatenates strings but can also be used for output:\n\n"
      ]
    },
    {
      "cell_type": "code",
      "execution_count": 1,
      "metadata": {},
      "outputs": [
        {
          "name": "stdout",
          "output_type": "stream",
          "text": [
            ": [1] \"a is 10,000\"\n  : [1] \"x is 10000\""
          ]
        }
      ],
      "source": [
        "a <- \"10,000\"\npaste(\"a is\", a)\n\nx <- 10000\npaste(\"x is\", x)"
      ]
    },
    {
      "cell_type": "markdown",
      "metadata": {},
      "source": [
        "-   To remove a list member, overwrite it with `NULL` (like `names`)\n\n"
      ]
    },
    {
      "cell_type": "code",
      "execution_count": 1,
      "metadata": {},
      "outputs": [],
      "source": [
        "baz <- foo  # safety copy\nbaz[[1]] <- NULL\nbaz"
      ]
    },
    {
      "cell_type": "markdown",
      "metadata": {},
      "source": [
        "-   *List slicing* means selecting multiple list items at once:\n\n"
      ]
    },
    {
      "cell_type": "code",
      "execution_count": 1,
      "metadata": {},
      "outputs": [],
      "source": [
        "foo[c(2,3)] # select list members 2 and 3"
      ]
    },
    {
      "cell_type": "markdown",
      "metadata": {},
      "source": [
        "-   Note that the sliced list is itself a `list`\n\n"
      ]
    },
    {
      "cell_type": "markdown",
      "metadata": {},
      "source": [
        "## Naming lists\n\n"
      ]
    },
    {
      "cell_type": "markdown",
      "metadata": {},
      "source": [
        "-   List members can be *named* just like vector or data frame elements\n\n-   A name is an R *attribute*. An unnamed list has none:\n\n"
      ]
    },
    {
      "cell_type": "code",
      "execution_count": 1,
      "metadata": {},
      "outputs": [],
      "source": [
        "attributes(foo)"
      ]
    },
    {
      "cell_type": "markdown",
      "metadata": {},
      "source": [
        "-   Name the members of `foo` using `names`, then print `str(foo)`:\n\n"
      ]
    },
    {
      "cell_type": "code",
      "execution_count": 1,
      "metadata": {},
      "outputs": [
        {
          "name": "stdout",
          "output_type": "stream",
          "text": [
            ": List of 3\n  :  $ mymatrix  : int [1:2, 1:2] 1 2 3 4\n  :  $ mylogicals: logi [1:4] TRUE FALSE TRUE TRUE\n  :  $ mystring  : chr \"hello\""
          ]
        }
      ],
      "source": [
        "names(foo) <- c(\n  \"mymatrix\",\n  \"mylogicals\",\n  \"mystring\")\nstr(foo)"
      ]
    },
    {
      "cell_type": "markdown",
      "metadata": {},
      "source": [
        "-   You can now use the names to subset the list as usual:\n    1.  Print the `matrix` member of `foo`.\n    2.  Print the 2nd column of the `matrix` member.\n    3.  Print the 2nd through 4th element of the `logical` member.\n\n"
      ]
    },
    {
      "cell_type": "code",
      "execution_count": 1,
      "metadata": {},
      "outputs": [],
      "source": [
        "foo$mymatrix      #1\nfoo$mymatrix[,2]  #2\nfoo$mylogicals[2:4]"
      ]
    },
    {
      "cell_type": "markdown",
      "metadata": {},
      "source": [
        "-   Note that the `names` are stored as a `character` vector but not used\n    with quotes. Also, you cannot use the names inside double brackets\n\n"
      ]
    },
    {
      "cell_type": "code",
      "execution_count": 1,
      "metadata": {},
      "outputs": [],
      "source": [
        "vec <- c(\"a\"=1,\"b\"=2)   # vector with two named elements\nnames(vec)        # names of vector elements\nvec[\"a\"]          # extracting element with name\nvec[1]            # extracting element with index\nvec[c(\"a\",\"b\")]   # extracting elements with names vector\nvec[c(1,2)]       # extracting elements with index vector\nn <- names(vec)   # storing names vector\nvec[n]            # extracting elements with names vector"
      ]
    },
    {
      "cell_type": "markdown",
      "metadata": {},
      "source": [
        "-   You can also name the list when creating it with `list`:\n\n"
      ]
    },
    {
      "cell_type": "code",
      "execution_count": 1,
      "metadata": {},
      "outputs": [],
      "source": [
        "q <- list(\n  \"my name\"=\"Adam\",\n  \"my sons\"= c(\"Kain\", \"Abel\"))\nstr(q)"
      ]
    },
    {
      "cell_type": "markdown",
      "metadata": {},
      "source": [
        "## Practice naming lists\n\n"
      ]
    },
    {
      "cell_type": "markdown",
      "metadata": {},
      "source": [
        "1.  Make a safety copy `np` of `p`\n2.  Name the elements of `np` in this order: `num`, `logmat`, `char`\n3.  Display the structure of the named list `p`\n4.  Remove the 2nd string of the 3rd member using its name\n\n"
      ]
    },
    {
      "cell_type": "code",
      "execution_count": 1,
      "metadata": {},
      "outputs": [],
      "source": [
        "np <- p                               #1\nnames(np) <- c(\"num\",\"logmat\",\"char\") #2\nstr(np)                               #3\nnp$char[-2]"
      ]
    }
  ],
  "metadata": {
    "org": null,
    "kernelspec": {
      "display_name": "R",
      "language": "R",
      "name": "ir"
    },
    "language_info": {
      "codemirror_mode": "r",
      "file_extension": ".r",
      "mimetype": "text/x-r-source",
      "name": "R",
      "pygments_lexer": "r",
      "version": "3.3.2"
    }
  },
  "nbformat": 4,
  "nbformat_minor": 0
}