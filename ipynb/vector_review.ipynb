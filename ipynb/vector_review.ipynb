{
  "cells": [
    {
      "cell_type": "markdown",
      "metadata": {},
      "source": [
        "### Vectors - preview and review\n\n"
      ]
    },
    {
      "cell_type": "markdown",
      "metadata": {},
      "source": [
        "1.  What's `NULL`? How do you get it or use it?\n\n"
      ]
    },
    {
      "cell_type": "code",
      "execution_count": 1,
      "metadata": {},
      "outputs": [
        {
          "name": "stdout",
          "output_type": "stream",
          "text": [
            ": [1] 0\n   : [1] \"NULL\"\n   : [1] 1\n   : [1] \"logical\"\n   : NULL\n   : [1] TRUE"
          ]
        }
      ],
      "source": [
        "print(length(NULL))\nprint(class(NULL))\nprint(length(NA))\nprint(class(NA))\nlst <- list(a = 1, b = 2)\nprint(lst$c)  # NULL since 'c' doesn't exist in the list\nprint(is.null(lst$c))"
      ]
    },
    {
      "cell_type": "markdown",
      "metadata": {},
      "source": [
        "1.  What is `c(FALSE, FALSE, FALSE) + 1`\n\n"
      ]
    },
    {
      "cell_type": "code",
      "execution_count": 1,
      "metadata": {},
      "outputs": [
        {
          "name": "stdout",
          "output_type": "stream",
          "text": [
            ": [1] 1 1 1"
          ]
        }
      ],
      "source": [
        "c(FALSE, FALSE, FALSE) + 1"
      ]
    },
    {
      "cell_type": "markdown",
      "metadata": {},
      "source": [
        "1.  An 'atomic' vector has only one data type. What is\n    `c(\"me\",1,TRUE,Inf)`? How can you verify this?\n\n"
      ]
    },
    {
      "cell_type": "code",
      "execution_count": 1,
      "metadata": {},
      "outputs": [
        {
          "name": "stdout",
          "output_type": "stream",
          "text": [
            ": [1] TRUE TRUE"
          ]
        }
      ],
      "source": [
        "foo <- c(\"me\",1,TRUE,Inf)\nprint(c(class(foo) == 'character',\n        is.vector(foo)))"
      ]
    },
    {
      "cell_type": "markdown",
      "metadata": {},
      "source": [
        "1.  How can you create the following pattern from \"foo bar\"?\n    \n        \"foo\" \"foo\" \"foo\" \"bar\" \"bar\" \"bar\"\n\n"
      ]
    },
    {
      "cell_type": "code",
      "execution_count": 1,
      "metadata": {},
      "outputs": [
        {
          "name": "stdout",
          "output_type": "stream",
          "text": [
            ": [1] \"foo\" \"foo\" \"foo\" \"bar\" \"bar\" \"bar\""
          ]
        }
      ],
      "source": [
        "rep(c(\"foo\",\"bar\"), each=3)"
      ]
    },
    {
      "cell_type": "markdown",
      "metadata": {},
      "source": [
        "1.  What is `seq(from=100,to=200,by=-10)`\n\n"
      ]
    },
    {
      "cell_type": "code",
      "execution_count": 1,
      "metadata": {},
      "outputs": [
        {
          "name": "stdout",
          "output_type": "stream",
          "text": [
            ":  [1] 100 110 120 130 140 150 160 170 180 190 200"
          ]
        }
      ],
      "source": [
        "# stepwidth `by` must be positive if `to` value > `from` value\nseq(from=100,to=200,by=10)"
      ]
    },
    {
      "cell_type": "markdown",
      "metadata": {},
      "source": [
        "1.  How can you reverse `seq(10,12,by=0.5)`?\n\n"
      ]
    },
    {
      "cell_type": "code",
      "execution_count": 1,
      "metadata": {},
      "outputs": [
        {
          "name": "stdout",
          "output_type": "stream",
          "text": [
            ": [1] 10.0 10.5 11.0 11.5 12.0\n   : [1] 12.0 11.5 11.0 10.5 10.0"
          ]
        }
      ],
      "source": [
        "foo <- seq(10,12,by=0.5)\nfoo\nsort(foo,decreasing=TRUE)"
      ]
    },
    {
      "cell_type": "markdown",
      "metadata": {},
      "source": [
        "1.  What happens when you add two vectors of unequal length?\n\n"
      ]
    },
    {
      "cell_type": "code",
      "execution_count": 1,
      "metadata": {},
      "outputs": [
        {
          "name": "stdout",
          "output_type": "stream",
          "text": [
            ": [1] 200 300 400\n   : [1] 200 400 400 600\n   : [1] 200 400 400\n   : Warning message:\n   : In c(100, 200, 300) + c(100, 200) :\n   :   longer object length is not a multiple of shorter object length"
          ]
        }
      ],
      "source": [
        "# 1st vector is a multiple of the second vector\nc(100,200,300) + c(100)\n                                        # 1st vector is a multiple of the second vector\nc(100,200,300,400) + c(100,200)\n                                        # 1st vector is not a multiple of the second vector\nc(100,200,300) + c(100,200)"
      ]
    },
    {
      "cell_type": "markdown",
      "metadata": {},
      "source": [
        "1.  How can you retrieve the first row of the `mpg` column of `mtcars`?\n\n"
      ]
    },
    {
      "cell_type": "code",
      "execution_count": 1,
      "metadata": {},
      "outputs": [
        {
          "name": "stdout",
          "output_type": "stream",
          "text": [
            ": [1] 21\n   : [1] 21"
          ]
        }
      ],
      "source": [
        "# What are we retrieving?\nprint(mtcars$mpg[1])\nprint(mtcars[1,1])"
      ]
    },
    {
      "cell_type": "markdown",
      "metadata": {},
      "source": [
        "1.  If `foo <- c(100,200,300)`, what are `foo < 200` and `foo[foo<200]`?\n\n"
      ]
    },
    {
      "cell_type": "code",
      "execution_count": 1,
      "metadata": {},
      "outputs": [
        {
          "name": "stdout",
          "output_type": "stream",
          "text": [
            ": [1]  TRUE FALSE FALSE\n   : [1] 100"
          ]
        }
      ],
      "source": [
        "foo <- c(100,200,300)\nfoo < 200\nfoo[foo < 200]"
      ]
    },
    {
      "cell_type": "markdown",
      "metadata": {},
      "source": [
        "1.  What is the sum of the last 2 elements of `c(TRUE,TRUE,FALSE)` and\n    how would you extract these elements and `sum` them up in one line?\n\n"
      ]
    },
    {
      "cell_type": "code",
      "execution_count": 1,
      "metadata": {},
      "outputs": [
        {
          "name": "stdout",
          "output_type": "stream",
          "text": [
            ": [1]  TRUE  TRUE FALSE\n    : [1] 1"
          ]
        }
      ],
      "source": [
        "bar <- c(TRUE,TRUE,FALSE)\nbar\nsum(bar[-1])"
      ]
    }
  ],
  "metadata": {
    "org": null,
    "kernelspec": {
      "display_name": "R",
      "language": "R",
      "name": "ir"
    },
    "language_info": {
      "codemirror_mode": "r",
      "file_extension": ".r",
      "mimetype": "text/x-r-source",
      "name": "R",
      "pygments_lexer": "r",
      "version": "3.3.2"
    }
  },
  "nbformat": 4,
  "nbformat_minor": 0
}