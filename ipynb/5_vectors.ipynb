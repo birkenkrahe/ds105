{
  "cells": [
    {
      "cell_type": "markdown",
      "metadata": {},
      "source": "VECTORS in R\n============\n\n**Author:** Introduction to data science (DSC 105) Fall 2022\n\n"
    },
    {
      "cell_type": "markdown",
      "metadata": {},
      "source": [
        "![img](../img/5_workhorse.png)\n\n"
      ]
    },
    {
      "cell_type": "markdown",
      "metadata": {},
      "source": [
        "## What will you learn?\n\n"
      ]
    },
    {
      "cell_type": "markdown",
      "metadata": {},
      "source": [
        "![img](../img/5_workhorse.jpg)\n\nAfter this lesson, you should be able to:\n\n-   Understand assignment in R\n-   Creating vectors, sequences and repetitions\n-   Sorting and measuring vector length\n-   Subsetting and extracting vector elements\n-   Vectorizing (rescaling)\n-   Classes and logical vectors\n\n*Most sections are accompanied by YouTube videos.*\n\n"
      ]
    },
    {
      "cell_type": "markdown",
      "metadata": {},
      "source": [
        "## Everything is an object [video​](https://youtu.be/7Ab2RQs7Lj8)\n\n"
      ]
    },
    {
      "cell_type": "markdown",
      "metadata": {},
      "source": [
        "![img](../img/5_berlin.png)\n\n-   R is a functional, object-oriented language\n\n-   There are usually many different ways to achive the same result\n\n-   Different solutions differ in: performance, clarity, ease of use\n\n-   PERFORMANCE: important for large data sets only\n\n-   CLARITY: essential when communicating methods, code, results\n\n-   EASE OF USE: determines the fun you have when programming\n\n[[Watch YouTube Playlist Vectors Part I​]​](https://www.youtube.com/playlist?list=PL6SfZh1-kWXl3_YDc-8SS5EuG4h1aILHz)\n\n<div class=\"notes\" id=\"org968a352\">\n<p>\nR is a functional, object-oriented language: everything's an object,\nand functions rule, as you already know. Because functions rule,\nthere are usually many different ways to achieve the same\nresult. They often differ in terms of performance, ease of use, and\nclarity. Performance becomes important when you work with truly\nlarge data sets, otherwise not so much. Ease of use to some extent\ndetermines the fun you do or don't have when using the\nlanguage. Clarity is essential when communicating your methods\n(including your code) and your results to others. This is not a nice\nto have. Views of different packages (like the Tidyverse) differ\nmassively regarding all of these.\n</p>\n\n</div>\n\n"
      ]
    },
    {
      "cell_type": "markdown",
      "metadata": {},
      "source": [
        "## Assigning objects [(video)​](https://youtu.be/WZqJ_AyoOEU)\n\n"
      ]
    },
    {
      "cell_type": "markdown",
      "metadata": {},
      "source": [
        "-   You can use `<-` or `=` for assignment of values to variables\n-   Use `<-` for objects, and `=` to assign function parameters\n-   Object names must start with a letter and avoid reserved words\n\n-   Challenge (15 min):\n    1.  Create an object `foo` that stores the value 3<sup>2</sup> &times; 4<sup>1/8</sup> and\n        display it.\n\n"
      ]
    },
    {
      "cell_type": "code",
      "execution_count": 1,
      "metadata": {},
      "outputs": [],
      "source": [
        "foo <- 3**2 * 4**(1/8)\nfoo"
      ]
    },
    {
      "cell_type": "markdown",
      "metadata": {},
      "source": [
        "1.  Overwrite `foo` with itself divided by 2.33. Print the result to\n    the console.\n\n"
      ]
    },
    {
      "cell_type": "code",
      "execution_count": 1,
      "metadata": {},
      "outputs": [],
      "source": [
        "foo <- foo / 2.33\nfoo"
      ]
    },
    {
      "cell_type": "markdown",
      "metadata": {},
      "source": [
        "1.  Experiment with different formats and types - look all\n    functions that you don't know up using `help`:\n    1.  Create a new object `bar` with the value -8.2 &times; 10<sup>-13</sup> using\n        scientific (\"e\") notation and print it to the console.\n    2.  Print `bar` again, but this time **without** scientific notation,\n        using the `format` function. Save the result in `barf`\n    3.  Check the data type of `barf` with the `class` function.\n    4.  Convert `barf` back to a number with the `as.numeric` function.\n\n"
      ]
    },
    {
      "cell_type": "code",
      "execution_count": 1,
      "metadata": {},
      "outputs": [],
      "source": [
        "bar <- -8.2e-13\nbar\nbarf <- format(bar, scientific=FALSE)\nbarf\nclass(barf)\nas.numeric(barf)"
      ]
    },
    {
      "cell_type": "markdown",
      "metadata": {},
      "source": [
        "1.  Print the result of multiplying `foo` and `bar` to the console.\n\n"
      ]
    },
    {
      "cell_type": "code",
      "execution_count": 1,
      "metadata": {},
      "outputs": [],
      "source": [
        "foo * bar"
      ]
    },
    {
      "cell_type": "markdown",
      "metadata": {},
      "source": [
        "1.  Check all variables created in the current session so far with\n    `ls`, then delete them with `rm`, and check that they're all gone.\n\n"
      ]
    },
    {
      "cell_type": "code",
      "execution_count": 1,
      "metadata": {},
      "outputs": [],
      "source": [
        "ls()\nrm(list=ls())\nls()"
      ]
    },
    {
      "cell_type": "markdown",
      "metadata": {},
      "source": [
        "## Why we need vectors [(video)](https://youtu.be/iFsB_34mnR0)\n\n"
      ]
    },
    {
      "cell_type": "markdown",
      "metadata": {},
      "source": [
        "-   We need vectors to handle multiple items in R\n-   Vectors contain observations or measurements of a single variable\n-   Each vector can have only one data type - e.g. `numeric`.\n\n-   Give three examples of such collections for vectors:\n    -   numbers, e.g. the heights of students in this class\n    -   text, e.g. the names of students of this class\n    -   logical values, e.g. sex of students of this class\n\n-   Define sample vectors `s_heights`, `s_names` and `s_male` using the `c`\n    function.\n\n-   Print the vectors.\n\n<div class=\"notes\" id=\"org2006f28\">\n<p>\n<b>Solution:</b>\n</p>\n\n<ol class=\"org-ol\">\n<li>the heights of every student of this class, in cm.</li>\n<li>the first names of every student of this class (strings).</li>\n<li>observations, if a student is male or not male (male means <code>TRUE</code>).</li>\n</ol>\n\n<p>\nLet's put some wood behind the arrow and define sample vectors for these:\n</p>\n\n</div>\n\n"
      ]
    },
    {
      "cell_type": "code",
      "execution_count": 1,
      "metadata": {},
      "outputs": [
        {
          "name": "stdout",
          "output_type": "stream",
          "text": [
            "[1] 180 181 158 175 179 168\n[1] \"Vincent\"  \"Natalija\" \"Adrian\"   \"Andres\"   \"Helena\"\n[1]  TRUE FALSE  TRUE  TRUE FALSE"
          ]
        }
      ],
      "source": [
        "s_heights <- c(180, 181, 158, 175, 179, 168)\ns_names <- c(\"Vincent\", \"Natalija\", \"Adrian\", \"Andres\", \"Helena\")\ns_male <- c(TRUE, FALSE, TRUE, TRUE, FALSE)\ns_heights\ns_names\ns_male"
      ]
    },
    {
      "cell_type": "markdown",
      "metadata": {},
      "source": [
        "## R object `class`\n\n"
      ]
    },
    {
      "cell_type": "markdown",
      "metadata": {},
      "source": [
        "![img](../img/5_class.jpg)\n\n-   The function `class` (check the help) returns the R object type\n\n-   Object type is not the same as data type or storage type\n\n-   Besides types there are also data structures (like `vector`)\n\n-   Let's check the class for our three vectors with student data\n\n<div class=\"notes\" id=\"org55fa293\">\n<p>\nIn order to check what R thinks about your observation or data type,\nyou can use the function <code>class</code>. Look at the help page for details\nand enter the examples at the bottom of the help page.\n</p>\n\n<p>\nLet's call <code>class</code> for our three sample vectors:\n</p>\n\n</div>\n\n"
      ]
    },
    {
      "cell_type": "code",
      "execution_count": 1,
      "metadata": {},
      "outputs": [],
      "source": [
        "class(s_heights) # what type vector is this?\nclass(s_names)   # what type vector is this?\nclass(s_male)    # what type vector is this?"
      ]
    },
    {
      "cell_type": "markdown",
      "metadata": {},
      "source": [
        "## Creating vectors [(video)](https://youtu.be/Ov6SIrpY_io)\n\n"
      ]
    },
    {
      "cell_type": "markdown",
      "metadata": {},
      "source": [
        "-   The function to create a vector, or \"combine values\", is `c()`:\n\n"
      ]
    },
    {
      "cell_type": "code",
      "execution_count": 1,
      "metadata": {},
      "outputs": [],
      "source": [
        "myvec <- c(1,3,1,42) # combine integers as vector\nmyvec                # prints 1 3 1 42\nclass(myvec)         # determine the data type - \"numeric\""
      ]
    },
    {
      "cell_type": "markdown",
      "metadata": {},
      "source": [
        "-   Vector elements can be calculations or previously stored items:\n\n"
      ]
    },
    {
      "cell_type": "code",
      "execution_count": 1,
      "metadata": {},
      "outputs": [],
      "source": [
        "foo <- 32.1\nmyvec2 <- c(3, -3, 3.45, 1e+03, 64^0.5, 2+(3-1.1)/9.44, foo)\nmyvec2"
      ]
    },
    {
      "cell_type": "markdown",
      "metadata": {},
      "source": [
        "-   Vector elements can even be vectors themselves:\n\n"
      ]
    },
    {
      "cell_type": "code",
      "execution_count": 1,
      "metadata": {},
      "outputs": [],
      "source": [
        "myvec3 <- c(myvec, myvec2)\nmyvec3\nclass(myvec3)"
      ]
    },
    {
      "cell_type": "markdown",
      "metadata": {},
      "source": [
        "-   In the resulting output, the two vectors were put side by side. The\n    new vector now has 11 = 4 + 7 elements.\n\n-   [ ] What about missing values, `NA`, and non-numbers, `NaN`, and what\n    about the special values `Inf` and `-Inf` - can you have these in\n    vectors, too? Can you think about a way to test this?\n\n"
      ]
    },
    {
      "cell_type": "code",
      "execution_count": 1,
      "metadata": {},
      "outputs": [],
      "source": [
        "specvec <- c(NA, NaN) # a vector with a NA and a NaN\nclass(specvec)\nis.nan(specvec)  # testing for NaN values\nis.na(specvec)   # testing for NA values\nspecvec1 <- c(specvec, Inf, -Inf) # a new vector with Inf, Inf\nis.finite(specvec1)  # testing for finiteness\nis.infinite(specvec1)  # testing for infiniteness\nclass(specvec1)"
      ]
    },
    {
      "cell_type": "markdown",
      "metadata": {},
      "source": [
        "## Base R - what's that again?\n\n"
      ]
    },
    {
      "cell_type": "markdown",
      "metadata": {},
      "source": [
        "-   Let's not forget that there are real data out there!\n\n-   R (i.e. \"[Base R](https://iqss.github.io/dss-workshops/R/Rintro/base-r-cheat-sheet.pdf)\") includes a number of built-in datasets\n    \n    ![img](../img/baseR.png)\n\n-   Do you remember how to find these pre-loaded datasets? One of these\n    is `Nile`. Do you remember how to get information on such a dataset\n    (or on any R object)?\n\n"
      ]
    },
    {
      "cell_type": "markdown",
      "metadata": {},
      "source": [
        "## Example: down the Nile [(video)](https://youtu.be/wwsD2KuoKt8)\n\n"
      ]
    },
    {
      "cell_type": "markdown",
      "metadata": {},
      "source": [
        "![img](../img/nile.png)\n\n-   What data structure is `Nile`?\n\n-   `Nile` contains a so-called \"time series\", a sequence of numbers that\n    correspond to measurements of the annual flow (in billion - 10⁸ -\n    cubic meters) of the river Nile at [Aswan](https://en.wikipedia.org/wiki/Aswan), measured between\n    1871-1970. You can use `class` to confirm it:\n\n"
      ]
    },
    {
      "cell_type": "code",
      "execution_count": 1,
      "metadata": {},
      "outputs": [],
      "source": [
        "class(Nile)  # what type of dataset is this?"
      ]
    },
    {
      "cell_type": "markdown",
      "metadata": {},
      "source": [
        "<div class=\"notes\" id=\"org31b64ea\">\n<p>\nThe output is <code>\"ts\"</code> or time series. You may remember that we\npreviously looked at large datasets. <code>mtcars</code> for example was a\n\"data frame\" (we'll learn more about them later).\n</p>\n\n</div>\n\n-   How can we print this dataset, or parts of it, on the screen?\n    \n    <div class=\"notes\" id=\"orgf267b38\">\n    <p>\n    <b>Solution:</b> there are different ways to look inside <code>Nile</code>:\n    </p>\n    \n    </div>\n\n"
      ]
    },
    {
      "cell_type": "code",
      "execution_count": 1,
      "metadata": {},
      "outputs": [],
      "source": [
        "str(Nile)   # show dataset structure\nhead(Nile)  # show first few elements\nNile        # this prints the whole dataset"
      ]
    },
    {
      "cell_type": "markdown",
      "metadata": {},
      "source": [
        "<div class=\"notes\" id=\"org6f609b0\">\n<p>\n\n</p>\n\n<p>\nBecause we don't know yet how to look at sub-vectors or individual\nvector elements, we cannot directly check what type the elements of\n<code>Nile</code> have, but the output seems to suggest that the Nile flow is\nmeasured in integer numbers.\n</p>\n\n<p>\nYou can also see from the print output of <code>Nile</code> how row labels\nwork: there are 15 numbers per row, and the second row starts with\nthe 16th number, indicated by <code>[16]</code>.\n</p>\n\n</div>\n\n"
      ]
    },
    {
      "cell_type": "markdown",
      "metadata": {},
      "source": [
        "## Plotting the nile [(video)](https://youtu.be/c_BvsnKU7T4)\n\n"
      ]
    },
    {
      "cell_type": "markdown",
      "metadata": {},
      "source": [
        "-   Plotting is often a good entry into exploring data\n\n-   `Nile` is a numeric vector of a single, continuous variable over time\n\n-   To visualize such data, *histograms* or *line plots* are useful\n\n-   What you're really after is a picture of a value *distribution*\n\n-   Why are *histograms* called \"histograms\"?\n\n-   How can you find out more about plotting a histogram in R?\n    \n    <div class=\"notes\" id=\"orge2334d2\">\n    <p>\n    <b>HELP:</b> You know of course what to do at this point: call for help\n    using <code>?hist</code>. Skip to the <code>Examples</code> section at the end, where you find\n    the command <code>hist(islands)</code>. This creates a histogram of another\n    dataset, <code>islands</code>. With the help of <code>?islands</code>, you find out quickly\n    that this is a \"named vector of 48 elements\". Never mind what this\n    means, but you can enter the command, which will generate a\n    plot. This is a histogram: it plots frequency of the data and\n    distributes them into bins. Let's get back to the river Nile.\n    </p>\n    \n    <p>\n    Like most R functions, <code>hist</code> has many options. If you execute\n    <code>hist(Nile)</code>, you get the same type of graph as in the example except\n    that we know what the data are (annual Nile flow measurements in <code>10⁸\n      m³</code>, or 100,000,000 (100 million) of cubic metres.\n    </p>\n    \n    </div>\n\n"
      ]
    },
    {
      "cell_type": "markdown",
      "metadata": {},
      "source": [
        "## Plotting the histogram\n\n"
      ]
    },
    {
      "cell_type": "markdown",
      "metadata": {},
      "source": [
        "-   Let's plot the histogram of `Nile`\n\n"
      ]
    },
    {
      "cell_type": "code",
      "execution_count": 1,
      "metadata": {},
      "outputs": [],
      "source": [
        "hist(Nile)"
      ]
    },
    {
      "cell_type": "markdown",
      "metadata": {},
      "source": [
        "-   [ ] **Can you interpret the plot given what you know about the data?**\n\n-   [ ] Add the argument `breaks=20` to the `hist` function call. Change the\n    file name in the code block header if you want to create a new PNG file\n\n"
      ]
    },
    {
      "cell_type": "code",
      "execution_count": 1,
      "metadata": {},
      "outputs": [],
      "source": [
        "hist(Nile, breaks=20)"
      ]
    },
    {
      "cell_type": "markdown",
      "metadata": {},
      "source": [
        "<div class=\"notes\" id=\"org8124683\">\n<p>\nThe <code>hist</code> function creates 10 bins by default and distributes the data\naccordingly. You can alter this number of bins by changing the\nargument <code>breaks</code>, e.g. <code>hist(Nile, breaks=20)</code> (try it!).\n</p>\n\n<p>\nWe'll get back to the <code>Nile</code> once we know more about vectors! In the\nnext four sections, we're going to look at useful functions.\n</p>\n\n</div>\n\n"
      ]
    },
    {
      "cell_type": "markdown",
      "metadata": {},
      "source": [
        "## Plotting the line plot\n\n"
      ]
    },
    {
      "cell_type": "markdown",
      "metadata": {},
      "source": [
        "-   Since `Nile` is a time series, every data point has a time label\n\n-   You can easily plot the evolution of the date over time with `plot`\n\n-   A line plot is useful to visualize two continuous numeric variables\n\n-   This leads to a so-called *line plot*\n\n"
      ]
    },
    {
      "cell_type": "code",
      "execution_count": 1,
      "metadata": {},
      "outputs": [],
      "source": [
        "plot(Nile)"
      ]
    },
    {
      "cell_type": "markdown",
      "metadata": {},
      "source": [
        "-   [ ] **Can you interpret the plot given what you know about the data?**\n\n"
      ]
    },
    {
      "cell_type": "markdown",
      "metadata": {},
      "source": [
        "## Asking for help\n\n"
      ]
    },
    {
      "cell_type": "markdown",
      "metadata": {},
      "source": [
        "![img](../img/5_help.jpg)\n\n-   When you see a new function or dataset, look it up\n\n-   Use fuzzy help search (`??`) or regular help (`?`, `help`)\n\n-   Scroll down to check out (and run) the `examples`\n\n-   Get an overview of the available options\n\n<div class=\"notes\" id=\"org578bded\">\n<p>\nIn the following, I won't waste more space with the obvious: whenever\nI mention a new function or dataset, or keyword, look the\ncorresponding help up immediately. More often than not, you will take\nsomething away from it - at the very minimum an example. Over time,\nyou'll understand things even though you don't know how you possibly\ncould: this is because you've begun to develop a habit by using a\nsystem of learning - looking up the help content - and the more you\nlook at help pages, the more you recognize known concepts.\n</p>\n\n</div>\n\n"
      ]
    },
    {
      "cell_type": "markdown",
      "metadata": {},
      "source": [
        "## Creating sequences and repetitions [(video)](https://youtu.be/G2P_MVq3eyM)\n\n"
      ]
    },
    {
      "cell_type": "markdown",
      "metadata": {},
      "source": [
        "![img](../img/5_sequence.jpg)\n\n"
      ]
    },
    {
      "cell_type": "markdown",
      "metadata": {},
      "source": [
        "## The colon `:` operator\n\n"
      ]
    },
    {
      "cell_type": "markdown",
      "metadata": {},
      "source": [
        "-   `1:n` creates a sequence of numbers separated by intervals of 1\n\n"
      ]
    },
    {
      "cell_type": "code",
      "execution_count": 1,
      "metadata": {},
      "outputs": [],
      "source": [
        "3:21"
      ]
    },
    {
      "cell_type": "markdown",
      "metadata": {},
      "source": [
        "-   Check what type of R object `3:21` is by applying the functions:\n    -   `class` (R object class),\n    -   `mode` (R object storage mode)\n    -   `is.vector` (R vector check)\n\n"
      ]
    },
    {
      "cell_type": "code",
      "execution_count": 1,
      "metadata": {},
      "outputs": [],
      "source": [
        "class(3:27)\nmode(3:27)\nis.vector(3:27)"
      ]
    },
    {
      "cell_type": "markdown",
      "metadata": {},
      "source": [
        "-   Sequences created this way can also be stored.\n\n"
      ]
    },
    {
      "cell_type": "code",
      "execution_count": 1,
      "metadata": {},
      "outputs": [],
      "source": [
        "foo <- 5.3\nbar <- foo:10\nbar"
      ]
    },
    {
      "cell_type": "markdown",
      "metadata": {},
      "source": [
        "-   What happens if the first argument of `:` is smaller than the second?\n\n"
      ]
    },
    {
      "cell_type": "code",
      "execution_count": 1,
      "metadata": {},
      "outputs": [],
      "source": [
        "x <- 10:foo\nx"
      ]
    },
    {
      "cell_type": "markdown",
      "metadata": {},
      "source": [
        "-   You can perform computations to specify the range.\n\n"
      ]
    },
    {
      "cell_type": "code",
      "execution_count": 1,
      "metadata": {},
      "outputs": [],
      "source": [
        "baz <- foo:(-47+1.5)\nbaz"
      ]
    },
    {
      "cell_type": "markdown",
      "metadata": {},
      "source": [
        "<div class=\"notes\" id=\"org077bdaa\">\n<p>\nTry to understand what happened here by checking the numbers: the\nfirst value of the sequence is <code>foo = 5.3</code>. The last value is a\nnegative value, <code>-47+1.5 = -45.5</code>. In order to generate the\nsequence, R counts down in steps of <code>1</code> from the first to the last\nvalue. It stops at <code>-44.7</code>, because the next value, <code>-45.7</code> would be\noutside of the interval $[5.3,-45.5])$.\n</p>\n\n</div>\n\n"
      ]
    },
    {
      "cell_type": "markdown",
      "metadata": {},
      "source": [
        "## Sequences\n\n"
      ]
    },
    {
      "cell_type": "markdown",
      "metadata": {},
      "source": [
        "-   The function `seq` allows modifying the step-width with `by`:\n\n"
      ]
    },
    {
      "cell_type": "code",
      "execution_count": 1,
      "metadata": {},
      "outputs": [],
      "source": [
        "seq(from = 3, to = 27, by = 3)"
      ]
    },
    {
      "cell_type": "markdown",
      "metadata": {},
      "source": [
        "-   `seq` always starts at `from` but not always end on `to`:\n\n"
      ]
    },
    {
      "cell_type": "code",
      "execution_count": 1,
      "metadata": {},
      "outputs": [],
      "source": [
        "seq(from=1, to=10, by=2) # range even, stepsize even\nseq(from=1, to=11, by=2) # range odd, stepsize even"
      ]
    },
    {
      "cell_type": "markdown",
      "metadata": {},
      "source": [
        "-   To end exactly on the last value, use `length.out`:\n\n"
      ]
    },
    {
      "cell_type": "code",
      "execution_count": 1,
      "metadata": {},
      "outputs": [],
      "source": [
        "seq(from=1, to=10, length.out=10) # either by or length.out\nseq(from = 3, to = 27, length.out = 40)"
      ]
    },
    {
      "cell_type": "markdown",
      "metadata": {},
      "source": [
        "-   [ ] What is the step-width in the last case? Compute it and use it\n    to create a sequence of 40 numbers from 3 to 27 exactly, with `seq`.\n    \\#+begin<sub>notes</sub> solution\n\n"
      ]
    },
    {
      "cell_type": "code",
      "execution_count": 1,
      "metadata": {},
      "outputs": [],
      "source": [
        "s <- seq(from = 3, to = 27, length.out = 40)\ns[2]-s[1] # step-width\nseq(from = 3, to = 27, by = s[2]-s[1])"
      ]
    },
    {
      "cell_type": "markdown",
      "metadata": {},
      "source": [
        "\\#+end<sub>notes</sub>\n\n-   `length.out` can only be positive (there is no 'negative length').\n\n-   [ ] Create a decreasing sequence of length 5 from 5 to -5. Use\n    `length.out` first, then use `by` to achieve the same result.\n    \\#+begin<sub>notes</sub> solution\n\n"
      ]
    },
    {
      "cell_type": "code",
      "execution_count": 1,
      "metadata": {},
      "outputs": [],
      "source": [
        "myseq <- seq(from=5, to=-5, length.out=5)\nmyseq\nmyseq1 <- seq(from=5, to=-5, by = -2.5)\nmyseq1"
      ]
    },
    {
      "cell_type": "markdown",
      "metadata": {},
      "source": [
        "\\#+end<sub>notes</sub>\n\n"
      ]
    },
    {
      "cell_type": "markdown",
      "metadata": {},
      "source": [
        "## Repetition\n\n"
      ]
    },
    {
      "cell_type": "markdown",
      "metadata": {},
      "source": [
        "-   Use `rep` to repeat a value, e.g. the number 1, four times:\n\n"
      ]
    },
    {
      "cell_type": "code",
      "execution_count": 1,
      "metadata": {},
      "outputs": [],
      "source": [
        "rep( x = 1, times = 4)"
      ]
    },
    {
      "cell_type": "markdown",
      "metadata": {},
      "source": [
        "-   You can repeat any R object, e.g. the vector `c(3, 62, 8, 3)`, or the\n    scalar `foo`, or an arbitrary arithmetic expression:\n\n"
      ]
    },
    {
      "cell_type": "code",
      "execution_count": 1,
      "metadata": {},
      "outputs": [],
      "source": [
        "rep(x=c(3,62,8,3),times=3)\nrep(x=foo, times=2)\nrep(x=2*2, times=(foo*2)) # times must be a positive integer"
      ]
    },
    {
      "cell_type": "markdown",
      "metadata": {},
      "source": [
        "-   The `each` argument of `rep(x)` says how many times each element of `x` is\n    repeated:\n\n"
      ]
    },
    {
      "cell_type": "code",
      "execution_count": 1,
      "metadata": {},
      "outputs": [],
      "source": [
        "rep(x=c(3,62), times=3)  # repeat vector three times\nrep(x=c(3,62), each=2)   # repeat each vector element twice\nrep(x=c(3,62), times=3, each=2) # repeat each vector element twice,\n                                        # and repeat the result three times"
      ]
    },
    {
      "cell_type": "markdown",
      "metadata": {},
      "source": [
        "-   [ ] The default of `times` and `each` is `1`. What is `rep(c(3,62))` ?\n-   As with `seq`, you can include the result of `rep` in a vector of the\n    same data type (e.g. `numeric`):\n\n"
      ]
    },
    {
      "cell_type": "code",
      "execution_count": 1,
      "metadata": {},
      "outputs": [],
      "source": [
        "foo <- 4 # store 4 in foo\n\n## create vector with rep and seq\nc(3, 8.3, rep(x=32,times=foo), seq(from=-2,to=1,length.out=foo+1))"
      ]
    },
    {
      "cell_type": "markdown",
      "metadata": {},
      "source": [
        "## Repetition with characters\n\n"
      ]
    },
    {
      "cell_type": "markdown",
      "metadata": {},
      "source": [
        "-   `rep` also works for characters and character vectors:\n\n"
      ]
    },
    {
      "cell_type": "code",
      "execution_count": 1,
      "metadata": {},
      "outputs": [],
      "source": [
        "rep(x=\"data science\", times=2)\nrep(x=c(\"data\",\"science\"), times=2)\nrep(x=c(\"data\",\"science\"), times=2, each=2)"
      ]
    },
    {
      "cell_type": "markdown",
      "metadata": {},
      "source": [
        "-   [ ] What happens if you try to mix characters, numbers, Booleans?\n    Repeat an expression that has all three data types in it.\n\n"
      ]
    },
    {
      "cell_type": "code",
      "execution_count": 1,
      "metadata": {},
      "outputs": [],
      "source": [
        "rep(x=c(\"data\", 1, TRUE), times=2)"
      ]
    },
    {
      "cell_type": "markdown",
      "metadata": {},
      "source": [
        "<div class=\"notes\" id=\"org44e62f8\">\n<p>\nWhen you call a function with an argument of the wrong\ntype, or, as in the case of <code>c</code>, you try to create a vector of\ndifferent data types, R responds with \"[a href=\"https://www.oreilly.com/library/view/r-in-a/9781449358204/ch05s08.html\">coercion</a](a href=\"https://www.oreilly.com/library/view/r-in-a/9781449358204/ch05s08.html\">coercion</a)\" to make it happen.\n</p>\n\n</div>\n\n"
      ]
    },
    {
      "cell_type": "markdown",
      "metadata": {},
      "source": [
        "## Sorting and measuring lengths [(video)](https://youtu.be/KRghGmuS6Ck)\n\n"
      ]
    },
    {
      "cell_type": "markdown",
      "metadata": {},
      "source": [
        "![img](../img/5_sorting.jpg)\n\n"
      ]
    },
    {
      "cell_type": "markdown",
      "metadata": {},
      "source": [
        "## Sorting vector elements\n\n"
      ]
    },
    {
      "cell_type": "markdown",
      "metadata": {},
      "source": [
        "-   *Sorting* is important because we don't care about memory locations\n\n-   `sort(x)` arranges the elements of x according to size\n\n-   The default order is ascending, or `decreasing = FALSE`\n\n"
      ]
    },
    {
      "cell_type": "code",
      "execution_count": 1,
      "metadata": {},
      "outputs": [],
      "source": [
        "sort(x = c(2.5, -1, -10, 3.44))  # sort ascending\nsort(x = c(2.5, -1, -10, 3.44), decreasing = FALSE) # sort ascending\nsort(x = c(2.5, -1, -10, 3.44), decreasing = TRUE)  # sort descending"
      ]
    },
    {
      "cell_type": "markdown",
      "metadata": {},
      "source": [
        "-   Special values are removed, put last or first with `na.last`. This\n    works for all special values - `NA`, `NaN` and `Inf`.\n\n"
      ]
    },
    {
      "cell_type": "code",
      "execution_count": 1,
      "metadata": {},
      "outputs": [],
      "source": [
        "sort(x = c(2.5, -1, -10, 3.44,NA), na.last=TRUE)  # put NA last\nsort(x = c(2.5, -1, -10, 3.44,NaN), na.last=TRUE) # put NaN last\nsort(x = c(2.5, -1, -10, 3.44,Inf), na.last=TRUE) # put Inf last\nsort(x = c(2.5, -1, -10, 3.44,NA), na.last=FALSE) # put NA first\nsort(x = c(2.5, -1, -10, 3.44,NA), na.last=NA)    # remove NA"
      ]
    },
    {
      "cell_type": "markdown",
      "metadata": {},
      "source": [
        "-   [ ] Remember that `NA` is a `logical` object. How can you check that?\n\n"
      ]
    },
    {
      "cell_type": "code",
      "execution_count": 1,
      "metadata": {},
      "outputs": [],
      "source": [
        "class(NA)"
      ]
    },
    {
      "cell_type": "markdown",
      "metadata": {},
      "source": [
        "## Length of vectors\n\n"
      ]
    },
    {
      "cell_type": "markdown",
      "metadata": {},
      "source": [
        "-   The `length` function gets or sets the length of vectors:\n\n"
      ]
    },
    {
      "cell_type": "code",
      "execution_count": 1,
      "metadata": {},
      "outputs": [],
      "source": [
        "length(x = c(3,2,8,1,10))  # vector of 5 elements\nlength(x = 5:13)           # vector of 9 elements\nlength(x = c(3,2,2^3,5*3)) # vector of 4 elements\nlength(1000)               # scalar/vector of 1 element"
      ]
    },
    {
      "cell_type": "markdown",
      "metadata": {},
      "source": [
        "-   If you have functions inside the object definition, `length` gives you\n    the number of entries *after* the inner functions have been executed:\n\n"
      ]
    },
    {
      "cell_type": "code",
      "execution_count": 1,
      "metadata": {},
      "outputs": [],
      "source": [
        "foo <- 4\nbar <- c(3,8.3,rep(x=32,times=foo),seq(from=-2,to=1,length.out=foo+1))\nbar\nlength(bar)"
      ]
    },
    {
      "cell_type": "markdown",
      "metadata": {},
      "source": [
        "-   [ ] R's display options are stored in `options()`, which is a\n    `list`. Lists have a length like options. How many options does\n    `options()` have?\n\n"
      ]
    },
    {
      "cell_type": "code",
      "execution_count": 1,
      "metadata": {},
      "outputs": [],
      "source": [
        "class(options())   # class of options()\nlength(options())  # length of options() : number of options\nclass(options)     # class of options as a function\nclass(options()$digits) # class of one options() element\nlength(options()$digits) # length of one options() element"
      ]
    },
    {
      "cell_type": "markdown",
      "metadata": {},
      "source": [
        "## Practice: creating vectors\n\n"
      ]
    },
    {
      "cell_type": "markdown",
      "metadata": {},
      "source": [
        "![img](../img/5_gnome.jpg)\n\n-   Practice what you've learnt by solving problems independently\n-   Save the [raw practice file from GitHub](https://raw.githubusercontent.com/birkenkrahe/ds1/piHome/org/5_vectors_practice.org) as an Org-mode file\n-   Complete the file in Emacs by using R code blocks\n-   [Submit the result on Canvas](https://lyon.instructure.com/courses/568/assignments/2952) no later than Monday September 26 8 am\n    (to give me an opportunity to check and grade your results)\n\n"
      ]
    },
    {
      "cell_type": "markdown",
      "metadata": {},
      "source": [
        "## Naming vectors\n\n"
      ]
    },
    {
      "cell_type": "markdown",
      "metadata": {},
      "source": [
        "-   Naming vector elements makes code more readable.\n\n"
      ]
    },
    {
      "cell_type": "code",
      "execution_count": 1,
      "metadata": {},
      "outputs": [],
      "source": [
        "c(apple = 1, banana = 2, \"kiwi fruit\" = 3, 4)"
      ]
    },
    {
      "cell_type": "markdown",
      "metadata": {},
      "source": [
        "-   Or you can name elements explicitly using the function `names`:\n\n"
      ]
    },
    {
      "cell_type": "code",
      "execution_count": 1,
      "metadata": {},
      "outputs": [],
      "source": [
        "x <- 1:4\nnames(x) <- c(\"apple\", \"bananas\", \"kiwi fruit\", \"\")\nx\nnames(x)"
      ]
    },
    {
      "cell_type": "markdown",
      "metadata": {},
      "source": [
        "-   Looking under the hood of `names`:\n\n"
      ]
    },
    {
      "cell_type": "code",
      "execution_count": 1,
      "metadata": {},
      "outputs": [],
      "source": [
        "foo <- 1:4  # vector 1,2,3,4\nnames(foo)  # vector is not named (NULL)\nnames(foo) <- letters[1:4]  # assign letter names\nnames(foo)\nfoo  # default display includes names\nstr(foo)  # structures reveals names as attributes\nattributes(foo) # attributes is a list of 1 element, $names\nstr(attributes(foo))"
      ]
    },
    {
      "cell_type": "markdown",
      "metadata": {},
      "source": [
        "## Length of `names` vs. vector\n\n"
      ]
    },
    {
      "cell_type": "markdown",
      "metadata": {},
      "source": [
        "-   What if your names are too short (or too long) for your vector?\n\n-   Define a vector `week` whose elements are the names of weekdays\n\n"
      ]
    },
    {
      "cell_type": "code",
      "execution_count": 1,
      "metadata": {},
      "outputs": [
        {
          "name": "stdout",
          "output_type": "stream",
          "text": [
            ": [1] \"Mon\" \"Tue\" \"Wed\" \"Thu\" \"Fri\" \"Sat\" \"Sun\""
          ]
        }
      ],
      "source": [
        "week <- c(\"Mon\", \"Tue\", \"Wed\", \"Thu\", \"Fri\", \"Sat\", \"Sun\")\nweek"
      ]
    },
    {
      "cell_type": "markdown",
      "metadata": {},
      "source": [
        "-   Define a vector `foo` that contains seven numbers, and name its\n    elements according to the `week`.\n\n"
      ]
    },
    {
      "cell_type": "code",
      "execution_count": 1,
      "metadata": {},
      "outputs": [
        {
          "name": "stdout",
          "output_type": "stream",
          "text": [
            ": Mon Tue Wed Thu Fri Sat Sun \n  :   1   2   3   4   5   6   7"
          ]
        }
      ],
      "source": [
        "foo <- 1:7\nnames(foo) <- week\nfoo"
      ]
    },
    {
      "cell_type": "markdown",
      "metadata": {},
      "source": [
        "-   Copy `week` to `workweek`, and remove `\"Saturday\"` and `\"Sunday\"` from the\n    `workweek`.\n\n"
      ]
    },
    {
      "cell_type": "code",
      "execution_count": 1,
      "metadata": {},
      "outputs": [
        {
          "name": "stdout",
          "output_type": "stream",
          "text": [
            ": [1] \"Mon\" \"Tue\" \"Wed\" \"Thu\" \"Fri\""
          ]
        }
      ],
      "source": [
        "workweek <- week[1:5] # or week[-(6:7)]\nworkweek"
      ]
    },
    {
      "cell_type": "markdown",
      "metadata": {},
      "source": [
        "-   Copy `foo` to `bar`, and overwrite `names(bar)` with `workweek`.\n\n"
      ]
    },
    {
      "cell_type": "code",
      "execution_count": 1,
      "metadata": {},
      "outputs": [],
      "source": [
        "bar <- foo\nbar\nnames(bar) <- workweek\nnames(bar[6:7])  # names of the last two elements missing - NA\nnames(bar) <- NULL # remove names altogether\nbar"
      ]
    },
    {
      "cell_type": "markdown",
      "metadata": {},
      "source": [
        "## Indexing vectors\n\n"
      ]
    },
    {
      "cell_type": "markdown",
      "metadata": {},
      "source": [
        "-   Passing a vector of positive numbers returns the slice of the\n    vector containing the elements at those locations.\n\n"
      ]
    },
    {
      "cell_type": "code",
      "execution_count": 1,
      "metadata": {},
      "outputs": [],
      "source": [
        "x <- (1:5)^2   # example vector\nx\nx[1] # extract the first element only\nx[c(1,3,5)] # extract elements with indices 1,3,5"
      ]
    },
    {
      "cell_type": "markdown",
      "metadata": {},
      "source": [
        "-   Passing a vector of negative numbers returns the slice of the vector\n    containing the elements everywhere except at those locations.\n\n"
      ]
    },
    {
      "cell_type": "code",
      "execution_count": 1,
      "metadata": {},
      "outputs": [],
      "source": [
        "x[c(-2,-4)]"
      ]
    },
    {
      "cell_type": "markdown",
      "metadata": {},
      "source": [
        "-   Passing a logical vector returns the slice of the vector containing\n    the elements where the index is `TRUE`.\n\n"
      ]
    },
    {
      "cell_type": "code",
      "execution_count": 1,
      "metadata": {},
      "outputs": [],
      "source": [
        "x[c(TRUE, FALSE, TRUE, FALSE, TRUE)]"
      ]
    },
    {
      "cell_type": "markdown",
      "metadata": {},
      "source": [
        "-   For named vectors, passing a character vector of names returns the\n    slice of the vector containing the elements with those names.\n\n"
      ]
    },
    {
      "cell_type": "code",
      "execution_count": 1,
      "metadata": {},
      "outputs": [],
      "source": [
        "names(x) <- c(\"one\", \"four\", \"nine\", \"sixteen\", \"twenty five\")\nx[c(\"one\", \"nine\", \"twenty five\")]"
      ]
    },
    {
      "cell_type": "markdown",
      "metadata": {},
      "source": [
        "## Coercion\n\n"
      ]
    },
    {
      "cell_type": "markdown",
      "metadata": {},
      "source": [
        "-   All vector elements have to be of the same `class` or type\n\n-   When you try to mix them, R will create vectores with \"coercion\":\n\n"
      ]
    },
    {
      "cell_type": "code",
      "execution_count": 1,
      "metadata": {},
      "outputs": [],
      "source": [
        "foo <- c(\"a\",NA,1)\nfoo\nclass(foo)  # foo becomes a character vector"
      ]
    },
    {
      "cell_type": "markdown",
      "metadata": {},
      "source": [
        "-   Missing values `NA` are not coerced to `character` (e.g. `\"NA\"`) because\n    this would mean altering their main property, to be missing.\n\n-   Still, the whole vector is a `character` vector object:\n\n"
      ]
    },
    {
      "cell_type": "code",
      "execution_count": 1,
      "metadata": {},
      "outputs": [],
      "source": [
        "mode(foo)  # R storage mode\nclass(foo) # R object class"
      ]
    },
    {
      "cell_type": "markdown",
      "metadata": {},
      "source": [
        "-   You can also explicitly convert elements using the functions\n    `as.character`, `as.logical` or `as.numeric`.\n\n"
      ]
    },
    {
      "cell_type": "code",
      "execution_count": 1,
      "metadata": {},
      "outputs": [
        {
          "name": "stdout",
          "output_type": "stream",
          "text": [
            ": [1] \"1\" \"2\" \"1\"\n  : [1] NA  2 NA\n  : Warning message:\n  : NAs introduced by coercion\n  : [1]   NA   NA TRUE"
          ]
        }
      ],
      "source": [
        "as.character(c(1,2,TRUE)) # convert vector to character values\nas.numeric(c(\"a\",2,TRUE)) # R turns characters and Booleans into NA\nas.logical(c(\"a\",0,TRUE)) # R turns characters and numerics into NA"
      ]
    },
    {
      "cell_type": "markdown",
      "metadata": {},
      "source": [
        "-   Conversion with `as.logical` has a surprise: any non-zero number is\n    turned into `TRUE` if the vector is `numeric`.\n\n"
      ]
    },
    {
      "cell_type": "code",
      "execution_count": 1,
      "metadata": {},
      "outputs": [],
      "source": [
        "as.logical(c(1,0,-1, 0.333, -Inf, NaN ))"
      ]
    },
    {
      "cell_type": "markdown",
      "metadata": {},
      "source": [
        "-   The lesson: don't mix data types in vectors if you can avoid it!\n\n"
      ]
    },
    {
      "cell_type": "markdown",
      "metadata": {},
      "source": [
        "## Summary with examples\n\n"
      ]
    },
    {
      "cell_type": "markdown",
      "metadata": {},
      "source": [
        "-   R is a functional language in which everything's an object.\n-   R functions differ in: performance (speed), ease-of-use and\n    clarity.\n-   To assign values to objects, use the `<-` operator.\n-   To assign values to arguments in functions, use the `=` operator.\n-   The elements of a numeric, character or logical vector are\n    numbers, letters or truth values.\n-   A vector can have arithmetic calculations or vectors as elements.\n-   A histogram distributes data by frequency across evenly spaced\n    bins.\n-   Sequences of numbers can be created using the colon operator, or\n    the functions `seq` or `rep`.\n-   Vectors can be sorted with `sort` in either direction.\n-   Vector length can be measured as the number of vector elements with `length`.\n-   Index vectors can be used to select sub-vectors.\n-   Negative index values delete the corresponding vector elements\n    \n    **R CODE EXAMPLES:**\n    \n    | <code>x &lt;- 5</code>|assign <code>5</code> to object <code>x</code>|\n    | <code>x &lt;- x+1</code>|overwrite <code>x</code> (new value)|\n    | <code>c(1,2,3,4)</code>|define (numerical) vector|\n    | <code>class(bar)</code>|check type of object <code>bar</code>|\n    | <code>hist(x,breaks=foo)</code>|histogram of dataset <code>x</code> with <code>foo</code> bins|\n    | <code>m:n</code>|sequence <code>m</code> to <code>n</code> at intervals <code>= 1</code>|\n    | <code>seq(from=foo,to=bar,by=baz)</code>|sequence from <code>foo</code> to <code>bar</code> intervals <code>=baz</code>|\n    | <code>seq(from=foo,to=bar,length.out=fuz)</code>|seq. <code>foo</code> to <code>bar</code>, <code>fuz</code> equal intervals|\n    | <code>rep(x=foo,times=bar,each=baz)</code>|repeat <code>foo</code> times <code>bar</code>, and|\n    | |repeat each element of <code>foo</code> times <code>baz</code>|\n    | <code>vector(\"numeric\",foo), numeric(foo)</code>|empty numeric vector of length <code>foo</code>|\n    | <code>vector(\"character\",foo), character(foo)</code>|empty numeric vector of length <code>foo</code>|\n    | <code>vector(\"logical\",foo), logical(foo)</code>|empty numeric vector of length <code>foo</code>|\n    | <code>sort(x=foo, decreasing=FALSE)</code>|sort vector <code>foo</code> from smallest to largest|\n    | <code>sort(x=foo, decreasing=TRUE)</code>|sort vector <code>foo</code> from largest to smallest|\n    | <code>length(x=foo)</code>|print length of vector <code>foo</code>|\n    | <code>[n]</code>, <code>[n:m]</code>, <code>[-n]</code>|indices <code>n</code>, <code>n</code> to <code>m</code>, deleting element <code>n</code>|\n    | <code>prod(foo)</code>, <code>sum(foo)</code>|multiply / sum up all elements of vector foo|\n    | <code>names(x)</code>|return names of vector <code>x</code> (or <code>NULL</code>)|\n    | <code>as.character</code>, <code>as.numeric</code>, <code>as.logical</code>|coerce arguments to the resp. class|\n\n"
      ]
    },
    {
      "cell_type": "markdown",
      "metadata": {},
      "source": [
        "## Concept summary\n\n"
      ]
    },
    {
      "cell_type": "markdown",
      "metadata": {},
      "source": [
        "![img](../img/4_summary.jpg)\n\n-   In R mathematical expressions are evaluated according to the\n    *PEMDAS* rule.\n\n-   The natural logarithm $ln(x)$ is the inverse of the exponential\n    function e<sup>x</sup>.\n\n-   In the scientific or e-notation, numbers are expressed as positive\n    or negative multiples of 10.\n\n-   Each positive or negative multiple shifts the digital point to the\n    right or left, respectively.\n\n-   Infinity `Inf`, not-a-number `NaN`, and not available numbers `NA`\n    are *special values* in R.\n\n"
      ]
    },
    {
      "cell_type": "markdown",
      "metadata": {},
      "source": [
        "## Code summary\n\n"
      ]
    },
    {
      "cell_type": "markdown",
      "metadata": {},
      "source": [
        "| CODE|DESCRIPTION|\n|---|---|\n| <code>log(x=,b=)</code>|logarithm of <code>x</code>, base <code>b</code>|\n| <code>exp(x)</code>|$e^x$, exp[onential] of $x$|\n| <code>is.finite(x)</code>|tests for finiteness of <code>x</code>|\n| <code>is.infinite(x)</code>|tests for infiniteness of <code>x</code>|\n| <code>is.nan(x)</code>|checks if <code>x</code> is not-a-number|\n| <code>is.na(x)</code>|checks if <code>x</code> is not available|\n| <code>all.equal(x,y)</code>|tests near equality|\n| <code>identical(x,y)</code>|tests exact equality|\n| <code>1e2</code>, <code>1e-2</code>|$10^{2}=100$, $10^{-2}=\\frac{1}{100}$|\n\n"
      ]
    },
    {
      "cell_type": "markdown",
      "metadata": {},
      "source": [
        "## References\n\n"
      ]
    },
    {
      "cell_type": "markdown",
      "metadata": {},
      "source": [
        "-   <a id=\"org4ec427f\"></a> Richard Cotton (2013). [Learning R.](http://duhi23.github.io/Analisis-de-datos/Cotton.pdf) O'Reilly Media.\n\n-   <a id=\"org5e433ca\"></a> Tilman M. Davies (2016). [The Book of R. (No Starch\n    Press).](https://nostarch.com/bookofr)\n\n-   <a id=\"orged67b6a\"></a> Rafael A. Irizarry (2020). [Introduction to Data Science](https://rafalab.github.io/dsbook/)\n    (also: CRC Press, 2019).\n\n-   <a id=\"org79112e4\"></a> Norman Matloff (2020). [fasteR: Fast Lane to Learning R!](https://github.com/matloff/fasteR).\n    <a id=\"org816a86b\"></a>\n\n"
      ]
    }
  ],
  "metadata": {
    "org": null,
    "kernelspec": {
      "display_name": "R",
      "language": "R",
      "name": "ir"
    },
    "language_info": {
      "codemirror_mode": "r",
      "file_extension": ".r",
      "mimetype": "text/x-r-source",
      "name": "R",
      "pygments_lexer": "r",
      "version": "3.3.2"
    }
  },
  "nbformat": 4,
  "nbformat_minor": 0
}