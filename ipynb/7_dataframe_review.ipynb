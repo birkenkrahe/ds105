{
  "cells": [
    {
      "cell_type": "markdown",
      "metadata": {},
      "source": [
        "### README\n\n"
      ]
    },
    {
      "cell_type": "markdown",
      "metadata": {},
      "source": [
        "-   Review of the DataCamp chapter \"Data frames\" in the \"Introduction to\n    R\" online course plus some drilling exercises.\n-   Upload the file to Canvas after completion\n\n"
      ]
    },
    {
      "cell_type": "markdown",
      "metadata": {},
      "source": [
        "### What is a data\n\n"
      ]
    },
    {
      "cell_type": "markdown",
      "metadata": {},
      "source": [
        "What is a data frame (technically)?\n> A data frame is &#x2026;\n\n"
      ]
    },
    {
      "cell_type": "markdown",
      "metadata": {},
      "source": [
        "### Creating a data frame of numeric values (numbers)\n\n"
      ]
    },
    {
      "cell_type": "markdown",
      "metadata": {},
      "source": [
        "How can you create a data frame of two vectors with values `1 2 3 4\n5 6 7 8 9 10`? What are the properties of this data frame?\n\n"
      ]
    },
    {
      "cell_type": "code",
      "execution_count": 1,
      "metadata": {},
      "outputs": [],
      "source": [
        "..."
      ]
    },
    {
      "cell_type": "markdown",
      "metadata": {},
      "source": [
        "### Creating a data frame from survey data\n\n"
      ]
    },
    {
      "cell_type": "markdown",
      "metadata": {},
      "source": [
        "1.  You've bought a new car. The car company sends you a survey. What\n    kind of variables and corresponding data types do you expect?\n\n>    &#x2026;\n>    &#x2026;\n\n1.  How would you create such a data frame for a survey?\n\n>    1) Create vectors with `c` or `factor`\n>    2) Add vectors to data frame with `data.frame`\n>    3) Store data frame in R object   #+begin<sub>src</sub> R\n     &#x2026;\n   #+end<sub>src</sub>\n\n1.  Print `survey` and check that `survey` is a data frame using `class`\n\n"
      ]
    },
    {
      "cell_type": "code",
      "execution_count": 1,
      "metadata": {},
      "outputs": [],
      "source": [
        "..."
      ]
    },
    {
      "cell_type": "markdown",
      "metadata": {},
      "source": [
        "### Which commands are used to explore data frames\n\n"
      ]
    },
    {
      "cell_type": "markdown",
      "metadata": {},
      "source": [
        "Which R commands are used to explore data frames?\n\n1.  Data frame structure (variables and first few values)\n\n"
      ]
    },
    {
      "cell_type": "code",
      "execution_count": 1,
      "metadata": {},
      "outputs": [],
      "source": [
        "..."
      ]
    },
    {
      "cell_type": "markdown",
      "metadata": {},
      "source": [
        "1.  First few lines of the data frame\n\n"
      ]
    },
    {
      "cell_type": "code",
      "execution_count": 1,
      "metadata": {},
      "outputs": [],
      "source": [
        "..."
      ]
    },
    {
      "cell_type": "markdown",
      "metadata": {},
      "source": [
        "1.  Statistical summary of all variables\n\n"
      ]
    },
    {
      "cell_type": "code",
      "execution_count": 1,
      "metadata": {},
      "outputs": [],
      "source": [
        "..."
      ]
    },
    {
      "cell_type": "markdown",
      "metadata": {},
      "source": [
        "### What do you do with missing values (`NA`)?\n\n"
      ]
    },
    {
      "cell_type": "markdown",
      "metadata": {},
      "source": [
        "What about missing values, `NA`?\n\n-   Create a new data frame `s_na` with a column `missing` of missing values\n-   Compute the `summary` of the resulting data frame\n\n"
      ]
    },
    {
      "cell_type": "code",
      "execution_count": 1,
      "metadata": {},
      "outputs": [],
      "source": [
        "...\n..."
      ]
    },
    {
      "cell_type": "markdown",
      "metadata": {},
      "source": [
        "### How do you extract values from a data frame?\n\n"
      ]
    },
    {
      "cell_type": "markdown",
      "metadata": {},
      "source": [
        "1.  Look at the variables to remind yourself of the data structure\n\n"
      ]
    },
    {
      "cell_type": "code",
      "execution_count": 1,
      "metadata": {},
      "outputs": [],
      "source": [
        "..."
      ]
    },
    {
      "cell_type": "markdown",
      "metadata": {},
      "source": [
        "1.  How do you get values from a data frame? For example:\n    -   the first row\n    -   the third column\n    -   the fourth through fifth column\n\n"
      ]
    },
    {
      "cell_type": "code",
      "execution_count": 1,
      "metadata": {},
      "outputs": [],
      "source": [
        "...\n...\n..."
      ]
    },
    {
      "cell_type": "markdown",
      "metadata": {},
      "source": [
        "1.  How do you extract values using the names of the columns?\n    -   a named column (like `Happiness` OR `Customer`)?\n    -   two named columns (like `Happiness` AND `Customer`)\n\n"
      ]
    },
    {
      "cell_type": "code",
      "execution_count": 1,
      "metadata": {},
      "outputs": [],
      "source": [
        "...\n..."
      ]
    },
    {
      "cell_type": "markdown",
      "metadata": {},
      "source": [
        "### How do you add another row to the data frame?\n\n"
      ]
    },
    {
      "cell_type": "markdown",
      "metadata": {},
      "source": [
        "How can you add another row to the data frame?\n\n-   add rows with the index operator `[]`\n-   add rows with `rbind(data_frame, vector)`\n\nTip: the index of row two (for all columns) would be `survey[2,]`\n\nTip: before messing with a data frame, make a copy\n\n1.  Add new row using `[]`. The values are already stored in `row2`\n\n"
      ]
    },
    {
      "cell_type": "code",
      "execution_count": 1,
      "metadata": {},
      "outputs": [],
      "source": [
        "row2 <- c(\"Birkenkrahe\", \"Kia\", \"Rio\", \"2023\", FALSE, 1, \"neutral\")\n\n## make a copy \"new_survey\" of the \"survey\" data frame\n...\n## add row to your copy using [ ] then print data frame\n...\n..."
      ]
    },
    {
      "cell_type": "markdown",
      "metadata": {},
      "source": [
        "1.  Add the same row again using `rbind`. The values are stored in `row2`\n\n"
      ]
    },
    {
      "cell_type": "code",
      "execution_count": 1,
      "metadata": {},
      "outputs": [],
      "source": [
        "## add row using rbind\n...\n..."
      ]
    },
    {
      "cell_type": "markdown",
      "metadata": {},
      "source": [
        "### How do you remove a row from a data frame?\n\n"
      ]
    },
    {
      "cell_type": "markdown",
      "metadata": {},
      "source": [
        "1.  The data frame `new_survey` now has a double record in row 3. Print\n    that row on its own first using `[]` to make sure, then repeat the\n    command but add `-` before the index value\n\n"
      ]
    },
    {
      "cell_type": "code",
      "execution_count": 1,
      "metadata": {},
      "outputs": [],
      "source": [
        "...\n..."
      ]
    },
    {
      "cell_type": "markdown",
      "metadata": {},
      "source": [
        "1.  Now overwrite `new_survey` accordingly, then print the data frame\n\n"
      ]
    },
    {
      "cell_type": "code",
      "execution_count": 1,
      "metadata": {},
      "outputs": [],
      "source": [
        "## overwriting new_survey with itself after removing row 3\n...\n..."
      ]
    },
    {
      "cell_type": "markdown",
      "metadata": {},
      "source": [
        "### How do you (re)name rows of a data frame?\n\n"
      ]
    },
    {
      "cell_type": "markdown",
      "metadata": {},
      "source": [
        "1.  To name observations (rows) of a data frame, use `rownames`.\n    -   Save `new_survey` in a copy named `df`\n    -   Print all row names of `df` with `rownames`\n\n"
      ]
    },
    {
      "cell_type": "code",
      "execution_count": 1,
      "metadata": {},
      "outputs": [],
      "source": [
        "...\n..."
      ]
    },
    {
      "cell_type": "markdown",
      "metadata": {},
      "source": [
        "1.  Now overwrite `rownames(df)` with new names, e.g. `Car_1` and `Car_2` and\n    print the whole data frame to see the new names\n\n"
      ]
    },
    {
      "cell_type": "code",
      "execution_count": 1,
      "metadata": {},
      "outputs": [],
      "source": [
        "...\n..."
      ]
    },
    {
      "cell_type": "markdown",
      "metadata": {},
      "source": [
        "1.  Now you can use the row names to index rows - print the second row\n    only, using the index operator `[]`\n\n"
      ]
    },
    {
      "cell_type": "code",
      "execution_count": 1,
      "metadata": {},
      "outputs": [],
      "source": [
        "..."
      ]
    },
    {
      "cell_type": "markdown",
      "metadata": {},
      "source": [
        "### How do you rename column names?\n\n"
      ]
    },
    {
      "cell_type": "markdown",
      "metadata": {},
      "source": [
        "1.  For a data frame, the `names` function returns the same values as\n    `colnames`. Print the column names of `df` using both functions\n\n"
      ]
    },
    {
      "cell_type": "code",
      "execution_count": 1,
      "metadata": {},
      "outputs": [],
      "source": [
        "...\n..."
      ]
    },
    {
      "cell_type": "markdown",
      "metadata": {},
      "source": [
        "1.  How can you check if these two vectors are really `identical`?\n\n"
      ]
    },
    {
      "cell_type": "code",
      "execution_count": 1,
      "metadata": {},
      "outputs": [],
      "source": [
        "..."
      ]
    },
    {
      "cell_type": "markdown",
      "metadata": {},
      "source": [
        "1.  To change a column vector name means overwriting it. For example,\n    change the name of the column `Customer` to `Account`.\n    -   Find the index of the column using `which`\n    -   Print the current `colnames` using the index value you found\n    -   Then overwrite its `colnames` value with the new name `Account`\n    -   Print the data frame to check the result\n\n"
      ]
    },
    {
      "cell_type": "code",
      "execution_count": 1,
      "metadata": {},
      "outputs": [],
      "source": [
        "...\n...\n...\n..."
      ]
    },
    {
      "cell_type": "markdown",
      "metadata": {},
      "source": [
        "### How can you `subset` observations?\n\n"
      ]
    },
    {
      "cell_type": "markdown",
      "metadata": {},
      "source": [
        "1.  How can you `subset` observations? E.g. for car types from 2023?\n    \n    Reminder: the arguments of `subset` are: input data frame, and a\n    logical condition on the subset.\n\n"
      ]
    },
    {
      "cell_type": "code",
      "execution_count": 1,
      "metadata": {},
      "outputs": [],
      "source": [
        "..."
      ]
    },
    {
      "cell_type": "markdown",
      "metadata": {},
      "source": [
        "1.  How can you extract the `Make` only from that `subset`?\n    -   The subset is a data frame, too. Store it in `dfs`\n    -   Now extract the column that corresponds to `Make`\n\n"
      ]
    },
    {
      "cell_type": "code",
      "execution_count": 1,
      "metadata": {},
      "outputs": [],
      "source": [
        "...\n...\n..."
      ]
    },
    {
      "cell_type": "markdown",
      "metadata": {},
      "source": [
        "### How can you clean up after a session?\n\n"
      ]
    },
    {
      "cell_type": "markdown",
      "metadata": {},
      "source": [
        "Remove objects from the current session using `rm`.\n\n-   Run `ls(`) to see your currently loaded R objects\n-   Remove `new_survey` by feeding it to `rm`\n-   Run `ls(`) again to see your currently loaded R objects\n-   Run `rm(list=ls())` to remove all remaining objects\n-   Run `ls(`) again to see the result\n\n"
      ]
    },
    {
      "cell_type": "code",
      "execution_count": 1,
      "metadata": {},
      "outputs": [],
      "source": [
        "...\n...\n..."
      ]
    }
  ],
  "metadata": {
    "org": null,
    "kernelspec": {
      "display_name": "R",
      "language": "R",
      "name": "ir"
    },
    "language_info": {
      "codemirror_mode": "r",
      "file_extension": ".r",
      "mimetype": "text/x-r-source",
      "name": "R",
      "pygments_lexer": "r",
      "version": "3.3.2"
    }
  },
  "nbformat": 4,
  "nbformat_minor": 0
}