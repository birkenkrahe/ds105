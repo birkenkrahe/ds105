{
  "cells": [
    {
      "cell_type": "markdown",
      "metadata": {},
      "source": [
        "#### Review: Importing data from flat files with utils\n\n"
      ]
    },
    {
      "cell_type": "markdown",
      "metadata": {},
      "source": [
        "1.  What sources of data do we have to contend with?\n\n>    - flat files\n>    - data from Excel (spreadsheets)\n>    - data from (relational) databases\n>    - data from the web\n>    - data from statistical software (SAS, SPSS)2. What are \"flat files\"?\n>    Flat files are simple text files that display data as tables - like\n>    a CSV file.3. What's a \"util\"?\n>    \"Util\" is short for \"utility program\" - programs that serve a\n>    narrow purpose and are usually not generic, like `read.csv`.4. Check if `read.csv` is a \"generic\" function or not.\n\n"
      ]
    },
    {
      "cell_type": "code",
      "execution_count": 1,
      "metadata": {},
      "outputs": [],
      "source": [
        "methods(read.csv)"
      ]
    },
    {
      "cell_type": "markdown",
      "metadata": {},
      "source": [
        "1.  Create a data frame `name_age` using `read.table`:\n\n"
      ]
    },
    {
      "cell_type": "code",
      "execution_count": 1,
      "metadata": {},
      "outputs": [
        {
          "name": "stdout",
          "output_type": "stream",
          "text": [
            ": 'data.frame':      2 obs. of  2 variables:\n   :  $ joe: chr  \"jim\" \"jane\"\n   :  $ X22: int  23 19"
          ]
        }
      ],
      "source": [
        "name_age <- read.table(header=TRUE,text=\"\n'joe' 22\n'jim' 23\n'jane' 19\n\")\nstr(name_age)"
      ]
    },
    {
      "cell_type": "markdown",
      "metadata": {},
      "source": [
        "1.  When printing `name_age` you realize your mistake. Correct it so that\n    the column vectors are correctly named and no data are lost, so\n    that the data frame looks like this - in two lines only:\n    \n          name age\n        1  jim  23\n        2 jane  19\n    \n    Solution:\n\n"
      ]
    },
    {
      "cell_type": "code",
      "execution_count": 1,
      "metadata": {},
      "outputs": [
        {
          "name": "stdout",
          "output_type": "stream",
          "text": [
            "#+begin_example\n      joe X22\n   1  joe X22\n   2  jim  23\n   3 jane  19\n   'data.frame':        2 obs. of  2 variables:\n    $ name: chr  \"jim\" \"jane\"\n    $ age : int  23 19\n     name age\n   1  jim  23\n   2 jane  19\n   #+end_example"
          ]
        }
      ],
      "source": [
        "## extract the header data and add them as a row at the top\nrbind(c(colnames(name_age)[1],colnames(name_age)[2]),name_age)\n## rename the header\ncolnames(name_age) <- c('name', 'age')\n## check the result\nstr(name_age)\nprint(name_age)"
      ]
    },
    {
      "cell_type": "markdown",
      "metadata": {},
      "source": [
        "1.  What does `stringsAsFactors=TRUE` mean and where can you find it?\n\n>    `stringsAsFactors` is a Boolean parameter in `read.csv`. It converts\n>    `character` vectors into `factor` vectors in the data frame. We can now\n>    use these as categorical variables.8. Demonstrate `stringsAsFactors` using the US states and figures\n   information that is pre-loaded in R. Twist: create a CSV file first.\n\nThe information is split across different datasets. Load them all:\n\n"
      ]
    },
    {
      "cell_type": "code",
      "execution_count": 1,
      "metadata": {},
      "outputs": [
        {
          "name": "stdout",
          "output_type": "stream",
          "text": [
            ":  [1] \"datasets\"       \"name_age\"       \"state\"          \"state.abb\"\n   :  [5] \"state.area\"     \"state.center\"   \"state.division\" \"state.name\"\n   :  [9] \"state.region\"   \"state.x77\"      \"states\""
          ]
        }
      ],
      "source": [
        "## US state data are built into data() but split up - load them all\ndata(state)\n## list them\nls()"
      ]
    },
    {
      "cell_type": "markdown",
      "metadata": {},
      "source": [
        "Save the data to a data frame:\n\n"
      ]
    },
    {
      "cell_type": "code",
      "execution_count": 1,
      "metadata": {},
      "outputs": [
        {
          "name": "stdout",
          "output_type": "stream",
          "text": [
            ": 'data.frame':\t50 obs. of  3 variables:\n   :  $ abb : chr  \"AL\" \"AK\" \"AZ\" \"AR\" ...\n   :  $ name: chr  \"Alabama\" \"Alaska\" \"Arizona\" \"Arkansas\" ...\n   :  $ area: num  51609 589757 113909 53104 158693 ..."
          ]
        }
      ],
      "source": [
        "## save data (vectors) into data frame\nstates <- data.frame(\n  abb = state.abb,\n  name = state.name,\n  area = state.area\n)\nstr(states)"
      ]
    },
    {
      "cell_type": "markdown",
      "metadata": {},
      "source": [
        "Write the data to a CSV file:\n\n"
      ]
    },
    {
      "cell_type": "code",
      "execution_count": 1,
      "metadata": {},
      "outputs": [],
      "source": [
        "## write data to CSV file\nwrite.csv(x=states,\n          file=\"states.csv\",\n          row.names=FALSE\n          )"
      ]
    },
    {
      "cell_type": "markdown",
      "metadata": {},
      "source": [
        "Check from inside R if the file was created:\n\n"
      ]
    },
    {
      "cell_type": "code",
      "execution_count": 1,
      "metadata": {},
      "outputs": [
        {
          "name": "stdout",
          "output_type": "stream",
          "text": [
            ": -rw-r--r-- 1 Birkenkrahe 1049089 1193 Nov 11 22:31 states.csv\n   : \"abb\",\"name\",\"area\"\n   : \"AL\",\"Alabama\",51609"
          ]
        }
      ],
      "source": [
        "## check if file exists and print first two rows\nshell(\"ls -l states.csv\")\nshell(\"head -n 2 states.csv\")"
      ]
    },
    {
      "cell_type": "markdown",
      "metadata": {},
      "source": [
        "Load the `states.csv` file into a dataframe so that all `character`\n   vectors are `factor` vectors:\n\n"
      ]
    },
    {
      "cell_type": "code",
      "execution_count": 1,
      "metadata": {},
      "outputs": [
        {
          "name": "stdout",
          "output_type": "stream",
          "text": [
            ": 'data.frame':\t50 obs. of  3 variables:\n   :  $ abb : Factor w/ 50 levels \"AK\",\"AL\",\"AR\",..: 2 1 4 3 5 6 7 8 9 10 ...\n   :  $ name: Factor w/ 50 levels \"Alabama\",\"Alaska\",..: 1 2 3 4 5 6 7 8 9 10 ...\n   :  $ area: int  51609 589757 113909 53104 158693 104247 5009 2057 58560 58876 ..."
          ]
        }
      ],
      "source": [
        "str(read.csv(\"states.csv\",header=TRUE,stringsAsFactors=TRUE))"
      ]
    },
    {
      "cell_type": "markdown",
      "metadata": {},
      "source": [
        "1.  How can you save the `path` to a `file`? For example `states.csv`?\n\n"
      ]
    },
    {
      "cell_type": "code",
      "execution_count": 1,
      "metadata": {},
      "outputs": [
        {
          "name": "stdout",
          "output_type": "stream",
          "text": [
            ": c:\\Users\\birkenkrahe\\Documents\\GitHub\\admin\\RoamNotes/states.csv\n   : [1] \"c:/Users/birkenkrahe/Documents/GitHub/admin/RoamNotes/states.csv\""
          ]
        }
      ],
      "source": [
        "path <- file.path(\"c:\\\\Users\\\\birkenkrahe\\\\Documents\\\\GitHub\\\\admin\\\\RoamNotes\",\n                  \"states.csv\")\nwrite(path,file=\"path.data\")\nshell(\"cat path.data\")\npath <- gsub(\"\\\\\\\\\",\"/\",path)\nprint(path)"
      ]
    },
    {
      "cell_type": "markdown",
      "metadata": {},
      "source": [
        "1.  What do `read.delim2` and `read.csv2` do?\n\n>     `read.delim` has the delimiter `sep` set to `\\t` for tab-separated. The\n>     second version of `read.delim` and `read.csv` allows for numbers to\n>     have European decimal notation (comma instead of period).\n\n"
      ]
    }
  ],
  "metadata": {
    "org": null,
    "kernelspec": {
      "display_name": "R",
      "language": "R",
      "name": "ir"
    },
    "language_info": {
      "codemirror_mode": "r",
      "file_extension": ".r",
      "mimetype": "text/x-r-source",
      "name": "R",
      "pygments_lexer": "r",
      "version": "3.3.2"
    }
  },
  "nbformat": 4,
  "nbformat_minor": 0
}