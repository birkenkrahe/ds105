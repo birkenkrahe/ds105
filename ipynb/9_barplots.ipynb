{
  "cells": [
    {
      "cell_type": "markdown",
      "metadata": {},
      "source": "Basic plotting in R - barplots and pie charts\n=============================================\n\n**Author:** Marcus Birkenkrahe\n\n"
    },
    {
      "cell_type": "markdown",
      "metadata": {},
      "source": [
        "\n# Table of Contents\n\n\n\n\n\n"
      ]
    },
    {
      "cell_type": "markdown",
      "metadata": {},
      "source": [
        "## What's in it for you?\n\n"
      ]
    },
    {
      "cell_type": "markdown",
      "metadata": {},
      "source": [
        "![img](../img/whiskers.jpg)\n\n-   Why visualization? What does it depend on?\n-   What types of charts are there?\n-   Barplots and pie charts\n-   Histograms\n-   Box-and-Whisker Plots\n-   Scatterplots\n-   Using base R and ggplot2\n    \n    Source: Davies (2016), chapter 14, pp. 289-308.\n\n"
      ]
    },
    {
      "cell_type": "markdown",
      "metadata": {},
      "source": [
        "## When do we visualize data? When don't we?\n\n"
      ]
    },
    {
      "cell_type": "markdown",
      "metadata": {},
      "source": [
        "![img](../img/9_bigpicture.jpg)\n> Data visualization is important for EXPLORATION and for DOCUMENTATION:\n> \n> 1) During data **exploration** (EDA), we visualize to see **patterns** rather\n>    than rely on summary statistics and numbers only\n> \n> 2) During data **storytelling**, we document and communicate insights\n>    using graphs rather than tables (raw numbers)\n> \n> It's easy to miss **relevant details** in graphs, and it's easy to miss\n> the **big picture** in tables.\\* What does visualization depend on?\n\n![img](../img/9_viz.png)\n(Source: r-charts.com - base R and ggplot2 examples)\n\n> \n> 1) Raw/transformed data (observations and experiments)\n> \n> 2) Available/affordable tools (computing and infrastructure)\n> \n> 3) Variable types/style (related to the programming language)\n> \n> 4) Skill/Benefit (data scientists and data science customers)\n> \\* About lists\n![img](../img/eatpraylove.jpg)\n\n-   Lists should always be ordered by priority, and aligned by type.\n\n-   The poster suggests a priority: eating comes before praying comes\n    before loving. Different people have different priorities!\n\n-   The following example fails on both categories: the priority order\n    is a time order, and it is broken, and the list mixes nouns and\n    verbs:\n\n>   1) Going home\n>   2) Go to sleep\n>   3) Supper\n\n-   Better:\n\n>   1) Going home\n>   2) Eating supper\n>   3) Going to sleep\n\n"
      ]
    },
    {
      "cell_type": "markdown",
      "metadata": {},
      "source": [
        "## What types of visualizations are there?\n\n"
      ]
    },
    {
      "cell_type": "markdown",
      "metadata": {},
      "source": [
        "![img](../img/9_chart_types.png)\n(Source: r-graph-gallery.com)\n> - Plots with bars (bar plot, histogram, lollipop, dotplot, pie chart)\n> \n> - Plots with curves (density, ridgeline)\n> \n> - Plots with points (scatterplot, bubbleplot, correlogram, line plot)\n> \n> - Plots with areas (mosaicplot, boxplot, violinplot)\n> \n> - Plots with trees (treemap, dendrogram)\n\n"
      ]
    },
    {
      "cell_type": "markdown",
      "metadata": {},
      "source": [
        "## Barplots and Pie charts\n\n"
      ]
    },
    {
      "cell_type": "markdown",
      "metadata": {},
      "source": [
        "![img](../img/9_piebar.png)\n\n-   Barplots and pie charts are used to visualize **qualitative** data by\n    **category frequency**\n\n-   The height of the bars of a **barplot** indicate the frequency or count\n    of each category\n\n-   The size of the segment of the **pie chart** indicate the frequency or\n    count of each category\n\n"
      ]
    },
    {
      "cell_type": "markdown",
      "metadata": {},
      "source": [
        "## Frequency tables\n\n"
      ]
    },
    {
      "cell_type": "markdown",
      "metadata": {},
      "source": [
        "-   Frequencies can be computed using the `table` function\n\n-   Example: look at the dataset `ToothGrowth` - it has two `numeric` and\n    one `factor` variable.\n\n"
      ]
    },
    {
      "cell_type": "code",
      "execution_count": 1,
      "metadata": {},
      "outputs": [
        {
          "name": "stdout",
          "output_type": "stream",
          "text": [
            ": 'data.frame':\t60 obs. of  3 variables:\n  :  $ len : num  4.2 11.5 7.3 5.8 6.4 10 11.2 11.2 5.2 7 ...\n  :  $ supp: Factor w/ 2 levels \"OJ\",\"VC\": 2 2 2 2 2 2 2 2 2 2 ...\n  :  $ dose: num  0.5 0.5 0.5 0.5 0.5 0.5 0.5 0.5 0.5 0.5 ..."
          ]
        }
      ],
      "source": [
        "str(ToothGrowth)\ntg <- ToothGrowth"
      ]
    },
    {
      "cell_type": "markdown",
      "metadata": {},
      "source": [
        "-   Compute the frequencies for the variables of `ToothGrowth`:\n\n"
      ]
    },
    {
      "cell_type": "code",
      "execution_count": 1,
      "metadata": {},
      "outputs": [
        {
          "name": "stdout",
          "output_type": "stream",
          "text": [
            "#+begin_example\n\n   4.2  5.2  5.8  6.4    7  7.3  8.2  9.4  9.7   10 11.2 11.5 13.6 14.5 15.2 15.5 \n     1    1    1    1    1    1    1    1    2    2    2    1    1    3    2    1 \n  16.5 17.3 17.6 18.5 18.8 19.7   20 21.2 21.5 22.4 22.5   23 23.3 23.6 24.5 24.8 \n     3    2    1    1    1    1    1    1    2    1    1    1    2    2    1    1 \n  25.2 25.5 25.8 26.4 26.7 27.3 29.4 29.5 30.9 32.5 33.9 \n     1    2    1    4    1    2    1    1    1    1    1\n\n  OJ VC \n  30 30\n\n  0.5   1   2 \n   20  20  20\n  #+end_example"
          ]
        }
      ],
      "source": [
        "table(tg$len)\ntable(tg$supp)\ntable(tg$dose)"
      ]
    },
    {
      "cell_type": "markdown",
      "metadata": {},
      "source": [
        "-   What do these results mean? Which questions does each `table` result\n    answer?\n\n>   How many observations correspond to the values of `len`, `supp` and\n>   `dose`?\n\n-   What kind of R data structure is this frequency table? What\n    structure does a table have? Is the table named or unnamed?\n\n"
      ]
    },
    {
      "cell_type": "code",
      "execution_count": 1,
      "metadata": {},
      "outputs": [
        {
          "name": "stdout",
          "output_type": "stream",
          "text": [
            ": [1] \"table\"\n  :  'table' int [1:2(1d)] 30 30\n  :  - attr(*, \"dimnames\")=List of 1\n  :   ..$ : chr [1:2] \"OJ\" \"VC\"\n  : [1] \"OJ\" \"VC\""
          ]
        }
      ],
      "source": [
        "tbl <- table(ToothGrowth$supp)\nclass(tbl) \nstr(tbl)\nnames(tbl)"
      ]
    },
    {
      "cell_type": "markdown",
      "metadata": {},
      "source": [
        "## How to build a barplot\n\n"
      ]
    },
    {
      "cell_type": "markdown",
      "metadata": {},
      "source": [
        "![img](../img/errorbar.png)\n\n-   A barplot draws vertical or horizontal bars separated by white\n    space, to visualize frequencies according to the relevant categories\n\n-   You can visualize raw quantities (i.e. counts), or functions of\n    them, like the `mean` or proportions\n\n-   For more than one variable, the bars can be stacked or dodged (drawn\n    next to one another)\n\n-   Example: to build barplots for any variable, we merely pass the\n    frequency table to the `barplot` function. The value of each table\n    entry determines the height of the bar: `barplot(table(var))`\n\n"
      ]
    },
    {
      "cell_type": "markdown",
      "metadata": {},
      "source": [
        "## Building a barplot for `mtcars`\n\n"
      ]
    },
    {
      "cell_type": "markdown",
      "metadata": {},
      "source": [
        "-   As an example let's use `mtcars`, which contains characteristics of 32\n    classic performance cars in the mid-1970s.\n\n-   Print the first 5 rows of the data frame `mtcars`\n\n"
      ]
    },
    {
      "cell_type": "code",
      "execution_count": 1,
      "metadata": {},
      "outputs": [
        {
          "name": "stdout",
          "output_type": "stream",
          "text": [
            ":                    mpg cyl disp  hp drat    wt  qsec vs am gear carb\n  : Mazda RX4         21.0   6  160 110 3.90 2.620 16.46  0  1    4    4\n  : Mazda RX4 Wag     21.0   6  160 110 3.90 2.875 17.02  0  1    4    4\n  : Datsun 710        22.8   4  108  93 3.85 2.320 18.61  1  1    4    1\n  : Hornet 4 Drive    21.4   6  258 110 3.08 3.215 19.44  1  0    3    1\n  : Hornet Sportabout 18.7   8  360 175 3.15 3.440 17.02  0  0    3    2"
          ]
        }
      ],
      "source": [
        "head(mtcars,5)"
      ]
    },
    {
      "cell_type": "markdown",
      "metadata": {},
      "source": [
        "-   Fun fact: The unit of horsepower [hp] is equivalent fo a horse\n    moving 33,000 pounds of mass 1 foot in 1 minute [lbs x ft / min]\n\n-   We're only interested in one variable, `cyl`, the number of cylinders\n    of the cars listed.\n\n-   We use `table` to find out how many cars have how many cylinders and\n    store the result in `cyl.freq`\n\n"
      ]
    },
    {
      "cell_type": "code",
      "execution_count": 1,
      "metadata": {},
      "outputs": [
        {
          "name": "stdout",
          "output_type": "stream",
          "text": [
            ": \n  :  4  6  8 \n  : 11  7 14"
          ]
        }
      ],
      "source": [
        "cyl.freq <- table(mtcars$cyl)\ncyl.freq"
      ]
    },
    {
      "cell_type": "markdown",
      "metadata": {},
      "source": [
        "-   We create a barplot of the cylinder frequencies in `mtcar`\n\n"
      ]
    },
    {
      "cell_type": "code",
      "execution_count": 1,
      "metadata": {},
      "outputs": [
        {
          "data": {
            "image/png": "[encoded data removed]",
            "text/plain": "<matplotlib.figure.Figure>"
          },
          "metadata": {},
          "output_type": "display_data"
        }
      ],
      "source": [
        "barplot(cyl.freq)"
      ]
    },
    {
      "cell_type": "markdown",
      "metadata": {},
      "source": [
        "-   The plot displays the number of 4-, 6- and 8-cylinder cars in the\n    data set but without annotations it's not clear what is summarized\n\n"
      ]
    },
    {
      "cell_type": "markdown",
      "metadata": {},
      "source": [
        "## Annotating a barplot\n\n"
      ]
    },
    {
      "cell_type": "markdown",
      "metadata": {},
      "source": [
        "-   Annotating a barplot works no different than annotating any plot,\n    which is a great advantage of base R plotting\n\n-   The `barplot` function has a bunch of parameters, which you can view\n    with `help` (if you run this in Org-mode, you have to quit with `C-g`)\n\n"
      ]
    },
    {
      "cell_type": "code",
      "execution_count": 1,
      "metadata": {},
      "outputs": [],
      "source": [
        "##  help(barplot)"
      ]
    },
    {
      "cell_type": "markdown",
      "metadata": {},
      "source": [
        "-   For the simplest annotation, we need:\n    1.  title (`main`)\n    2.  x-axis label (`xlab`)\n    3.  y-axis label (`ylab`)\n\n-   Customization for the barplot of `cyl.freq`:\n\n"
      ]
    },
    {
      "cell_type": "code",
      "execution_count": 1,
      "metadata": {},
      "outputs": [
        {
          "data": {
            "image/png": "[encoded data removed]",
            "text/plain": "<matplotlib.figure.Figure>"
          },
          "metadata": {},
          "output_type": "display_data"
        }
      ],
      "source": [
        "barplot(\n  height = cyl.freq,\n  main = \"Barplot of 4-, 5- and 6-cylinder cars in mtcars\",\n  xlab = \"Number of cylinders\",\n  ylab = \"Frequency\"\n)"
      ]
    },
    {
      "cell_type": "markdown",
      "metadata": {},
      "source": [
        "## Practice: building a simple barplot\n\n"
      ]
    },
    {
      "cell_type": "markdown",
      "metadata": {},
      "source": [
        "1.  Check the `help` for the `read.csv` function. What's the difference\n    between `read.csv` and `read.csv2`?\n\n>    The separator between the data is `,` for `read.csv` and `;` for\n>    `read.csv2`.\n\n1.  What is the meaning of the parameter `stringsAsFactors`?\n\n>    Setting this parameter to `TRUE` converts all `character` vectors to\n>    `factor` vectors.\n\n1.  Save the file at [https://tinyurl.com/spdnvxbr>](https://tinyurl.com/spdnvxbr>)as a data frame using\n    `read.csv`. Look at the file to check if `header` should be `TRUE` or\n    `FALSE`, and set `stringsAsFactors=TRUE`.\n\n"
      ]
    },
    {
      "cell_type": "code",
      "execution_count": 1,
      "metadata": {},
      "outputs": [],
      "source": [
        "df <- read.csv(file=\"https://tinyurl.com/spdnvxbr\",\n               header=TRUE,\n               stringsAsFactors=TRUE)"
      ]
    },
    {
      "cell_type": "markdown",
      "metadata": {},
      "source": [
        "1.  Save the file again as a data frame `dnf` but this time do **not** set\n    `stringsAsFactors` to `TRUE`. Print the structure of `dnf`.\n\n"
      ]
    },
    {
      "cell_type": "code",
      "execution_count": 1,
      "metadata": {},
      "outputs": [
        {
          "name": "stdout",
          "output_type": "stream",
          "text": [
            ": 'data.frame':\t10 obs. of  4 variables:\n   :  $ Weight: int  55 85 75 42 93 63 58 75 89 67\n   :  $ Height: int  161 185 174 154 188 178 170 167 181 178\n   :  $ Sex   : chr  \"female\" \"male\" \"male\" \"female\" ...\n   :  $ Name  : chr  \"Jane\" \"Jim\" \"Joe\" \"Carla\" ..."
          ]
        }
      ],
      "source": [
        "dnf <- read.csv(file=\"https://tinyurl.com/spdnvxbr\",\n                header=TRUE)\nstr(dnf)"
      ]
    },
    {
      "cell_type": "markdown",
      "metadata": {},
      "source": [
        "1.  Change the `character` vectors to `factor` vectors in `dnf`.\n\n"
      ]
    },
    {
      "cell_type": "code",
      "execution_count": 1,
      "metadata": {},
      "outputs": [],
      "source": [
        "dnf$Sex <- factor(dnf$Sex)\ndnf$Name <- factor(dnf$Name)"
      ]
    },
    {
      "cell_type": "markdown",
      "metadata": {},
      "source": [
        "1.  Use a function to check that `df` and `dnf` are identical.\n\n"
      ]
    },
    {
      "cell_type": "code",
      "execution_count": 1,
      "metadata": {},
      "outputs": [
        {
          "name": "stdout",
          "output_type": "stream",
          "text": [
            ": [1] TRUE"
          ]
        }
      ],
      "source": [
        "identical(df,dnf)"
      ]
    },
    {
      "cell_type": "markdown",
      "metadata": {},
      "source": [
        "1.  Check the structure of the data frame `df`.\n\n"
      ]
    },
    {
      "cell_type": "code",
      "execution_count": 1,
      "metadata": {},
      "outputs": [
        {
          "name": "stdout",
          "output_type": "stream",
          "text": [
            ": 'data.frame':\t10 obs. of  4 variables:\n   :  $ Weight: int  55 85 75 42 93 63 58 75 89 67\n   :  $ Height: int  161 185 174 154 188 178 170 167 181 178\n   :  $ Sex   : Factor w/ 2 levels \"female\",\"male\": 1 2 2 1 2 2 1 2 2 1\n   :  $ Name  : Factor w/ 10 levels \"Carl\",\"Carla\",..: 7 8 9 2 1 3 6 4 5 10"
          ]
        }
      ],
      "source": [
        "str(df)"
      ]
    },
    {
      "cell_type": "markdown",
      "metadata": {},
      "source": [
        "1.  Print the data frame.\n\n"
      ]
    },
    {
      "cell_type": "code",
      "execution_count": 1,
      "metadata": {},
      "outputs": [
        {
          "name": "stdout",
          "output_type": "stream",
          "text": [
            "#+begin_example\n      Weight Height    Sex  Name\n   1      55    161 female  Jane\n   2      85    185   male   Jim\n   3      75    174   male   Joe\n   4      42    154 female Carla\n   5      93    188   male  Carl\n   6      63    178   male Chris\n   7      58    170 female  Dora\n   8      75    167   male  Dave\n   9      89    181   male Derek\n   10     67    178 female Lucia\n   #+end_example"
          ]
        }
      ],
      "source": [
        "df"
      ]
    },
    {
      "cell_type": "markdown",
      "metadata": {},
      "source": [
        "1.  Compute the frequency table for the variable `Sex`, store it in\n    `sex.freq` and print `sex.freq`.\n\n"
      ]
    },
    {
      "cell_type": "code",
      "execution_count": 1,
      "metadata": {},
      "outputs": [
        {
          "name": "stdout",
          "output_type": "stream",
          "text": [
            ": \n   : female   male \n   :      4      6"
          ]
        }
      ],
      "source": [
        "sex.freq <- table(df$Sex)\nsex.freq"
      ]
    },
    {
      "cell_type": "markdown",
      "metadata": {},
      "source": [
        "1.  What information does `sex.freq` contain? Write your answer below (as\n    a full sentence).\n\n>    The data frame contains observations on four female and six male\n>    participants.\n\n1.  Create a barplot for the `Sex` category and store it in the file\n    `sex.png`.\n\n"
      ]
    },
    {
      "cell_type": "code",
      "execution_count": 1,
      "metadata": {},
      "outputs": [
        {
          "data": {
            "image/png": "[encoded data removed]",
            "text/plain": "<matplotlib.figure.Figure>"
          },
          "metadata": {},
          "output_type": "display_data"
        }
      ],
      "source": [
        "barplot(height = sex.freq)"
      ]
    },
    {
      "cell_type": "markdown",
      "metadata": {},
      "source": [
        "1.  Annotate the barplot by adding the title \"Barplot of the data set\n    df\", and x- and y-axis labels. Orient the axis labels horizontally\n    by adding the parameter `las=1`.\n\n"
      ]
    },
    {
      "cell_type": "code",
      "execution_count": 1,
      "metadata": {},
      "outputs": [
        {
          "data": {
            "image/png": "[encoded data removed]",
            "text/plain": "<matplotlib.figure.Figure>"
          },
          "metadata": {},
          "output_type": "display_data"
        }
      ],
      "source": [
        "barplot(\n  height = sex.freq,\n  xlab = \"Participants\",\n  ylab = \"Frequency\",\n  main = \"Barplot of the data set df\",\n  las = 1)"
      ]
    },
    {
      "cell_type": "markdown",
      "metadata": {},
      "source": [
        "## Building stacked/dodged barplots\n\n"
      ]
    },
    {
      "cell_type": "markdown",
      "metadata": {},
      "source": [
        "-   If you continue your exploration at this point in Org-mode, you can\n    use `M-x org-babel-execute-buffer` to run all code blocks in this buffer\n\n-   We're interested in cylinder and transmission information from the\n    `mtcars` data set: for example, how many 4-cylinder cars have\n    automatic transmission?\n\n"
      ]
    },
    {
      "cell_type": "code",
      "execution_count": 1,
      "metadata": {},
      "outputs": [
        {
          "name": "stdout",
          "output_type": "stream",
          "text": [
            ": cylinders\n  :  4  6  8 \n  : 11  7 14\n  : \n  :  4  6  8 \n  :  3  4 12\n  : 4 \n  : 3"
          ]
        }
      ],
      "source": [
        "cylinders <- mtcars$cyl\ntransmission <- mtcars$am\ntable(cylinders)  # frequency table for all cars\ntable(cylinders[transmission == 0])  # table for automatic cars\ntable(cylinders[transmission == 0])[\"4\"] # 4-cylinder automatic cars"
      ]
    },
    {
      "cell_type": "markdown",
      "metadata": {},
      "source": [
        "-   *Stacked* barplots have bars that are split up vertically\n\n-   In *dodged* or *side-by-side* barplots, the bars are broken up and\n    placed next to one another - the figure shows the contrast:\n    \n    ![img](../img/9_cylam.png)\n\n"
      ]
    },
    {
      "cell_type": "markdown",
      "metadata": {},
      "source": [
        "## Frequency matrix\n\n"
      ]
    },
    {
      "cell_type": "markdown",
      "metadata": {},
      "source": [
        "-   To make such plots, `barplot` needs a suitably arranged matrix as its\n    first argument. E.g. for `cylinders` and `transmissions`, it shows the\n    number of all cylinders associated with each transmission type:\n\n"
      ]
    },
    {
      "cell_type": "code",
      "execution_count": 1,
      "metadata": {},
      "outputs": [
        {
          "name": "stdout",
          "output_type": "stream",
          "text": [
            ":             cylinders\n  : transmission  4  6  8\n  :            0  3  4 12\n  :            1  8  3  2"
          ]
        }
      ],
      "source": [
        "cyl.freq.matrix <- table(transmission, cylinders)\ncyl.freq.matrix"
      ]
    },
    {
      "cell_type": "markdown",
      "metadata": {},
      "source": [
        "-   The condition for `table` to cross-tabulate categorical variables (or\n    vectors of discrete numeric values) is that the vectors have the\n    **same length**.\n\n-   Column vectors having the same length means that for each\n    observation, values of both variables were recorded: each car in\n    `mtcars` has a `cylinders` and a `transmission` value.\n\n-   Each bar of the barplot corresponds to a column of the supplied\n    matrix, and it is further split by the row values.\n\n-   Creating the barplot:\n\n"
      ]
    },
    {
      "cell_type": "code",
      "execution_count": 1,
      "metadata": {},
      "outputs": [
        {
          "data": {
            "image/png": "[encoded data removed]",
            "text/plain": "<matplotlib.figure.Figure>"
          },
          "metadata": {},
          "output_type": "display_data"
        }
      ],
      "source": [
        "barplot(cyl.freq.matrix,\n        las = 1) # label orientation"
      ]
    },
    {
      "cell_type": "markdown",
      "metadata": {},
      "source": [
        "-   Each bar/column of the plot corresponds to a column of the\n    categorical variable on the x-axis. Let's customize it!\n\n"
      ]
    },
    {
      "cell_type": "markdown",
      "metadata": {},
      "source": [
        "## Customizing barplots\n\n"
      ]
    },
    {
      "cell_type": "markdown",
      "metadata": {},
      "source": [
        "-   There are a LOT of potential parameters in `help(barplot)` with the\n    default values. To find `las`, you need to check `par` (graphics).\n    \n        barplot(height, width = 1, space = NULL,\n                names.arg = NULL, legend.text = NULL, beside = FALSE,\n                horiz = FALSE, density = NULL, angle = 45,\n                col = NULL, border = par(\"fg\"),\n                main = NULL, sub = NULL, xlab = NULL, ylab = NULL,\n                xlim = NULL, ylim = NULL, xpd = TRUE, log = \"\",\n                axes = TRUE, axisnames = TRUE,\n                cex.axis = par(\"cex.axis\"), cex.names = par(\"cex.axis\"),\n                inside = TRUE, plot = TRUE, axis.lty = 0, offset = 0,\n                add = FALSE, ann = !add && par(\"ann\"),\n                args.legend = NULL, ...)\n\n-   Let's look at some of these, which we will customize later:\n    1.  `height` is a non-optional argument (vector or matrix)\n    2.  `horiz = FALSE` means bars are drawn vertically (first on the\n        left); if `TRUE`, bars are drawn horizontally (first at bottom)\n    3.  `names.arg = NULL` means that names for each bar are taken from the\n        `names` attribute of `height` if it is a vector, or the column\n        names if it is a matrix (which is what happened here):\n\n"
      ]
    },
    {
      "cell_type": "code",
      "execution_count": 1,
      "metadata": {},
      "outputs": [
        {
          "name": "stdout",
          "output_type": "stream",
          "text": [
            ": [1] \"4\" \"6\" \"8\""
          ]
        }
      ],
      "source": [
        "colnames(cyl.freq.matrix)"
      ]
    },
    {
      "cell_type": "markdown",
      "metadata": {},
      "source": [
        "1.  `beside = FALSE` means stacked bars, `TRUE` means side-by-side bars\n    1.  `legend.text` is a quick way to add a legend (always useful)\n\n2.  We already know how to add a title and x- and y-axis labels:\n\n"
      ]
    },
    {
      "cell_type": "code",
      "execution_count": 1,
      "metadata": {},
      "outputs": [
        {
          "data": {
            "image/png": "[encoded data removed]",
            "text/plain": "<matplotlib.figure.Figure>"
          },
          "metadata": {},
          "output_type": "display_data"
        }
      ],
      "source": [
        "barplot(cyl.freq.matrix,\n        las = 1,\n        main = \"Car counts by transmission and cylinders\",\n        xlab = \"Number of cylinders\",\n        ylab = \"Number of cars\")"
      ]
    },
    {
      "cell_type": "markdown",
      "metadata": {},
      "source": [
        "-   Change the x-axis names to more meaningful values with `names.arg`:\n\n"
      ]
    },
    {
      "cell_type": "code",
      "execution_count": 1,
      "metadata": {},
      "outputs": [
        {
          "data": {
            "image/png": "[encoded data removed]",
            "text/plain": "<matplotlib.figure.Figure>"
          },
          "metadata": {},
          "output_type": "display_data"
        }
      ],
      "source": [
        "barplot(cyl.freq.matrix,\n        las = 1,\n        main = \"Car counts by transmission and cylinders\",\n        xlab = \"Transmission type\",\n        ylab = \"Number of cars\",\n        names.arg = c(\"V4\", \"V6\", \"V8\"))"
      ]
    },
    {
      "cell_type": "markdown",
      "metadata": {},
      "source": [
        "-   Add a legend using `legend.text`:\n\n"
      ]
    },
    {
      "cell_type": "code",
      "execution_count": 1,
      "metadata": {},
      "outputs": [
        {
          "data": {
            "image/png": "[encoded data removed]",
            "text/plain": "<matplotlib.figure.Figure>"
          },
          "metadata": {},
          "output_type": "display_data"
        }
      ],
      "source": [
        "barplot(cyl.freq.matrix,\n        las = 1,\n        main = \"Car counts by transmission and cylinders\",\n        xlab = \"Transmission type\",\n        ylab = \"Number of cars\",\n        names.arg = c(\"V4\", \"V6\", \"V8\"),\n        legend.text = c(\"Auto\", \"Manual\"))"
      ]
    },
    {
      "cell_type": "markdown",
      "metadata": {},
      "source": [
        "-   We don't want the legend to overlap with the bars: we use\n    the `args.legend` parameter to change the position:\n\n"
      ]
    },
    {
      "cell_type": "code",
      "execution_count": 1,
      "metadata": {},
      "outputs": [
        {
          "data": {
            "image/png": "[encoded data removed]",
            "text/plain": "<matplotlib.figure.Figure>"
          },
          "metadata": {},
          "output_type": "display_data"
        }
      ],
      "source": [
        "barplot(cyl.freq.matrix,\n        las = 1,\n        main = \"Car counts by transmission and cylinders\",\n        xlab = \"Transmission type\",\n        ylab = \"Number of cars\",\n        names.arg = c(\"V4\", \"V6\", \"V8\"),\n        legend.text = c(\"Auto\", \"Manual\"),\n        args.legend = list(x=\"topleft\"))"
      ]
    },
    {
      "cell_type": "markdown",
      "metadata": {},
      "source": [
        "-   Turning it on its side changing the parameter `horiz` to `TRUE` (and\n    moving the legend to center `right`):\n\n"
      ]
    },
    {
      "cell_type": "code",
      "execution_count": 1,
      "metadata": {},
      "outputs": [
        {
          "data": {
            "image/png": "[encoded data removed]",
            "text/plain": "<matplotlib.figure.Figure>"
          },
          "metadata": {},
          "output_type": "display_data"
        }
      ],
      "source": [
        "barplot(cyl.freq.matrix,\n        las = 1,\n        main = \"Car counts by transmission and cylinders\",\n        xlab = \"Transmission type\",\n        ylab = \"Number of cars\",\n        names.arg = c(\"V4\", \"V6\", \"V8\"),\n        legend.text = c(\"Auto\", \"Manual\"),\n        args.legend = list(x=\"right\"),\n        horiz = TRUE)"
      ]
    },
    {
      "cell_type": "markdown",
      "metadata": {},
      "source": [
        "-   Finally, let's look at the dodged version of this plot:\n\n"
      ]
    },
    {
      "cell_type": "code",
      "execution_count": 1,
      "metadata": {},
      "outputs": [
        {
          "name": "stdout",
          "output_type": "stream",
          "text": [
            "dodged"
          ]
        },
        {
          "data": {
            "image/png": "[encoded data removed]",
            "text/plain": "<matplotlib.figure.Figure>"
          },
          "metadata": {},
          "output_type": "display_data"
        }
      ],
      "source": [
        "barplot(cyl.freq.matrix,\n        las = 1,\n        main = \"Car counts by transmission and cylinders\",\n        ylab = \"Transmission type\",\n        xlab = \"Number of cars\",\n        names.arg = c(\"V4\", \"V6\", \"V8\"),\n        legend.text = c(\"Auto\", \"Manual\"),\n        args.legend = list(x=\"right\"),\n        horiz = TRUE,\n        beside = TRUE)"
      ]
    },
    {
      "cell_type": "markdown",
      "metadata": {},
      "source": [
        "-   Especially for stacked plots, it might be good to see the values\n    attached to the bars. There is no parameter to do this, we must use\n    `text`: the `labels` inside the function use the `numeric` values and\n    convert them to `character` values for printing.\n\n-   For completeness: both final plots in a side-by-side plot array:\n\n"
      ]
    },
    {
      "cell_type": "code",
      "execution_count": 1,
      "metadata": {},
      "outputs": [
        {
          "data": {
            "image/png": "",
            "text/plain": "<matplotlib.figure.Figure>"
          },
          "metadata": {},
          "output_type": "display_data"
        }
      ],
      "source": [
        "par(mfrow=c(1,2), pty='s')\nbarplot(cyl.freq.matrix,\n        las = 1,\n        xlab = \"Transmission type\",\n        ylab = \"Number of cars\",\n        names.arg = c(\"V4\", \"V6\", \"V8\"),\n        legend.text = c(\"Auto\", \"Manual\"),\n        args.legend = list(x=\"topleft\",\n                           cex=0.9))\ntitle(\"Stacked vertical barplot\",\n      cex.main=0.9)\nbarplot(cyl.freq.matrix,\n        las = 1,\n        ylab = \"Transmission type\",\n        xlab = \"Number of cars\",\n        names.arg = c(\"V4\", \"V6\", \"V8\"),\n        legend.text = c(\"Auto\", \"Manual\"),\n        args.legend = list(x=\"right\",\n                           cex=0.9),\n        horiz = TRUE,\n        beside = TRUE)\ntitle(\"Stacked horizontal barplot\",\n      cex.main=0.9)"
      ]
    },
    {
      "cell_type": "markdown",
      "metadata": {},
      "source": [
        "## Barplots with ggplot2\n\n"
      ]
    },
    {
      "cell_type": "markdown",
      "metadata": {},
      "source": [
        "-   The ggplot2 package is an alternative to base R plotting\n\n-   It it based on the \"grammar of graphics\" methodology: customization\n    is layered on top of the raw data plot using the `+` operator\n\n-   You can use `ggplot` to make this plot but the layers stay the same\n    \n    ![img](../img/7_gg.png)\n\n-   Unlike base R, ggplot2 requires `data.frame` format, and is more picky\n\n-   The ([deprecated](https://ggplot2.tidyverse.org/reference/qplot.html)) function `ggplot2::qplot` is a shortcut that looks\n    like `plot`: the code below produces a basic barplot from `mtcars$cyl`\n\n"
      ]
    },
    {
      "cell_type": "code",
      "execution_count": 1,
      "metadata": {},
      "outputs": [
        {
          "data": {
            "image/png": "[encoded data removed]",
            "text/plain": "<matplotlib.figure.Figure>"
          },
          "metadata": {},
          "output_type": "display_data"
        }
      ],
      "source": [
        "library(ggplot2)\nqplot(factor(mtcars$cyl), geom=\"bar\")"
      ]
    },
    {
      "cell_type": "markdown",
      "metadata": {},
      "source": [
        "-   Here, the relevant \"geometry\" is `\"bar\"` and the `numeric` variable must\n    be supplied as a `factor` to allow treating it like a category\n\n-   To get this plot with `barplot` in base R, you need the frequency\n    `table` function but you don't need to change the vector to `factor`\n\n-   To produce a ggplot2 version of the dodged barplot created earlier\n    in base R, you can use this code:\n\n"
      ]
    },
    {
      "cell_type": "code",
      "execution_count": 1,
      "metadata": {},
      "outputs": [
        {
          "data": {
            "image/png": "[encoded data removed]",
            "text/plain": "<matplotlib.figure.Figure>"
          },
          "metadata": {},
          "output_type": "display_data"
        }
      ],
      "source": [
        "qplot(\n  factor(mtcars$cyl),\n  geom=\"blank\",\n  fill=factor(mtcars$am),\n  xlab=\"Number of cylinders\",\n  ylab=\"Number of cars\",\n  main=\"Car counts by transmission and cylinders\") +\n  geom_bar(position=\"dodge\") +\n  scale_x_discrete(\n    labels=c(\"V4\", \"V6\", \"V8\")) +\n  scale_y_continuous(\n    breaks=seq(0,12,2)) +\n  coord_flip() +\n  theme_bw() +\n  scale_fill_grey(\n    name=\"Trans\",\n    labels=c(\"auto\",\"manual\"))"
      ]
    },
    {
      "cell_type": "markdown",
      "metadata": {},
      "source": [
        "-   Direct contrast between ggplot2 and base R code: the default in\n    ggplot2 is color (you can [pick another theme](https://ggplot2.tidyverse.org/reference/ggtheme.html))\n    \n    ![img](../img/7_plots.png)\n\n-   The default makes the code just as short as the base R solution:\n\n"
      ]
    },
    {
      "cell_type": "code",
      "execution_count": 1,
      "metadata": {},
      "outputs": [
        {
          "data": {
            "image/png": "[encoded data removed]",
            "text/plain": "<matplotlib.figure.Figure>"
          },
          "metadata": {},
          "output_type": "display_data"
        }
      ],
      "source": [
        "qplot(\n  factor(mtcars$cyl),\n  geom=\"blank\",\n  fill=factor(mtcars$am),\n  xlab=\"Number of cylinders\",\n  ylab=\"Number of cars\",\n  main=\"Car counts by transmission and cylinders\") +\n  geom_bar(position=\"dodge\") +\n  coord_flip()"
      ]
    },
    {
      "cell_type": "markdown",
      "metadata": {},
      "source": [
        "## Practice ggplot2\n\n"
      ]
    },
    {
      "cell_type": "markdown",
      "metadata": {},
      "source": [
        "**Create a practice file `ggplot2.org` to work in: [tinyurl.com/3pjpbyvz](https://tinyurl.com/3pjpbyvz)**\n\n1.  Create barplot for the `ToothGrowth` dataset:\n    -   use the function `ggplot` with the arguments `data=ToothGrowth` and\n        `aes(x=supp,y=len)`\n    -   store the plot in an object `p`\n    -   print `p`\n\n"
      ]
    },
    {
      "cell_type": "code",
      "execution_count": 1,
      "metadata": {},
      "outputs": [
        {
          "data": {
            "image/png": "[encoded data removed]",
            "text/plain": "<matplotlib.figure.Figure>"
          },
          "metadata": {},
          "output_type": "display_data"
        }
      ],
      "source": [
        "ggplot(\n  data = ToothGrowth,\n  aes(x=supp, y=len)) -> p\np"
      ]
    },
    {
      "cell_type": "markdown",
      "metadata": {},
      "source": [
        "1.  Add a barplot geometry layer to the plot `p`:\n    -   add (`+`) `geom_bar(stat=\"identity\", width=0.8)`\n    -   store the new plot in `p1` and print it\n    -   note that adding with `+` on a new line gives an error!\n\n"
      ]
    },
    {
      "cell_type": "code",
      "execution_count": 1,
      "metadata": {},
      "outputs": [
        {
          "data": {
            "image/png": "[encoded data removed]",
            "text/plain": "<matplotlib.figure.Figure>"
          },
          "metadata": {},
          "output_type": "display_data"
        }
      ],
      "source": [
        "p +\n  geom_bar(\n    stat=\"identity\",\n    width=0.8) -> p1\np1"
      ]
    },
    {
      "cell_type": "markdown",
      "metadata": {},
      "source": [
        "1.  Turn the plot on its side:\n    -   Add `coord_flip()` to `p1`\n    -   Store it in `p2` and print it\n\n"
      ]
    },
    {
      "cell_type": "code",
      "execution_count": 1,
      "metadata": {},
      "outputs": [
        {
          "data": {
            "image/png": "[encoded data removed]",
            "text/plain": "<matplotlib.figure.Figure>"
          },
          "metadata": {},
          "output_type": "display_data"
        }
      ],
      "source": [
        "p +\n  geom_bar(\n    stat=\"identity\",\n    width=0.8) +\n  coord_flip() -> p2\np2"
      ]
    },
    {
      "cell_type": "markdown",
      "metadata": {},
      "source": [
        "1.  Using `ggplot`, make a stacked barplot of `ToothGrowth` which shows the\n    dosage `dose` for each `supp` category, and add `theme_minimal`: save in\n    `p3` and print plot\n\n"
      ]
    },
    {
      "cell_type": "code",
      "execution_count": 1,
      "metadata": {},
      "outputs": [
        {
          "data": {
            "image/png": "[encoded data removed]",
            "text/plain": "<matplotlib.figure.Figure>"
          },
          "metadata": {},
          "output_type": "display_data"
        }
      ],
      "source": [
        "ggplot(\n  data=ToothGrowth,\n  aes(x=supp,\n      y=len,\n      fill=dose)) +\n  geom_bar(stat=\"identity\") +\n  theme_minimal() -> p3\np3"
      ]
    },
    {
      "cell_type": "markdown",
      "metadata": {},
      "source": [
        "## Pie charts with base R\n\n"
      ]
    },
    {
      "cell_type": "markdown",
      "metadata": {},
      "source": [
        "-   Pie charts are an alternative to visualizing category frequencies\n\n-   Pie slices represent relative counts of each categorical variable\n\n-   Example: remember the `cylinders` in the `mtcars` data set?\n\n"
      ]
    },
    {
      "cell_type": "code",
      "execution_count": 1,
      "metadata": {},
      "outputs": [
        {
          "data": {
            "image/png": "[encoded data removed]",
            "text/plain": "<matplotlib.figure.Figure>"
          },
          "metadata": {},
          "output_type": "display_data"
        }
      ],
      "source": [
        "cyl.freq <- table(mtcars$cyl)\nbarplot(height=cyl.freq)"
      ]
    },
    {
      "cell_type": "markdown",
      "metadata": {},
      "source": [
        "-   Use `pie` to create a pie chart:\n\n"
      ]
    },
    {
      "cell_type": "code",
      "execution_count": 1,
      "metadata": {},
      "outputs": [
        {
          "data": {
            "image/png": "[encoded data removed]",
            "text/plain": "<matplotlib.figure.Figure>"
          },
          "metadata": {},
          "output_type": "display_data"
        }
      ],
      "source": [
        "pie(x=cyl.freq)"
      ]
    },
    {
      "cell_type": "markdown",
      "metadata": {},
      "source": [
        "-   Customize with parameters `label` (axis labels), `col` (color) and `main`\n    (title):\n\n"
      ]
    },
    {
      "cell_type": "code",
      "execution_count": 1,
      "metadata": {},
      "outputs": [
        {
          "data": {
            "image/png": "[encoded data removed]",
            "text/plain": "<matplotlib.figure.Figure>"
          },
          "metadata": {},
          "output_type": "display_data"
        }
      ],
      "source": [
        "pie(\n  x = cyl.freq,\n  labels = c(\"V4\", \"V6\", \"V8\"),\n  col = c(\"white\",\"gray\",\"black\"),\n  main = \"Performance cars by cylinder\")"
      ]
    },
    {
      "cell_type": "markdown",
      "metadata": {},
      "source": [
        "-   Both plots next to one another in a plot array\n\n"
      ]
    },
    {
      "cell_type": "code",
      "execution_count": 1,
      "metadata": {},
      "outputs": [
        {
          "data": {
            "image/png": "[encoded data removed]",
            "text/plain": "<matplotlib.figure.Figure>"
          },
          "metadata": {},
          "output_type": "display_data"
        }
      ],
      "source": [
        "par(mfrow=c(1,2),pty='s')\ncyl.freq <- table(mtcars$cyl)\npie(\n  x = cyl.freq,\n  labels = c(\"V4\", \"V6\", \"V8\"),\n  col = c(\"white\",\"gray\",\"black\"),\n  main = \"Pie chart\")\nbarplot(\n  height = cyl.freq,\n  main = \"Barplot\",\n  xlab = \"Number of cylinders\",\n  ylab = \"Frequency\"\n)"
      ]
    },
    {
      "cell_type": "markdown",
      "metadata": {},
      "source": [
        "## Pie charts with ggplot2\n\n"
      ]
    },
    {
      "cell_type": "markdown",
      "metadata": {},
      "source": [
        "-   There's no pie chart geometry in ggplot2, you have to improvise:\n    first build the data frame to be plotted:\n\n"
      ]
    },
    {
      "cell_type": "code",
      "execution_count": 1,
      "metadata": {},
      "outputs": [
        {
          "name": "stdout",
          "output_type": "stream",
          "text": [
            ": [1] 11  7 14\n  : [1] \"V4\" \"V6\" \"V8\"\n  :   value group\n  : 1    11    V4\n  : 2     7    V6\n  : 3    14    V8"
          ]
        }
      ],
      "source": [
        "value <- c(sum(mtcars$cyl == \"4\"),\n           sum(mtcars$cyl == \"6\"),\n           sum(mtcars$cyl == \"8\"))\nvalue\ngroup <- c(\"V4\",\"V6\",\"V8\")\ngroup\ndata <- data.frame(value,group)\ndata"
      ]
    },
    {
      "cell_type": "markdown",
      "metadata": {},
      "source": [
        "-   Then plot as a barplot with polar coordinates:\n\n"
      ]
    },
    {
      "cell_type": "code",
      "execution_count": 1,
      "metadata": {},
      "outputs": [
        {
          "data": {
            "image/png": "[encoded data removed]",
            "text/plain": "<matplotlib.figure.Figure>"
          },
          "metadata": {},
          "output_type": "display_data"
        }
      ],
      "source": [
        "ggplot(data,\n       aes(x=\"\", y=value, fill=group)) +\n  geom_bar(width=1, stat=\"identity\") +\n  coord_polar(\"y\", start=0)"
      ]
    },
    {
      "cell_type": "markdown",
      "metadata": {},
      "source": [
        "-   Pie charts are only useful when you have few categories that are\n    unordered. As soon as you want to display a second variable, or if\n    you have more than a few levels, bar charts are to be preferred.\n\n"
      ]
    },
    {
      "cell_type": "markdown",
      "metadata": {},
      "source": [
        "## References\n\n"
      ]
    },
    {
      "cell_type": "markdown",
      "metadata": {},
      "source": [
        "-   [\"ggplot2 barplots: Quick start guide\", sthda.com](http://www.sthda.com/english/wiki/ggplot2-barplots-quick-start-guide-r-software-and-data-visualization)\n\n"
      ]
    }
  ],
  "metadata": {
    "org": null,
    "kernelspec": {
      "display_name": "R",
      "language": "R",
      "name": "ir"
    },
    "language_info": {
      "codemirror_mode": "r",
      "file_extension": ".r",
      "mimetype": "text/x-r-source",
      "name": "R",
      "pygments_lexer": "r",
      "version": "3.3.2"
    }
  },
  "nbformat": 4,
  "nbformat_minor": 0
}