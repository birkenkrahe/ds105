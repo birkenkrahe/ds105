{
  "cells": [
    {
      "cell_type": "markdown",
      "metadata": {},
      "source": [
        "This exercise is very similar to the practice on the `Nile` data\nset. Here, we're using another built-in data set, `islands`. Instead of\n`time`, you need to use `names` to analyze the content of `islands`, and\ninstead of a line plot, you will draw a dot plot.\n\nFind out what `islands` contains and what its structure is. Take a look\nat `example(islands)`, too. Submit the completed file in Canvas for\nbonus points.\n\n"
      ]
    },
    {
      "cell_type": "code",
      "execution_count": 1,
      "metadata": {},
      "outputs": [
        {
          "name": "stdout",
          "output_type": "stream",
          "text": [
            "Named num [1:48] 11506 5500 16988 2968 16 ...\n - attr(*, \"names\")= chr [1:48] \"Africa\" \"Antarctica\" \"Asia\" \"Australia\" ..."
          ]
        }
      ],
      "source": [
        "str(islands)"
      ]
    },
    {
      "cell_type": "markdown",
      "metadata": {},
      "source": [
        "1.  How many elements does the vector `islands` have?\n\n"
      ]
    },
    {
      "cell_type": "code",
      "execution_count": 1,
      "metadata": {},
      "outputs": [
        {
          "name": "stdout",
          "output_type": "stream",
          "text": [
            ": [1] 48"
          ]
        }
      ],
      "source": [
        "length(islands)"
      ]
    },
    {
      "cell_type": "markdown",
      "metadata": {},
      "source": [
        "1.  Retrieve the third to fourth, the twelfth to thirty-fifth, and the\n    48th element of `islands` with one command, and check that you\n    retrieved 28 elements altogether (with another command)\n\n"
      ]
    },
    {
      "cell_type": "code",
      "execution_count": 1,
      "metadata": {},
      "outputs": [
        {
          "name": "stdout",
          "output_type": "stream",
          "text": [
            "#+begin_example\n              Asia       Australia    Axel Heiberg            Cuba           Devon\n             16988            2968              16              43              21\n         Ellesmere          Europe       Greenland          Hainan      Hispaniola\n                82            3745             840              13              30\n          Hokkaido          Honshu         Iceland         Ireland            Java\n                30              89              40              33              49\n            Kyushu           Luzon      Madagascar        Melville        Mindanao\n                14              42             227              16              36\n          Moluccas     New Britain      New Guinea New Zealand (N) New Zealand (S)\n                29              15             306              44              58\n      Newfoundland   North America        Victoria\n                43            9390              82\n   [1] 28\n   #+end_example"
          ]
        }
      ],
      "source": [
        "islands[c(3:5,12:35,48)]\nlength(islands[c(3:5,12:35,48)])"
      ]
    },
    {
      "cell_type": "markdown",
      "metadata": {},
      "source": [
        "1.  Create a vector `islands_unnamed` from `islands` that is not named and\n    show its structure. Tip: to remove the `names` of a vector, assign\n    `NULL` to it.\n\n"
      ]
    },
    {
      "cell_type": "code",
      "execution_count": 1,
      "metadata": {},
      "outputs": [
        {
          "name": "stdout",
          "output_type": "stream",
          "text": [
            ":  num [1:48] 11506 5500 16988 2968 16 ..."
          ]
        }
      ],
      "source": [
        "islands_unnamed <- islands\nnames(islands_unnamed) <- NULL\nstr(islands_unnamed)"
      ]
    },
    {
      "cell_type": "markdown",
      "metadata": {},
      "source": [
        "1.  Print the value of `islands` that belongs to the `names(islands)`\n    element `\"Iceland\"`- which data science question could this answer?\n\n"
      ]
    },
    {
      "cell_type": "code",
      "execution_count": 1,
      "metadata": {},
      "outputs": [
        {
          "name": "stdout",
          "output_type": "stream",
          "text": [
            ": Iceland\n   :      40"
          ]
        }
      ],
      "source": [
        "islands[names(islands)==\"Iceland\"]"
      ]
    },
    {
      "cell_type": "markdown",
      "metadata": {},
      "source": [
        ">    »What is the area of Iceland in thousands of square miles?«\n\n1.  Which element of `islands` corresponds to the greatest area? (Put\n    differently: what is the greatest landmass on Earth?)\n\n"
      ]
    },
    {
      "cell_type": "code",
      "execution_count": 1,
      "metadata": {},
      "outputs": [
        {
          "name": "stdout",
          "output_type": "stream",
          "text": [
            ": [1] \"Asia\""
          ]
        }
      ],
      "source": [
        "names(islands)[islands == max(islands)]"
      ]
    },
    {
      "cell_type": "markdown",
      "metadata": {},
      "source": [
        "1.  What is the index of the next-to-last element of `islands`? Use `which`\n    to answer this question and save the result as `index`.\n\n"
      ]
    },
    {
      "cell_type": "code",
      "execution_count": 1,
      "metadata": {},
      "outputs": [
        {
          "name": "stdout",
          "output_type": "stream",
          "text": [
            ": Vancouver\n   :        47"
          ]
        }
      ],
      "source": [
        "index <- which(islands == islands[length(islands)-1])\nindex"
      ]
    },
    {
      "cell_type": "markdown",
      "metadata": {},
      "source": [
        "1.  Check your answer to the last question by finding the value of\n    `islands` that belongs to `index`.\n\n"
      ]
    },
    {
      "cell_type": "code",
      "execution_count": 1,
      "metadata": {},
      "outputs": [
        {
          "name": "stdout",
          "output_type": "stream",
          "text": [
            ": Vancouver\n   :        12"
          ]
        }
      ],
      "source": [
        "islands[index]"
      ]
    },
    {
      "cell_type": "markdown",
      "metadata": {},
      "source": [
        "1.  How many values of `islands` are larger than the next-to-last value\n    of `islands`?\n\n"
      ]
    },
    {
      "cell_type": "code",
      "execution_count": 1,
      "metadata": {},
      "outputs": [
        {
          "name": "stdout",
          "output_type": "stream",
          "text": [
            ": [1] 47"
          ]
        }
      ],
      "source": [
        "length(islands[islands > islands[index]])"
      ]
    },
    {
      "cell_type": "markdown",
      "metadata": {},
      "source": [
        "1.  What is the landmass of all areas listed in `islands`?\n\n"
      ]
    },
    {
      "cell_type": "code",
      "execution_count": 1,
      "metadata": {},
      "outputs": [
        {
          "name": "stdout",
          "output_type": "stream",
          "text": [
            ": [1] \"Total landmass: 60131 thousands of square miles.\""
          ]
        }
      ],
      "source": [
        "paste(\"Total landmass:\", sum(islands), \"thousands of square miles.\")"
      ]
    },
    {
      "cell_type": "markdown",
      "metadata": {},
      "source": [
        "1.  Make a dot plot of all entries in the data set `islands` using the\n    `dotchart` function. As its only argument, use the\n    `log10`-transformed, ordered data set `areas <- log10(sort(islands))`.\n    \n    Add a line for the median of this data set, `median(areas)` and add\n    it to the plot with `abline(v=median(areas)`.\n\n"
      ]
    },
    {
      "cell_type": "code",
      "execution_count": 1,
      "metadata": {},
      "outputs": [
        {
          "data": {
            "image/png": "[encoded data removed]",
            "text/plain": "<matplotlib.figure.Figure>"
          },
          "metadata": {},
          "output_type": "display_data"
        }
      ],
      "source": [
        "areas <- log10(sort(islands))\nmd_areas <- median(areas)\ndotchart(areas)\nabline(v=md_areas)"
      ]
    },
    {
      "cell_type": "markdown",
      "metadata": {},
      "source": [
        "Tip: You can change the appearance of lines with the parameters\n    `col`, `lty`, `lwd`. E.g. `col=\"red, lty=2, lwd=2` for a red, dashed,\n    thick line.\n\n"
      ]
    }
  ],
  "metadata": {
    "org": null,
    "kernelspec": {
      "display_name": "R",
      "language": "R",
      "name": "ir"
    },
    "language_info": {
      "codemirror_mode": "r",
      "file_extension": ".r",
      "mimetype": "text/x-r-source",
      "name": "R",
      "pygments_lexer": "r",
      "version": "3.3.2"
    }
  },
  "nbformat": 4,
  "nbformat_minor": 0
}