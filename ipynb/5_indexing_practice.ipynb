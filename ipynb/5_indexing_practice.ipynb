{
  "cells": [
    {
      "cell_type": "markdown",
      "metadata": {},
      "source": [
        "## Indexing practice\n\n"
      ]
    },
    {
      "cell_type": "markdown",
      "metadata": {},
      "source": [
        "1.  Store a vector of these 10 values in `foo`: `7 5 6 1 2 10 8 3 8 2`\n\n"
      ]
    },
    {
      "cell_type": "code",
      "execution_count": 1,
      "metadata": {},
      "outputs": [
        {
          "name": "stdout",
          "output_type": "stream",
          "text": [
            ":  [1]  7  5  6  1  2 10  8  3  8  2\n   :  [1]  7  5  6  1  2 10  8  3  8  2"
          ]
        }
      ],
      "source": [
        "(foo <- c(7, 5, 6, 1, 2, 10, 8, 3, 8, 2))\nfoo"
      ]
    },
    {
      "cell_type": "markdown",
      "metadata": {},
      "source": [
        "1.  Show that the vector has 10 values using a function.\n\n"
      ]
    },
    {
      "cell_type": "code",
      "execution_count": 1,
      "metadata": {},
      "outputs": [
        {
          "name": "stdout",
          "output_type": "stream",
          "text": [
            ": [1] 10"
          ]
        }
      ],
      "source": [
        "length(foo)"
      ]
    },
    {
      "cell_type": "markdown",
      "metadata": {},
      "source": [
        "1.  Extract the fifth through seventh elements of `foo` and add `5` to\n    these elements (the answer should be: `7 15 13`).\n\n"
      ]
    },
    {
      "cell_type": "code",
      "execution_count": 1,
      "metadata": {},
      "outputs": [
        {
          "name": "stdout",
          "output_type": "stream",
          "text": [
            ": [1]  2 10  8\n   : [1]  7 15 13"
          ]
        }
      ],
      "source": [
        "foo[5:7]\nfoo[5:7] + 5"
      ]
    },
    {
      "cell_type": "markdown",
      "metadata": {},
      "source": [
        "1.  Create a logical flag vector with the command `foo >= 5`\n\n"
      ]
    },
    {
      "cell_type": "code",
      "execution_count": 1,
      "metadata": {},
      "outputs": [
        {
          "name": "stdout",
          "output_type": "stream",
          "text": [
            ":  [1]  TRUE  TRUE  TRUE FALSE FALSE  TRUE  TRUE FALSE  TRUE FALSE\n   : [1] TRUE\n   : [1] FALSE"
          ]
        }
      ],
      "source": [
        "foo >= 5 # because of vectorisation, R tests every element of foo:\nfoo[1] >= 5\nfoo[4] >= 5"
      ]
    },
    {
      "cell_type": "markdown",
      "metadata": {},
      "source": [
        "1.  Extract the elements of `foo` that are greater than or equal to 5 and\n    store them in `bar`\n\n"
      ]
    },
    {
      "cell_type": "code",
      "execution_count": 1,
      "metadata": {},
      "outputs": [
        {
          "name": "stdout",
          "output_type": "stream",
          "text": [
            ": [1]  7  5  6 10  8  8\n   :  [1]  7  5  6  1  2 10  8  3  8  2\n   : [1]  7  5  6 10  8  8"
          ]
        }
      ],
      "source": [
        "foo[c(TRUE, TRUE, TRUE,FALSE,FALSE,TRUE,TRUE,FALSE,TRUE,FALSE)]\nbar <- foo[foo >= 5]\nfoo; bar"
      ]
    },
    {
      "cell_type": "markdown",
      "metadata": {},
      "source": [
        "1.  Create a logical index vector named `index` that contains the indices\n    of the elements of `foo` that are greater than or equal to 5 using\n    the function `which`\n\n"
      ]
    },
    {
      "cell_type": "code",
      "execution_count": 1,
      "metadata": {},
      "outputs": [
        {
          "name": "stdout",
          "output_type": "stream",
          "text": [
            ": [1] 1 2 3 6 7 9\n   : [1] 1 2 3 6 7 9\n   :  [1]  7  5  6  1  2 10  8  3  8  2"
          ]
        }
      ],
      "source": [
        "which(c(TRUE, TRUE, TRUE,FALSE,FALSE,TRUE,TRUE,FALSE,TRUE,FALSE))\nindex <- which(foo >= 5)\nindex\nfoo"
      ]
    },
    {
      "cell_type": "markdown",
      "metadata": {},
      "source": [
        "1.  Print those elements of `foo` that are smaller than `5` using `index`\n\n"
      ]
    },
    {
      "cell_type": "code",
      "execution_count": 1,
      "metadata": {},
      "outputs": [
        {
          "name": "stdout",
          "output_type": "stream",
          "text": [
            ": [1] 1 2 3 2"
          ]
        }
      ],
      "source": [
        "foo[-index]"
      ]
    },
    {
      "cell_type": "markdown",
      "metadata": {},
      "source": [
        "1.  Print elements greater than or equal to 5\n\n"
      ]
    },
    {
      "cell_type": "code",
      "execution_count": 1,
      "metadata": {},
      "outputs": [
        {
          "name": "stdout",
          "output_type": "stream",
          "text": [
            ": [1]  7  5  6 10  8  8"
          ]
        }
      ],
      "source": [
        "foo[index]"
      ]
    }
  ],
  "metadata": {
    "org": null,
    "kernelspec": {
      "display_name": "R",
      "language": "R",
      "name": "ir"
    },
    "language_info": {
      "codemirror_mode": "r",
      "file_extension": ".r",
      "mimetype": "text/x-r-source",
      "name": "R",
      "pygments_lexer": "r",
      "version": "3.3.2"
    }
  },
  "nbformat": 4,
  "nbformat_minor": 0
}