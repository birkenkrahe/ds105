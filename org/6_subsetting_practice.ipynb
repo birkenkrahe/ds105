{
  "cells": [
    {
      "cell_type": "markdown",
      "metadata": {},
      "source": "In-class assignment: Subsetting and Extracting\n==============================================\n\n**Author:** [YourName]\n\n"
    },
    {
      "cell_type": "markdown",
      "metadata": {},
      "source": [
        "## README\n\n"
      ]
    },
    {
      "cell_type": "markdown",
      "metadata": {},
      "source": [
        "-   Practice file for the lecture on \"Subsetting and extracting indices\n    in R\" ([GitHub](https://github.com/birkenkrahe/ds1/blob/piHome/org/6_subsetting.org))\n-   All content from that lecture is also available [on YouTube](https://www.youtube.com/playlist?list=PL6SfZh1-kWXl3_YDc-8SS5EuG4h1aILHz)\n-   Create, execute and debug R code blocks as needed\n-   Upload the completed file as a class assignment ([Canvas](https://lyon.instructure.com/courses/568/assignments/2952))\n-   You find the solutions in the PDF repository (GitHub)\n\n"
      ]
    },
    {
      "cell_type": "markdown",
      "metadata": {},
      "source": [
        "## 10 QUESTIONS ABOUT THE NILE\n\n"
      ]
    },
    {
      "cell_type": "markdown",
      "metadata": {},
      "source": [
        "1.  Print the length of the data set `Nile` using an R function.\n\n"
      ]
    },
    {
      "cell_type": "code",
      "execution_count": 1,
      "metadata": {},
      "outputs": [],
      "source": [
        ""
      ]
    },
    {
      "cell_type": "markdown",
      "metadata": {},
      "source": [
        "1.  Retrieve the second to fifth value of the `Nile` data set.\n\n"
      ]
    },
    {
      "cell_type": "code",
      "execution_count": 1,
      "metadata": {},
      "outputs": [],
      "source": [
        ""
      ]
    },
    {
      "cell_type": "markdown",
      "metadata": {},
      "source": [
        "1.  Which data science (not R) question does the last output answer?\n    Write a full sentence.\n\n>      &#x2026;#+begin<sub>src</sub> R\n\n\\#+end<sub>src</sub>\n\n1.  Extract the year that corresponds to the last value of\n    `Nile`. Remember that the years are stored in `time(Nile)`.\n\n"
      ]
    },
    {
      "cell_type": "code",
      "execution_count": 1,
      "metadata": {},
      "outputs": [],
      "source": [
        ""
      ]
    },
    {
      "cell_type": "markdown",
      "metadata": {},
      "source": [
        "1.  What was the Nile flow in 1967? Tip: use a logical operator, and\n    store `time(Nile)` in `t` for the remaining questions.\n\n"
      ]
    },
    {
      "cell_type": "code",
      "execution_count": 1,
      "metadata": {},
      "outputs": [],
      "source": [
        ""
      ]
    },
    {
      "cell_type": "markdown",
      "metadata": {},
      "source": [
        "1.  What is the index of the third-to-last element of `Nile`? Use the\n    `which` function to answer this question.\n\n"
      ]
    },
    {
      "cell_type": "code",
      "execution_count": 1,
      "metadata": {},
      "outputs": [],
      "source": [
        ""
      ]
    },
    {
      "cell_type": "markdown",
      "metadata": {},
      "source": [
        "1.  How many values of `Nile` are larger than the third-to-last value?\n\n"
      ]
    },
    {
      "cell_type": "code",
      "execution_count": 1,
      "metadata": {},
      "outputs": [],
      "source": [
        ""
      ]
    },
    {
      "cell_type": "markdown",
      "metadata": {},
      "source": [
        "1.  How much water flowed down the Nile between 1871 and 1970?\n\n"
      ]
    },
    {
      "cell_type": "code",
      "execution_count": 1,
      "metadata": {},
      "outputs": [],
      "source": [
        ""
      ]
    },
    {
      "cell_type": "markdown",
      "metadata": {},
      "source": [
        "1.  In which year was the Nile at its lowest level? Use the `min`\n    function for this task and store the result in `tmin`\n\n"
      ]
    },
    {
      "cell_type": "code",
      "execution_count": 1,
      "metadata": {},
      "outputs": [],
      "source": [
        ""
      ]
    },
    {
      "cell_type": "markdown",
      "metadata": {},
      "source": [
        "1.  Make a line plot of all observations in the data set `Nile` using\n    `plot`, mark the year of the lowest level of the Nile with a\n    vertical line, and the average flow through the Nile with a\n    horizontal line. The result is stored in `nile.png`.\n    \n    You can draw a vertical line at point `x` with `abline(v=x)`, and a\n    horizontal line at point `y` with `abline(h=y)`.\n\n"
      ]
    },
    {
      "cell_type": "code",
      "execution_count": 1,
      "metadata": {},
      "outputs": [],
      "source": [
        "..."
      ]
    },
    {
      "cell_type": "markdown",
      "metadata": {},
      "source": [
        "Tip: You can change the appearance of lines with the parameters `col`,\n    `lty`, `lwd`. E.g. `col=\"red, lty=2, lwd=2` for a red, dashed, thick\n    line.\n\n"
      ]
    },
    {
      "cell_type": "code",
      "execution_count": 1,
      "metadata": {},
      "outputs": [],
      "source": [
        ""
      ]
    }
  ],
  "metadata": {
    "org": null,
    "kernelspec": {
      "display_name": "R",
      "language": "R",
      "name": "ir"
    },
    "language_info": {
      "codemirror_mode": "r",
      "file_extension": ".r",
      "mimetype": "text/x-r-source",
      "name": "R",
      "pygments_lexer": "r",
      "version": "3.3.2"
    }
  },
  "nbformat": 4,
  "nbformat_minor": 0
}