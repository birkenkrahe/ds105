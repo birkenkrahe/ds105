{
  "cells": [
    {
      "cell_type": "markdown",
      "metadata": {},
      "source": [
        "##### Timothy's plotting question\n\n"
      ]
    },
    {
      "cell_type": "markdown",
      "metadata": {},
      "source": [
        "Timothy wanted to know how to plot two graphs with different y-scales\nover one another so that the y-scales are aligned.\n\nCreate datasets:\n\n"
      ]
    },
    {
      "cell_type": "code",
      "execution_count": 1,
      "metadata": {},
      "outputs": [
        {
          "name": "stdout",
          "output_type": "stream",
          "text": [
            "#+begin_example\n    x        y1\n1   1   0.00000\n2   2  11.11111\n3   3  22.22222\n4   4  33.33333\n5   5  44.44444\n6   6  55.55556\n7   7  66.66667\n8   8  77.77778\n9   9  88.88889\n10 10 100.00000\n    x        y2\n1   1 -10.00000\n2   2  13.33333\n3   3  36.66667\n4   4  60.00000\n5   5  83.33333\n6   6 106.66667\n7   7 130.00000\n8   8 153.33333\n9   9 176.66667\n10 10 200.00000\n#+end_example"
          ]
        }
      ],
      "source": [
        "df1 = data.frame(x=1:10,y1=seq(from=0,to=100,length.out=10))\ndf2 = data.frame(x=1:10,y2=seq(from=-10,to=200,length.out=10))\n\ndf1\ndf2"
      ]
    },
    {
      "cell_type": "markdown",
      "metadata": {},
      "source": [
        "Plot the datasets next to one another\n\n"
      ]
    },
    {
      "cell_type": "code",
      "execution_count": 1,
      "metadata": {},
      "outputs": [
        {
          "data": {
            "image/png": "[encoded data removed]",
            "text/plain": "<matplotlib.figure.Figure>"
          },
          "metadata": {},
          "output_type": "display_data"
        }
      ],
      "source": [
        "## 1 x 2 frame, use [s]quare plotting region\npar(mfrow=c(1,2), pty='s') # 1 x 2 frame, use [s]quare plotting region\n\n## plot first dataset - separate y-axis\nplot(df1$x, df1$y1, type = \"l\", col = \"blue\",\n     xlab = \"X-axis\", ylab = \"Y-axis for Dataset 1\",\n     main='First dataset:\\nseparate y-axis')\n\n## plot second dataset - separate y-axis\nplot(df2$x, df2$y2, type = \"l\", col = \"red\",\n     xlab = \"X-axis\", ylab = \"Y-axis for Dataset 21\",\n     main='Second dataset:\\nseparate y-axis')"
      ]
    },
    {
      "cell_type": "markdown",
      "metadata": {},
      "source": [
        "Let's plot them next to one another but with aligned y-scales. To do\nthat, we add the parameter `ylim` and set it to the larger of the two\nintervals:\n\n"
      ]
    },
    {
      "cell_type": "code",
      "execution_count": 1,
      "metadata": {},
      "outputs": [
        {
          "data": {
            "image/png": "[encoded data removed]",
            "text/plain": "<matplotlib.figure.Figure>"
          },
          "metadata": {},
          "output_type": "display_data"
        }
      ],
      "source": [
        "## 1 x 2 frame, use [s]quare plotting region\npar(mfrow=c(1,2), pty='s') \n\n## plot first dataset - aligned y-axis\nplot(df1$x, df1$y1, type = \"l\", col = \"blue\", ylim = c(-10,200),\n     xlab = \"X-axis\", ylab = \"Y-axis for Dataset 1 and 2\",\n     main='First dataset:\\naligned y-scales')\n\n## Plot the second dataset with its own y-axis\nplot(df2$x, df2$y2, type = \"l\", col = \"red\", ylim = c(-10, 200),\n     xlab=\"\",ylab=\"\",main='Second dataset:\\naligned y-scales')"
      ]
    },
    {
      "cell_type": "markdown",
      "metadata": {},
      "source": [
        "Now we remove all x-y-axis information from the second graph and plot\nit on top of the first - `par(new=True)` enables that:\n\n"
      ]
    },
    {
      "cell_type": "code",
      "execution_count": 1,
      "metadata": {},
      "outputs": [
        {
          "data": {
            "image/png": "[encoded data removed]",
            "text/plain": "<matplotlib.figure.Figure>"
          },
          "metadata": {},
          "output_type": "display_data"
        }
      ],
      "source": [
        "## 1 x 1 frame\npar(mfrow=c(1,1))\n\n## plot first dataset with y-axis and labels\nplot(df1$x, df1$y1, type = \"l\", col = \"blue\", ylim = c(-10,200),\n     xlab = \"X-axis\", ylab = \"Y-axis for Dataset 1 and 2\",\n     main='First and second dataset')\n\n## allow for the next plot to be plotted on top of the first\npar(new=TRUE)\n\n## Plot the second dataset without labels on top of the first\nplot(df2$x, df2$y2, type = \"l\", col = \"red\", ylim = c(-10, 200),\n     xaxt = \"n\", yaxt = \"n\", xlab = \"\", ylab = \"\", ann = FALSE,\n     main=\"\")"
      ]
    }
  ],
  "metadata": {
    "org": null,
    "kernelspec": {
      "display_name": "R",
      "language": "R",
      "name": "ir"
    },
    "language_info": {
      "codemirror_mode": "r",
      "file_extension": ".r",
      "mimetype": "text/x-r-source",
      "name": "R",
      "pygments_lexer": "r",
      "version": "3.3.2"
    }
  },
  "nbformat": 4,
  "nbformat_minor": 0
}